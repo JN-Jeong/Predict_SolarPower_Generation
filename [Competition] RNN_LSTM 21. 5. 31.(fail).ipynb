{
 "cells": [
  {
   "cell_type": "code",
   "execution_count": 2,
   "id": "fca34208",
   "metadata": {},
   "outputs": [],
   "source": [
    "import os\n",
    "import datetime\n",
    "\n",
    "import numpy as np\n",
    "import pandas as pd\n",
    "import matplotlib.pyplot as plt\n",
    "import seaborn as sns\n",
    "import tensorflow as tf\n",
    "from sklearn.preprocessing import MinMaxScaler\n",
    "from sklearn.model_selection import train_test_split"
   ]
  },
  {
   "cell_type": "code",
   "execution_count": 3,
   "id": "3a632ac6",
   "metadata": {},
   "outputs": [],
   "source": [
    "site = pd.read_csv('data/site_info.csv')\n",
    "energy = pd.read_csv('data/energy.csv')\n",
    "dangjin_fcst = pd.read_csv('data/add_dangjin_wind_time_insolation.csv')\n",
    "ulsan_fcst = pd.read_csv('data/add_ulsan_wind_time_insolation.csv')"
   ]
  },
  {
   "cell_type": "code",
   "execution_count": 4,
   "id": "e820b64f",
   "metadata": {
    "scrolled": true
   },
   "outputs": [
    {
     "output_type": "execute_result",
     "data": {
      "text/plain": [
       "                      time  dangjin_floating  dangjin_warehouse  dangjin  \\\n",
       "0       2018-03-01 1:00:00               0.0                0.0        0   \n",
       "1       2018-03-01 2:00:00               0.0                0.0        0   \n",
       "2       2018-03-01 3:00:00               0.0                0.0        0   \n",
       "3       2018-03-01 4:00:00               0.0                0.0        0   \n",
       "4       2018-03-01 5:00:00               0.0                0.0        0   \n",
       "...                    ...               ...                ...      ...   \n",
       "25627  2021-01-31 20:00:00               0.0                0.0        0   \n",
       "25628  2021-01-31 21:00:00               0.0                0.0        0   \n",
       "25629  2021-01-31 22:00:00               0.0                0.0        0   \n",
       "25630  2021-01-31 23:00:00               0.0                0.0        0   \n",
       "25631  2021-01-31 24:00:00               0.0                0.0        0   \n",
       "\n",
       "       ulsan  \n",
       "0          0  \n",
       "1          0  \n",
       "2          0  \n",
       "3          0  \n",
       "4          0  \n",
       "...      ...  \n",
       "25627      0  \n",
       "25628      0  \n",
       "25629      0  \n",
       "25630      0  \n",
       "25631      0  \n",
       "\n",
       "[25632 rows x 5 columns]"
      ],
      "text/html": "<div>\n<style scoped>\n    .dataframe tbody tr th:only-of-type {\n        vertical-align: middle;\n    }\n\n    .dataframe tbody tr th {\n        vertical-align: top;\n    }\n\n    .dataframe thead th {\n        text-align: right;\n    }\n</style>\n<table border=\"1\" class=\"dataframe\">\n  <thead>\n    <tr style=\"text-align: right;\">\n      <th></th>\n      <th>time</th>\n      <th>dangjin_floating</th>\n      <th>dangjin_warehouse</th>\n      <th>dangjin</th>\n      <th>ulsan</th>\n    </tr>\n  </thead>\n  <tbody>\n    <tr>\n      <th>0</th>\n      <td>2018-03-01 1:00:00</td>\n      <td>0.0</td>\n      <td>0.0</td>\n      <td>0</td>\n      <td>0</td>\n    </tr>\n    <tr>\n      <th>1</th>\n      <td>2018-03-01 2:00:00</td>\n      <td>0.0</td>\n      <td>0.0</td>\n      <td>0</td>\n      <td>0</td>\n    </tr>\n    <tr>\n      <th>2</th>\n      <td>2018-03-01 3:00:00</td>\n      <td>0.0</td>\n      <td>0.0</td>\n      <td>0</td>\n      <td>0</td>\n    </tr>\n    <tr>\n      <th>3</th>\n      <td>2018-03-01 4:00:00</td>\n      <td>0.0</td>\n      <td>0.0</td>\n      <td>0</td>\n      <td>0</td>\n    </tr>\n    <tr>\n      <th>4</th>\n      <td>2018-03-01 5:00:00</td>\n      <td>0.0</td>\n      <td>0.0</td>\n      <td>0</td>\n      <td>0</td>\n    </tr>\n    <tr>\n      <th>...</th>\n      <td>...</td>\n      <td>...</td>\n      <td>...</td>\n      <td>...</td>\n      <td>...</td>\n    </tr>\n    <tr>\n      <th>25627</th>\n      <td>2021-01-31 20:00:00</td>\n      <td>0.0</td>\n      <td>0.0</td>\n      <td>0</td>\n      <td>0</td>\n    </tr>\n    <tr>\n      <th>25628</th>\n      <td>2021-01-31 21:00:00</td>\n      <td>0.0</td>\n      <td>0.0</td>\n      <td>0</td>\n      <td>0</td>\n    </tr>\n    <tr>\n      <th>25629</th>\n      <td>2021-01-31 22:00:00</td>\n      <td>0.0</td>\n      <td>0.0</td>\n      <td>0</td>\n      <td>0</td>\n    </tr>\n    <tr>\n      <th>25630</th>\n      <td>2021-01-31 23:00:00</td>\n      <td>0.0</td>\n      <td>0.0</td>\n      <td>0</td>\n      <td>0</td>\n    </tr>\n    <tr>\n      <th>25631</th>\n      <td>2021-01-31 24:00:00</td>\n      <td>0.0</td>\n      <td>0.0</td>\n      <td>0</td>\n      <td>0</td>\n    </tr>\n  </tbody>\n</table>\n<p>25632 rows × 5 columns</p>\n</div>"
     },
     "metadata": {},
     "execution_count": 4
    }
   ],
   "source": [
    "energy"
   ]
  },
  {
   "cell_type": "code",
   "execution_count": 5,
   "id": "0e439abe",
   "metadata": {
    "scrolled": true
   },
   "outputs": [
    {
     "output_type": "execute_result",
     "data": {
      "text/plain": [
       "             Forecast_time  Temperature   Humidity  WindSpeed  WindDirection  \\\n",
       "0      2018-03-02 00:00:00    -2.000000  55.000000   6.700000     336.000000   \n",
       "1      2018-03-02 01:00:00    -2.333333  55.000000   6.133333     337.000000   \n",
       "2      2018-03-02 02:00:00    -2.666667  55.000000   5.566667     338.000000   \n",
       "3      2018-03-02 03:00:00    -3.000000  55.000000   5.000000     339.000000   \n",
       "4      2018-03-02 04:00:00    -3.333333  56.666667   4.700000     343.666667   \n",
       "...                    ...          ...        ...        ...            ...   \n",
       "26299  2021-03-01 19:00:00     5.333333  83.333333   7.466667      20.333333   \n",
       "26300  2021-03-01 20:00:00     4.666667  81.666667   7.333333      23.666667   \n",
       "26301  2021-03-01 21:00:00     4.000000  80.000000   7.200000      27.000000   \n",
       "26302  2021-03-01 22:00:00     4.000000  80.000000   7.200000      27.000000   \n",
       "26303  2021-03-01 23:00:00     4.000000  80.000000   7.200000      27.000000   \n",
       "\n",
       "       Cloud    Wind_X    Wind_Y       Day sin       Day cos  Year sin  \\\n",
       "0        1.0  6.120755 -2.725136 -7.071068e-01 -7.071068e-01  0.858280   \n",
       "1        1.0  5.645763 -2.396484 -8.660254e-01 -5.000000e-01  0.858648   \n",
       "2        1.0  5.161323 -2.085310 -9.659258e-01 -2.588190e-01  0.859015   \n",
       "3        1.0  4.667902 -1.791840 -1.000000e+00 -3.848660e-12  0.859382   \n",
       "4        1.0  4.510317 -1.321758 -9.659258e-01  2.588190e-01  0.859748   \n",
       "...      ...       ...       ...           ...           ...       ...   \n",
       "26299    4.0  7.001396  2.594527  5.000000e-01 -8.660254e-01  0.858846   \n",
       "26300    4.0  6.716573  2.943710  2.588190e-01 -9.659258e-01  0.859213   \n",
       "26301    4.0  6.415247  3.268732  4.907520e-12 -1.000000e+00  0.859579   \n",
       "26302    4.0  6.415247  3.268732 -2.588190e-01 -9.659258e-01  0.859945   \n",
       "26303    4.0  6.415247  3.268732 -5.000000e-01 -8.660254e-01  0.860311   \n",
       "\n",
       "       Year cos  declination   sunrise     sunset  altitude  Insolation  \n",
       "0      0.513182    -8.293705  6.993442  17.189351       0.0         0.0  \n",
       "1      0.512566    -8.293705  6.993442  17.189351       0.0         0.0  \n",
       "2      0.511951    -8.293705  6.993442  17.189351       0.0         0.0  \n",
       "3      0.511335    -8.293705  6.993442  17.189351       0.0         0.0  \n",
       "4      0.510719    -8.293705  6.993442  17.189351       0.0         0.0  \n",
       "...         ...          ...       ...        ...       ...         ...  \n",
       "26299  0.512234    -8.293705  6.993442  17.189351       0.0         0.0  \n",
       "26300  0.511618    -8.293705  6.993442  17.189351       0.0         0.0  \n",
       "26301  0.511002    -8.293705  6.993442  17.189351       0.0         0.0  \n",
       "26302  0.510386    -8.293705  6.993442  17.189351       0.0         0.0  \n",
       "26303  0.509769    -8.293705  6.993442  17.189351       0.0         0.0  \n",
       "\n",
       "[26304 rows x 17 columns]"
      ],
      "text/html": "<div>\n<style scoped>\n    .dataframe tbody tr th:only-of-type {\n        vertical-align: middle;\n    }\n\n    .dataframe tbody tr th {\n        vertical-align: top;\n    }\n\n    .dataframe thead th {\n        text-align: right;\n    }\n</style>\n<table border=\"1\" class=\"dataframe\">\n  <thead>\n    <tr style=\"text-align: right;\">\n      <th></th>\n      <th>Forecast_time</th>\n      <th>Temperature</th>\n      <th>Humidity</th>\n      <th>WindSpeed</th>\n      <th>WindDirection</th>\n      <th>Cloud</th>\n      <th>Wind_X</th>\n      <th>Wind_Y</th>\n      <th>Day sin</th>\n      <th>Day cos</th>\n      <th>Year sin</th>\n      <th>Year cos</th>\n      <th>declination</th>\n      <th>sunrise</th>\n      <th>sunset</th>\n      <th>altitude</th>\n      <th>Insolation</th>\n    </tr>\n  </thead>\n  <tbody>\n    <tr>\n      <th>0</th>\n      <td>2018-03-02 00:00:00</td>\n      <td>-2.000000</td>\n      <td>55.000000</td>\n      <td>6.700000</td>\n      <td>336.000000</td>\n      <td>1.0</td>\n      <td>6.120755</td>\n      <td>-2.725136</td>\n      <td>-7.071068e-01</td>\n      <td>-7.071068e-01</td>\n      <td>0.858280</td>\n      <td>0.513182</td>\n      <td>-8.293705</td>\n      <td>6.993442</td>\n      <td>17.189351</td>\n      <td>0.0</td>\n      <td>0.0</td>\n    </tr>\n    <tr>\n      <th>1</th>\n      <td>2018-03-02 01:00:00</td>\n      <td>-2.333333</td>\n      <td>55.000000</td>\n      <td>6.133333</td>\n      <td>337.000000</td>\n      <td>1.0</td>\n      <td>5.645763</td>\n      <td>-2.396484</td>\n      <td>-8.660254e-01</td>\n      <td>-5.000000e-01</td>\n      <td>0.858648</td>\n      <td>0.512566</td>\n      <td>-8.293705</td>\n      <td>6.993442</td>\n      <td>17.189351</td>\n      <td>0.0</td>\n      <td>0.0</td>\n    </tr>\n    <tr>\n      <th>2</th>\n      <td>2018-03-02 02:00:00</td>\n      <td>-2.666667</td>\n      <td>55.000000</td>\n      <td>5.566667</td>\n      <td>338.000000</td>\n      <td>1.0</td>\n      <td>5.161323</td>\n      <td>-2.085310</td>\n      <td>-9.659258e-01</td>\n      <td>-2.588190e-01</td>\n      <td>0.859015</td>\n      <td>0.511951</td>\n      <td>-8.293705</td>\n      <td>6.993442</td>\n      <td>17.189351</td>\n      <td>0.0</td>\n      <td>0.0</td>\n    </tr>\n    <tr>\n      <th>3</th>\n      <td>2018-03-02 03:00:00</td>\n      <td>-3.000000</td>\n      <td>55.000000</td>\n      <td>5.000000</td>\n      <td>339.000000</td>\n      <td>1.0</td>\n      <td>4.667902</td>\n      <td>-1.791840</td>\n      <td>-1.000000e+00</td>\n      <td>-3.848660e-12</td>\n      <td>0.859382</td>\n      <td>0.511335</td>\n      <td>-8.293705</td>\n      <td>6.993442</td>\n      <td>17.189351</td>\n      <td>0.0</td>\n      <td>0.0</td>\n    </tr>\n    <tr>\n      <th>4</th>\n      <td>2018-03-02 04:00:00</td>\n      <td>-3.333333</td>\n      <td>56.666667</td>\n      <td>4.700000</td>\n      <td>343.666667</td>\n      <td>1.0</td>\n      <td>4.510317</td>\n      <td>-1.321758</td>\n      <td>-9.659258e-01</td>\n      <td>2.588190e-01</td>\n      <td>0.859748</td>\n      <td>0.510719</td>\n      <td>-8.293705</td>\n      <td>6.993442</td>\n      <td>17.189351</td>\n      <td>0.0</td>\n      <td>0.0</td>\n    </tr>\n    <tr>\n      <th>...</th>\n      <td>...</td>\n      <td>...</td>\n      <td>...</td>\n      <td>...</td>\n      <td>...</td>\n      <td>...</td>\n      <td>...</td>\n      <td>...</td>\n      <td>...</td>\n      <td>...</td>\n      <td>...</td>\n      <td>...</td>\n      <td>...</td>\n      <td>...</td>\n      <td>...</td>\n      <td>...</td>\n      <td>...</td>\n    </tr>\n    <tr>\n      <th>26299</th>\n      <td>2021-03-01 19:00:00</td>\n      <td>5.333333</td>\n      <td>83.333333</td>\n      <td>7.466667</td>\n      <td>20.333333</td>\n      <td>4.0</td>\n      <td>7.001396</td>\n      <td>2.594527</td>\n      <td>5.000000e-01</td>\n      <td>-8.660254e-01</td>\n      <td>0.858846</td>\n      <td>0.512234</td>\n      <td>-8.293705</td>\n      <td>6.993442</td>\n      <td>17.189351</td>\n      <td>0.0</td>\n      <td>0.0</td>\n    </tr>\n    <tr>\n      <th>26300</th>\n      <td>2021-03-01 20:00:00</td>\n      <td>4.666667</td>\n      <td>81.666667</td>\n      <td>7.333333</td>\n      <td>23.666667</td>\n      <td>4.0</td>\n      <td>6.716573</td>\n      <td>2.943710</td>\n      <td>2.588190e-01</td>\n      <td>-9.659258e-01</td>\n      <td>0.859213</td>\n      <td>0.511618</td>\n      <td>-8.293705</td>\n      <td>6.993442</td>\n      <td>17.189351</td>\n      <td>0.0</td>\n      <td>0.0</td>\n    </tr>\n    <tr>\n      <th>26301</th>\n      <td>2021-03-01 21:00:00</td>\n      <td>4.000000</td>\n      <td>80.000000</td>\n      <td>7.200000</td>\n      <td>27.000000</td>\n      <td>4.0</td>\n      <td>6.415247</td>\n      <td>3.268732</td>\n      <td>4.907520e-12</td>\n      <td>-1.000000e+00</td>\n      <td>0.859579</td>\n      <td>0.511002</td>\n      <td>-8.293705</td>\n      <td>6.993442</td>\n      <td>17.189351</td>\n      <td>0.0</td>\n      <td>0.0</td>\n    </tr>\n    <tr>\n      <th>26302</th>\n      <td>2021-03-01 22:00:00</td>\n      <td>4.000000</td>\n      <td>80.000000</td>\n      <td>7.200000</td>\n      <td>27.000000</td>\n      <td>4.0</td>\n      <td>6.415247</td>\n      <td>3.268732</td>\n      <td>-2.588190e-01</td>\n      <td>-9.659258e-01</td>\n      <td>0.859945</td>\n      <td>0.510386</td>\n      <td>-8.293705</td>\n      <td>6.993442</td>\n      <td>17.189351</td>\n      <td>0.0</td>\n      <td>0.0</td>\n    </tr>\n    <tr>\n      <th>26303</th>\n      <td>2021-03-01 23:00:00</td>\n      <td>4.000000</td>\n      <td>80.000000</td>\n      <td>7.200000</td>\n      <td>27.000000</td>\n      <td>4.0</td>\n      <td>6.415247</td>\n      <td>3.268732</td>\n      <td>-5.000000e-01</td>\n      <td>-8.660254e-01</td>\n      <td>0.860311</td>\n      <td>0.509769</td>\n      <td>-8.293705</td>\n      <td>6.993442</td>\n      <td>17.189351</td>\n      <td>0.0</td>\n      <td>0.0</td>\n    </tr>\n  </tbody>\n</table>\n<p>26304 rows × 17 columns</p>\n</div>"
     },
     "metadata": {},
     "execution_count": 5
    }
   ],
   "source": [
    "dangjin_fcst"
   ]
  },
  {
   "cell_type": "code",
   "execution_count": 6,
   "id": "f47b01f3",
   "metadata": {},
   "outputs": [
    {
     "output_type": "execute_result",
     "data": {
      "text/plain": [
       "          Id  Capacity            Address  InstallationAngle  IncidentAngle  \\\n",
       "0    당진수상태양광       1.0  충남 당진시 석문면 교로길 30               30.0           30.0   \n",
       "1  당진자재창고태양광       0.7  충남 당진시 석문면 교로길 30               30.0           30.0   \n",
       "2      당진태양광       1.0  충남 당진시 석문면 교로길 30               30.0           30.0   \n",
       "3      울산태양광       0.5   울산광역시 남구 용잠로 623               20.0           20.0   \n",
       "\n",
       "    Latitude   Longitude  \n",
       "0  37.050753  126.510299  \n",
       "1  37.050753  126.510299  \n",
       "2  37.050753  126.510299  \n",
       "3  35.477651  129.380778  "
      ],
      "text/html": "<div>\n<style scoped>\n    .dataframe tbody tr th:only-of-type {\n        vertical-align: middle;\n    }\n\n    .dataframe tbody tr th {\n        vertical-align: top;\n    }\n\n    .dataframe thead th {\n        text-align: right;\n    }\n</style>\n<table border=\"1\" class=\"dataframe\">\n  <thead>\n    <tr style=\"text-align: right;\">\n      <th></th>\n      <th>Id</th>\n      <th>Capacity</th>\n      <th>Address</th>\n      <th>InstallationAngle</th>\n      <th>IncidentAngle</th>\n      <th>Latitude</th>\n      <th>Longitude</th>\n    </tr>\n  </thead>\n  <tbody>\n    <tr>\n      <th>0</th>\n      <td>당진수상태양광</td>\n      <td>1.0</td>\n      <td>충남 당진시 석문면 교로길 30</td>\n      <td>30.0</td>\n      <td>30.0</td>\n      <td>37.050753</td>\n      <td>126.510299</td>\n    </tr>\n    <tr>\n      <th>1</th>\n      <td>당진자재창고태양광</td>\n      <td>0.7</td>\n      <td>충남 당진시 석문면 교로길 30</td>\n      <td>30.0</td>\n      <td>30.0</td>\n      <td>37.050753</td>\n      <td>126.510299</td>\n    </tr>\n    <tr>\n      <th>2</th>\n      <td>당진태양광</td>\n      <td>1.0</td>\n      <td>충남 당진시 석문면 교로길 30</td>\n      <td>30.0</td>\n      <td>30.0</td>\n      <td>37.050753</td>\n      <td>126.510299</td>\n    </tr>\n    <tr>\n      <th>3</th>\n      <td>울산태양광</td>\n      <td>0.5</td>\n      <td>울산광역시 남구 용잠로 623</td>\n      <td>20.0</td>\n      <td>20.0</td>\n      <td>35.477651</td>\n      <td>129.380778</td>\n    </tr>\n  </tbody>\n</table>\n</div>"
     },
     "metadata": {},
     "execution_count": 6
    }
   ],
   "source": [
    "site"
   ]
  },
  {
   "cell_type": "code",
   "execution_count": 7,
   "metadata": {},
   "outputs": [],
   "source": [
    "c_floating = 1000\n",
    "c_warehouse = 700\n",
    "c_dangjin = 1000\n",
    "c_ulsan = 500"
   ]
  },
  {
   "cell_type": "code",
   "execution_count": 45,
   "id": "0659ea27",
   "metadata": {},
   "outputs": [],
   "source": [
    "model_path = 'model'\n",
    "filename = []\n",
    "filename.append(os.path.join(model_path, 'floating_checkpoint.h5'))\n",
    "filename.append(os.path.join(model_path, 'warehouse_checkpoint.h5'))\n",
    "filename.append(os.path.join(model_path, 'dangjin_checkpoint.h5'))\n",
    "filename.append(os.path.join(model_path, 'ulsan_checkpoint.h5'))"
   ]
  },
  {
   "cell_type": "code",
   "execution_count": 9,
   "id": "1dbaaa79",
   "metadata": {},
   "outputs": [],
   "source": [
    "def make_dataset(data, label, window_size=24):\n",
    "    feature_list = []\n",
    "    label_list = []\n",
    "    for i in range(len(data) - window_size):\n",
    "        feature_list.append(np.array(data.iloc[i:i+window_size]))\n",
    "        label_list.append(np.array(label.iloc[i+window_size]))\n",
    "    return np.array(feature_list), np.array(label_list)"
   ]
  },
  {
   "cell_type": "code",
   "execution_count": 10,
   "id": "a3228fe6",
   "metadata": {},
   "outputs": [],
   "source": [
    "def root_mean_squared_error (y_true, y_pred):\n",
    "    return K.sqrt(K.mean(K.square(y_pred - y_true))) "
   ]
  },
  {
   "cell_type": "code",
   "execution_count": 11,
   "id": "5dd4dcb8",
   "metadata": {
    "scrolled": true
   },
   "outputs": [
    {
     "output_type": "execute_result",
     "data": {
      "text/plain": [
       "             Forecast_time  Temperature   Humidity  WindSpeed  WindDirection  \\\n",
       "0      2018-03-02 00:00:00    -2.000000  55.000000   6.700000     336.000000   \n",
       "1      2018-03-02 01:00:00    -2.333333  55.000000   6.133333     337.000000   \n",
       "2      2018-03-02 02:00:00    -2.666667  55.000000   5.566667     338.000000   \n",
       "3      2018-03-02 03:00:00    -3.000000  55.000000   5.000000     339.000000   \n",
       "4      2018-03-02 04:00:00    -3.333333  56.666667   4.700000     343.666667   \n",
       "...                    ...          ...        ...        ...            ...   \n",
       "26299  2021-03-01 19:00:00     5.333333  83.333333   7.466667      20.333333   \n",
       "26300  2021-03-01 20:00:00     4.666667  81.666667   7.333333      23.666667   \n",
       "26301  2021-03-01 21:00:00     4.000000  80.000000   7.200000      27.000000   \n",
       "26302  2021-03-01 22:00:00     4.000000  80.000000   7.200000      27.000000   \n",
       "26303  2021-03-01 23:00:00     4.000000  80.000000   7.200000      27.000000   \n",
       "\n",
       "       Cloud    Wind_X    Wind_Y       Day sin       Day cos  Year sin  \\\n",
       "0        1.0  6.120755 -2.725136 -7.071068e-01 -7.071068e-01  0.858280   \n",
       "1        1.0  5.645763 -2.396484 -8.660254e-01 -5.000000e-01  0.858648   \n",
       "2        1.0  5.161323 -2.085310 -9.659258e-01 -2.588190e-01  0.859015   \n",
       "3        1.0  4.667902 -1.791840 -1.000000e+00 -3.848660e-12  0.859382   \n",
       "4        1.0  4.510317 -1.321758 -9.659258e-01  2.588190e-01  0.859748   \n",
       "...      ...       ...       ...           ...           ...       ...   \n",
       "26299    4.0  7.001396  2.594527  5.000000e-01 -8.660254e-01  0.858846   \n",
       "26300    4.0  6.716573  2.943710  2.588190e-01 -9.659258e-01  0.859213   \n",
       "26301    4.0  6.415247  3.268732  4.907520e-12 -1.000000e+00  0.859579   \n",
       "26302    4.0  6.415247  3.268732 -2.588190e-01 -9.659258e-01  0.859945   \n",
       "26303    4.0  6.415247  3.268732 -5.000000e-01 -8.660254e-01  0.860311   \n",
       "\n",
       "       Year cos  declination   sunrise     sunset  altitude  Insolation  \\\n",
       "0      0.513182    -8.293705  6.993442  17.189351       0.0         0.0   \n",
       "1      0.512566    -8.293705  6.993442  17.189351       0.0         0.0   \n",
       "2      0.511951    -8.293705  6.993442  17.189351       0.0         0.0   \n",
       "3      0.511335    -8.293705  6.993442  17.189351       0.0         0.0   \n",
       "4      0.510719    -8.293705  6.993442  17.189351       0.0         0.0   \n",
       "...         ...          ...       ...        ...       ...         ...   \n",
       "26299  0.512234    -8.293705  6.993442  17.189351       0.0         0.0   \n",
       "26300  0.511618    -8.293705  6.993442  17.189351       0.0         0.0   \n",
       "26301  0.511002    -8.293705  6.993442  17.189351       0.0         0.0   \n",
       "26302  0.510386    -8.293705  6.993442  17.189351       0.0         0.0   \n",
       "26303  0.509769    -8.293705  6.993442  17.189351       0.0         0.0   \n",
       "\n",
       "       dangjin_floating  \n",
       "0                   0.0  \n",
       "1                   0.0  \n",
       "2                   0.0  \n",
       "3                   0.0  \n",
       "4                   0.0  \n",
       "...                 ...  \n",
       "26299               NaN  \n",
       "26300               NaN  \n",
       "26301               NaN  \n",
       "26302               NaN  \n",
       "26303               NaN  \n",
       "\n",
       "[26304 rows x 18 columns]"
      ],
      "text/html": "<div>\n<style scoped>\n    .dataframe tbody tr th:only-of-type {\n        vertical-align: middle;\n    }\n\n    .dataframe tbody tr th {\n        vertical-align: top;\n    }\n\n    .dataframe thead th {\n        text-align: right;\n    }\n</style>\n<table border=\"1\" class=\"dataframe\">\n  <thead>\n    <tr style=\"text-align: right;\">\n      <th></th>\n      <th>Forecast_time</th>\n      <th>Temperature</th>\n      <th>Humidity</th>\n      <th>WindSpeed</th>\n      <th>WindDirection</th>\n      <th>Cloud</th>\n      <th>Wind_X</th>\n      <th>Wind_Y</th>\n      <th>Day sin</th>\n      <th>Day cos</th>\n      <th>Year sin</th>\n      <th>Year cos</th>\n      <th>declination</th>\n      <th>sunrise</th>\n      <th>sunset</th>\n      <th>altitude</th>\n      <th>Insolation</th>\n      <th>dangjin_floating</th>\n    </tr>\n  </thead>\n  <tbody>\n    <tr>\n      <th>0</th>\n      <td>2018-03-02 00:00:00</td>\n      <td>-2.000000</td>\n      <td>55.000000</td>\n      <td>6.700000</td>\n      <td>336.000000</td>\n      <td>1.0</td>\n      <td>6.120755</td>\n      <td>-2.725136</td>\n      <td>-7.071068e-01</td>\n      <td>-7.071068e-01</td>\n      <td>0.858280</td>\n      <td>0.513182</td>\n      <td>-8.293705</td>\n      <td>6.993442</td>\n      <td>17.189351</td>\n      <td>0.0</td>\n      <td>0.0</td>\n      <td>0.0</td>\n    </tr>\n    <tr>\n      <th>1</th>\n      <td>2018-03-02 01:00:00</td>\n      <td>-2.333333</td>\n      <td>55.000000</td>\n      <td>6.133333</td>\n      <td>337.000000</td>\n      <td>1.0</td>\n      <td>5.645763</td>\n      <td>-2.396484</td>\n      <td>-8.660254e-01</td>\n      <td>-5.000000e-01</td>\n      <td>0.858648</td>\n      <td>0.512566</td>\n      <td>-8.293705</td>\n      <td>6.993442</td>\n      <td>17.189351</td>\n      <td>0.0</td>\n      <td>0.0</td>\n      <td>0.0</td>\n    </tr>\n    <tr>\n      <th>2</th>\n      <td>2018-03-02 02:00:00</td>\n      <td>-2.666667</td>\n      <td>55.000000</td>\n      <td>5.566667</td>\n      <td>338.000000</td>\n      <td>1.0</td>\n      <td>5.161323</td>\n      <td>-2.085310</td>\n      <td>-9.659258e-01</td>\n      <td>-2.588190e-01</td>\n      <td>0.859015</td>\n      <td>0.511951</td>\n      <td>-8.293705</td>\n      <td>6.993442</td>\n      <td>17.189351</td>\n      <td>0.0</td>\n      <td>0.0</td>\n      <td>0.0</td>\n    </tr>\n    <tr>\n      <th>3</th>\n      <td>2018-03-02 03:00:00</td>\n      <td>-3.000000</td>\n      <td>55.000000</td>\n      <td>5.000000</td>\n      <td>339.000000</td>\n      <td>1.0</td>\n      <td>4.667902</td>\n      <td>-1.791840</td>\n      <td>-1.000000e+00</td>\n      <td>-3.848660e-12</td>\n      <td>0.859382</td>\n      <td>0.511335</td>\n      <td>-8.293705</td>\n      <td>6.993442</td>\n      <td>17.189351</td>\n      <td>0.0</td>\n      <td>0.0</td>\n      <td>0.0</td>\n    </tr>\n    <tr>\n      <th>4</th>\n      <td>2018-03-02 04:00:00</td>\n      <td>-3.333333</td>\n      <td>56.666667</td>\n      <td>4.700000</td>\n      <td>343.666667</td>\n      <td>1.0</td>\n      <td>4.510317</td>\n      <td>-1.321758</td>\n      <td>-9.659258e-01</td>\n      <td>2.588190e-01</td>\n      <td>0.859748</td>\n      <td>0.510719</td>\n      <td>-8.293705</td>\n      <td>6.993442</td>\n      <td>17.189351</td>\n      <td>0.0</td>\n      <td>0.0</td>\n      <td>0.0</td>\n    </tr>\n    <tr>\n      <th>...</th>\n      <td>...</td>\n      <td>...</td>\n      <td>...</td>\n      <td>...</td>\n      <td>...</td>\n      <td>...</td>\n      <td>...</td>\n      <td>...</td>\n      <td>...</td>\n      <td>...</td>\n      <td>...</td>\n      <td>...</td>\n      <td>...</td>\n      <td>...</td>\n      <td>...</td>\n      <td>...</td>\n      <td>...</td>\n      <td>...</td>\n    </tr>\n    <tr>\n      <th>26299</th>\n      <td>2021-03-01 19:00:00</td>\n      <td>5.333333</td>\n      <td>83.333333</td>\n      <td>7.466667</td>\n      <td>20.333333</td>\n      <td>4.0</td>\n      <td>7.001396</td>\n      <td>2.594527</td>\n      <td>5.000000e-01</td>\n      <td>-8.660254e-01</td>\n      <td>0.858846</td>\n      <td>0.512234</td>\n      <td>-8.293705</td>\n      <td>6.993442</td>\n      <td>17.189351</td>\n      <td>0.0</td>\n      <td>0.0</td>\n      <td>NaN</td>\n    </tr>\n    <tr>\n      <th>26300</th>\n      <td>2021-03-01 20:00:00</td>\n      <td>4.666667</td>\n      <td>81.666667</td>\n      <td>7.333333</td>\n      <td>23.666667</td>\n      <td>4.0</td>\n      <td>6.716573</td>\n      <td>2.943710</td>\n      <td>2.588190e-01</td>\n      <td>-9.659258e-01</td>\n      <td>0.859213</td>\n      <td>0.511618</td>\n      <td>-8.293705</td>\n      <td>6.993442</td>\n      <td>17.189351</td>\n      <td>0.0</td>\n      <td>0.0</td>\n      <td>NaN</td>\n    </tr>\n    <tr>\n      <th>26301</th>\n      <td>2021-03-01 21:00:00</td>\n      <td>4.000000</td>\n      <td>80.000000</td>\n      <td>7.200000</td>\n      <td>27.000000</td>\n      <td>4.0</td>\n      <td>6.415247</td>\n      <td>3.268732</td>\n      <td>4.907520e-12</td>\n      <td>-1.000000e+00</td>\n      <td>0.859579</td>\n      <td>0.511002</td>\n      <td>-8.293705</td>\n      <td>6.993442</td>\n      <td>17.189351</td>\n      <td>0.0</td>\n      <td>0.0</td>\n      <td>NaN</td>\n    </tr>\n    <tr>\n      <th>26302</th>\n      <td>2021-03-01 22:00:00</td>\n      <td>4.000000</td>\n      <td>80.000000</td>\n      <td>7.200000</td>\n      <td>27.000000</td>\n      <td>4.0</td>\n      <td>6.415247</td>\n      <td>3.268732</td>\n      <td>-2.588190e-01</td>\n      <td>-9.659258e-01</td>\n      <td>0.859945</td>\n      <td>0.510386</td>\n      <td>-8.293705</td>\n      <td>6.993442</td>\n      <td>17.189351</td>\n      <td>0.0</td>\n      <td>0.0</td>\n      <td>NaN</td>\n    </tr>\n    <tr>\n      <th>26303</th>\n      <td>2021-03-01 23:00:00</td>\n      <td>4.000000</td>\n      <td>80.000000</td>\n      <td>7.200000</td>\n      <td>27.000000</td>\n      <td>4.0</td>\n      <td>6.415247</td>\n      <td>3.268732</td>\n      <td>-5.000000e-01</td>\n      <td>-8.660254e-01</td>\n      <td>0.860311</td>\n      <td>0.509769</td>\n      <td>-8.293705</td>\n      <td>6.993442</td>\n      <td>17.189351</td>\n      <td>0.0</td>\n      <td>0.0</td>\n      <td>NaN</td>\n    </tr>\n  </tbody>\n</table>\n<p>26304 rows × 18 columns</p>\n</div>"
     },
     "metadata": {},
     "execution_count": 11
    }
   ],
   "source": [
    "df = pd.concat([dangjin_fcst, energy['dangjin_floating']], axis=1)\n",
    "df\n",
    "# df['dangjin_floating'].isnull().sum()"
   ]
  },
  {
   "cell_type": "code",
   "execution_count": 12,
   "metadata": {},
   "outputs": [],
   "source": [
    "df.sort_index(ascending=False).reset_index(drop=True)\n",
    "\n",
    "scaler = MinMaxScaler()\n",
    "scale_cols = ['Temperature', 'Humidity', 'Cloud', 'Wind_X', 'Wind_Y', 'Day sin', 'Day cos', 'Year sin', 'Year cos', 'Insolation']\n",
    "df_scaled = scaler.fit_transform(df[scale_cols])\n",
    "df_scaled = pd.DataFrame(df_scaled)\n",
    "df_scaled['Generation'] = df['dangjin_floating'] / c_floating\n",
    "scale_cols.append('Generation')\n",
    "df_scaled.columns = scale_cols"
   ]
  },
  {
   "cell_type": "code",
   "execution_count": 13,
   "id": "55212bbc",
   "metadata": {},
   "outputs": [
    {
     "output_type": "stream",
     "name": "stderr",
     "text": [
      "ipykernel_launcher:8: SettingWithCopyWarning: \nA value is trying to be set on a copy of a slice from a DataFrame\n\nSee the caveats in the documentation: https://pandas.pydata.org/pandas-docs/stable/user_guide/indexing.html#returning-a-view-versus-a-copy\nipykernel_launcher:10: SettingWithCopyWarning: \nA value is trying to be set on a copy of a slice from a DataFrame\n\nSee the caveats in the documentation: https://pandas.pydata.org/pandas-docs/stable/user_guide/indexing.html#returning-a-view-versus-a-copy\n"
     ]
    }
   ],
   "source": [
    "feature_cols = ['Temperature', 'Humidity', 'Cloud', 'Wind_X', 'Wind_Y', 'Day sin', 'Day cos', 'Year sin', 'Year cos', 'Insolation']\n",
    "label_cols = ['Generation']\n",
    "\n",
    "window_size = 24\n",
    "n = len(df_scaled)\n",
    "\n",
    "train = df_scaled[:int(n*0.8)]\n",
    "train.dropna(axis=0, inplace=True)\n",
    "test = df_scaled[int(n*0.8):int(-(24*29))]\n",
    "test.dropna(axis=0, inplace=True)\n",
    "pred_input = df_scaled[int(-(24*29)):]"
   ]
  },
  {
   "cell_type": "code",
   "execution_count": 14,
   "id": "778ee48f",
   "metadata": {},
   "outputs": [
    {
     "output_type": "execute_result",
     "data": {
      "text/plain": [
       "((16796, 24, 10), (4199, 24, 10), (4541, 24, 10), (672, 24, 10))"
      ]
     },
     "metadata": {},
     "execution_count": 14
    }
   ],
   "source": [
    "train_feature, train_label = train[feature_cols], train[label_cols]\n",
    "train_feature, train_label = make_dataset(train_feature, train_label, window_size)\n",
    "\n",
    "x_train, x_valid, y_train, y_valid = train_test_split(train_feature, train_label, test_size=0.2)\n",
    "\n",
    "test_feature, test_label = test[feature_cols], test[label_cols]\n",
    "test_feature, test_label = make_dataset(test_feature, test_label, window_size)\n",
    "\n",
    "pred_feature, pred_label = pred_input[feature_cols], pred_input[label_cols]\n",
    "pred_feature, pred_label = make_dataset(pred_feature, pred_label, window_size)\n",
    "\n",
    "x_train.shape, x_valid.shape, test_feature.shape, pred_feature.shape"
   ]
  },
  {
   "cell_type": "code",
   "execution_count": 15,
   "id": "5270fb2f",
   "metadata": {},
   "outputs": [],
   "source": [
    "from tensorflow.keras.models import Sequential\n",
    "from tensorflow.keras.layers import Dense\n",
    "from tensorflow.keras.layers import LeakyReLU\n",
    "from tensorflow.keras.callbacks import EarlyStopping, ModelCheckpoint\n",
    "from tensorflow.keras.layers import LSTM\n",
    "from tensorflow.keras import backend as K\n",
    "\n",
    "import urllib\n",
    "from packaging import version\n",
    "import optuna\n",
    "\n",
    "epoch = 1"
   ]
  },
  {
   "cell_type": "code",
   "execution_count": 33,
   "id": "f7e015b4",
   "metadata": {},
   "outputs": [
    {
     "output_type": "stream",
     "name": "stderr",
     "text": [
      "\u001b[32m[I 2021-05-31 18:58:49,019]\u001b[0m A new study created in memory with name: no-name-f0ee59e2-9640-4cf7-89e7-2634845a5e08\u001b[0m\n",
      "\u001b[33m[W 2021-05-31 18:58:49,068]\u001b[0m Trial 0 failed because of the following error: ValueError('Layer sequential_15 expects 1 input(s), but it received 2 input tensors. Inputs received: [<tf.Tensor: shape=(24, 10), dtype=float64, numpy=\\narray([[0.26530612, 0.72222222, 0.        , 0.57755568, 0.45304071,\\n        0.5       , 0.        , 0.93295356, 0.75010242, 0.        ],\\n       [0.26190476, 0.73148148, 0.05555556, 0.57560098, 0.45137822,\\n        0.37059048, 0.01703709, 0.93313272, 0.74979202, 0.        ],\\n       [0.2585034 , 0.74074074, 0.11111111, 0.57376025, 0.44963359,\\n        0.25      , 0.0669873 , 0.93331165, 0.74948149, 0.        ],\\n       [0.25510204, 0.75      , 0.16666667, 0.57203619, 0.44781368,\\n        0.14644661, 0.14644661, 0.93349036, 0.74917084, 0.        ],\\n       [0.25170068, 0.75925926, 0.22222222, 0.5704312 , 0.44592544,\\n        0.0669873 , 0.25      , 0.93366885, 0.74886006, 0.        ],\\n       [0.24829932, 0.76851852, 0.27777778, 0.56894736, 0.44397592,\\n        0.01703709, 0.37059048, 0.93384712, 0.74854915, 0.        ],\\n       [0.24489796, 0.77777778, 0.33333333, 0.5675865 , 0.44197224,\\n        0.        , 0.5       , 0.93402517, 0.74823811, 0.        ],\\n       [0.24489796, 0.7962963 , 0.33333333, 0.55622743, 0.44763717,\\n        0.01703709, 0.62940952, 0.93420299, 0.74792694, 0.        ],\\n       [0.24489796, 0.81481481, 0.33333333, 0.54246198, 0.44941037,\\n        0.0669873 , 0.75      , 0.93438058, 0.74761565, 0.        ],\\n       [0.24489796, 0.83333333, 0.33333333, 0.52738343, 0.44638716,\\n        0.14644661, 0.85355339, 0.93455796, 0.74730423, 0.        ],\\n       [0.27210884, 0.75925926, 0.33333333, 0.52957446, 0.44332276,\\n        0.25      , 0.9330127 , 0.93473511, 0.74699268, 0.3248337 ],\\n       [0.29931973, 0.68518519, 0.33333333, 0.53179597, 0.44028852,\\n        0.37059048, 0.98296291, 0.93491204, 0.74668101, 0.65602076],\\n       [0.32653061, 0.61111111, 0.33333333, 0.53404772, 0.43728473,\\n        0.5       , 1.        , 0.93508874, 0.74636921, 0.79741082],\\n       [0.37414966, 0.57407407, 0.33333333, 0.54463594, 0.43416536,\\n        0.62940952, 0.98296291, 0.93526523, 0.74605728, 0.86957266],\\n       [0.42176871, 0.53703704, 0.33333333, 0.55374183, 0.42875125,\\n        0.75      , 0.9330127 , 0.93544148, 0.74574523, 0.90540533],\\n       [0.46938776, 0.5       , 0.33333333, 0.56102349, 0.42144081,\\n        0.85355339, 0.85355339, 0.93561752, 0.74543305, 0.91635854],\\n       [0.48979592, 0.53703704, 0.44444444, 0.54109609, 0.41572062,\\n        0.9330127 , 0.75      , 0.93579333, 0.74512074, 0.90540533],\\n       [0.51020408, 0.57407407, 0.55555556, 0.52747565, 0.39040837,\\n        0.98296291, 0.62940952, 0.93596891, 0.74480831, 0.86957266],\\n       [0.53061224, 0.61111111, 0.66666667, 0.53388104, 0.35479714,\\n        1.        , 0.5       , 0.93614428, 0.74449575, 0.79741082],\\n       [0.52380952, 0.62962963, 0.66666667, 0.52274309, 0.37714862,\\n        0.98296291, 0.37059048, 0.93631941, 0.74418307, 0.65602076],\\n       [0.5170068 , 0.64814815, 0.66666667, 0.52152815, 0.40164353,\\n        0.9330127 , 0.25      , 0.93649433, 0.74387026, 0.3248337 ],\\n       [0.51020408, 0.66666667, 0.66666667, 0.52967698, 0.42331492,\\n        0.85355339, 0.14644661, 0.93666902, 0.74355733, 0.        ],\\n       [0.49659864, 0.72222222, 0.66666667, 0.53044707, 0.42895515,\\n        0.75      , 0.0669873 , 0.93684348, 0.74324427, 0.        ],\\n       [0.4829932 , 0.77777778, 0.66666667, 0.53184228, 0.43466409,\\n        0.62940952, 0.01703709, 0.93701772, 0.74293108, 0.        ]])>, <tf.Tensor: shape=(1,), dtype=float64, numpy=array([0.])>]')\n",
      "Traceback (most recent call last):\n",
      "  File \"D:\\Anaconda\\envs\\data_engeneering\\lib\\site-packages\\optuna\\_optimize.py\", line 217, in _run_trial\n",
      "    value_or_values = func(trial)\n",
      "  File \"<ipython-input-33-86cfc866b5ed>\", line 82, in objective\n",
      "    learn(model, optimizer, train_ds, \"train\")\n",
      "  File \"<ipython-input-33-86cfc866b5ed>\", line 49, in learn\n",
      "    logits = model(images, training=(mode == \"train\"))\n",
      "  File \"D:\\Anaconda\\envs\\data_engeneering\\lib\\site-packages\\tensorflow\\python\\keras\\engine\\base_layer.py\", line 998, in __call__\n",
      "    input_spec.assert_input_compatibility(self.input_spec, inputs, self.name)\n",
      "  File \"D:\\Anaconda\\envs\\data_engeneering\\lib\\site-packages\\tensorflow\\python\\keras\\engine\\input_spec.py\", line 207, in assert_input_compatibility\n",
      "    ' input tensors. Inputs received: ' + str(inputs))\n",
      "ValueError: Layer sequential_15 expects 1 input(s), but it received 2 input tensors. Inputs received: [<tf.Tensor: shape=(24, 10), dtype=float64, numpy=\n",
      "array([[0.26530612, 0.72222222, 0.        , 0.57755568, 0.45304071,\n",
      "        0.5       , 0.        , 0.93295356, 0.75010242, 0.        ],\n",
      "       [0.26190476, 0.73148148, 0.05555556, 0.57560098, 0.45137822,\n",
      "        0.37059048, 0.01703709, 0.93313272, 0.74979202, 0.        ],\n",
      "       [0.2585034 , 0.74074074, 0.11111111, 0.57376025, 0.44963359,\n",
      "        0.25      , 0.0669873 , 0.93331165, 0.74948149, 0.        ],\n",
      "       [0.25510204, 0.75      , 0.16666667, 0.57203619, 0.44781368,\n",
      "        0.14644661, 0.14644661, 0.93349036, 0.74917084, 0.        ],\n",
      "       [0.25170068, 0.75925926, 0.22222222, 0.5704312 , 0.44592544,\n",
      "        0.0669873 , 0.25      , 0.93366885, 0.74886006, 0.        ],\n",
      "       [0.24829932, 0.76851852, 0.27777778, 0.56894736, 0.44397592,\n",
      "        0.01703709, 0.37059048, 0.93384712, 0.74854915, 0.        ],\n",
      "       [0.24489796, 0.77777778, 0.33333333, 0.5675865 , 0.44197224,\n",
      "        0.        , 0.5       , 0.93402517, 0.74823811, 0.        ],\n",
      "       [0.24489796, 0.7962963 , 0.33333333, 0.55622743, 0.44763717,\n",
      "        0.01703709, 0.62940952, 0.93420299, 0.74792694, 0.        ],\n",
      "       [0.24489796, 0.81481481, 0.33333333, 0.54246198, 0.44941037,\n",
      "        0.0669873 , 0.75      , 0.93438058, 0.74761565, 0.        ],\n",
      "       [0.24489796, 0.83333333, 0.33333333, 0.52738343, 0.44638716,\n",
      "        0.14644661, 0.85355339, 0.93455796, 0.74730423, 0.        ],\n",
      "       [0.27210884, 0.75925926, 0.33333333, 0.52957446, 0.44332276,\n",
      "        0.25      , 0.9330127 , 0.93473511, 0.74699268, 0.3248337 ],\n",
      "       [0.29931973, 0.68518519, 0.33333333, 0.53179597, 0.44028852,\n",
      "        0.37059048, 0.98296291, 0.93491204, 0.74668101, 0.65602076],\n",
      "       [0.32653061, 0.61111111, 0.33333333, 0.53404772, 0.43728473,\n",
      "        0.5       , 1.        , 0.93508874, 0.74636921, 0.79741082],\n",
      "       [0.37414966, 0.57407407, 0.33333333, 0.54463594, 0.43416536,\n",
      "        0.62940952, 0.98296291, 0.93526523, 0.74605728, 0.86957266],\n",
      "       [0.42176871, 0.53703704, 0.33333333, 0.55374183, 0.42875125,\n",
      "        0.75      , 0.9330127 , 0.93544148, 0.74574523, 0.90540533],\n",
      "       [0.46938776, 0.5       , 0.33333333, 0.56102349, 0.42144081,\n",
      "        0.85355339, 0.85355339, 0.93561752, 0.74543305, 0.91635854],\n",
      "       [0.48979592, 0.53703704, 0.44444444, 0.54109609, 0.41572062,\n",
      "        0.9330127 , 0.75      , 0.93579333, 0.74512074, 0.90540533],\n",
      "       [0.51020408, 0.57407407, 0.55555556, 0.52747565, 0.39040837,\n",
      "        0.98296291, 0.62940952, 0.93596891, 0.74480831, 0.86957266],\n",
      "       [0.53061224, 0.61111111, 0.66666667, 0.53388104, 0.35479714,\n",
      "        1.        , 0.5       , 0.93614428, 0.74449575, 0.79741082],\n",
      "       [0.52380952, 0.62962963, 0.66666667, 0.52274309, 0.37714862,\n",
      "        0.98296291, 0.37059048, 0.93631941, 0.74418307, 0.65602076],\n",
      "       [0.5170068 , 0.64814815, 0.66666667, 0.52152815, 0.40164353,\n",
      "        0.9330127 , 0.25      , 0.93649433, 0.74387026, 0.3248337 ],\n",
      "       [0.51020408, 0.66666667, 0.66666667, 0.52967698, 0.42331492,\n",
      "        0.85355339, 0.14644661, 0.93666902, 0.74355733, 0.        ],\n",
      "       [0.49659864, 0.72222222, 0.66666667, 0.53044707, 0.42895515,\n",
      "        0.75      , 0.0669873 , 0.93684348, 0.74324427, 0.        ],\n",
      "       [0.4829932 , 0.77777778, 0.66666667, 0.53184228, 0.43466409,\n",
      "        0.62940952, 0.01703709, 0.93701772, 0.74293108, 0.        ]])>, <tf.Tensor: shape=(1,), dtype=float64, numpy=array([0.])>]\u001b[0m\n"
     ]
    },
    {
     "output_type": "error",
     "ename": "ValueError",
     "evalue": "Layer sequential_15 expects 1 input(s), but it received 2 input tensors. Inputs received: [<tf.Tensor: shape=(24, 10), dtype=float64, numpy=\narray([[0.26530612, 0.72222222, 0.        , 0.57755568, 0.45304071,\n        0.5       , 0.        , 0.93295356, 0.75010242, 0.        ],\n       [0.26190476, 0.73148148, 0.05555556, 0.57560098, 0.45137822,\n        0.37059048, 0.01703709, 0.93313272, 0.74979202, 0.        ],\n       [0.2585034 , 0.74074074, 0.11111111, 0.57376025, 0.44963359,\n        0.25      , 0.0669873 , 0.93331165, 0.74948149, 0.        ],\n       [0.25510204, 0.75      , 0.16666667, 0.57203619, 0.44781368,\n        0.14644661, 0.14644661, 0.93349036, 0.74917084, 0.        ],\n       [0.25170068, 0.75925926, 0.22222222, 0.5704312 , 0.44592544,\n        0.0669873 , 0.25      , 0.93366885, 0.74886006, 0.        ],\n       [0.24829932, 0.76851852, 0.27777778, 0.56894736, 0.44397592,\n        0.01703709, 0.37059048, 0.93384712, 0.74854915, 0.        ],\n       [0.24489796, 0.77777778, 0.33333333, 0.5675865 , 0.44197224,\n        0.        , 0.5       , 0.93402517, 0.74823811, 0.        ],\n       [0.24489796, 0.7962963 , 0.33333333, 0.55622743, 0.44763717,\n        0.01703709, 0.62940952, 0.93420299, 0.74792694, 0.        ],\n       [0.24489796, 0.81481481, 0.33333333, 0.54246198, 0.44941037,\n        0.0669873 , 0.75      , 0.93438058, 0.74761565, 0.        ],\n       [0.24489796, 0.83333333, 0.33333333, 0.52738343, 0.44638716,\n        0.14644661, 0.85355339, 0.93455796, 0.74730423, 0.        ],\n       [0.27210884, 0.75925926, 0.33333333, 0.52957446, 0.44332276,\n        0.25      , 0.9330127 , 0.93473511, 0.74699268, 0.3248337 ],\n       [0.29931973, 0.68518519, 0.33333333, 0.53179597, 0.44028852,\n        0.37059048, 0.98296291, 0.93491204, 0.74668101, 0.65602076],\n       [0.32653061, 0.61111111, 0.33333333, 0.53404772, 0.43728473,\n        0.5       , 1.        , 0.93508874, 0.74636921, 0.79741082],\n       [0.37414966, 0.57407407, 0.33333333, 0.54463594, 0.43416536,\n        0.62940952, 0.98296291, 0.93526523, 0.74605728, 0.86957266],\n       [0.42176871, 0.53703704, 0.33333333, 0.55374183, 0.42875125,\n        0.75      , 0.9330127 , 0.93544148, 0.74574523, 0.90540533],\n       [0.46938776, 0.5       , 0.33333333, 0.56102349, 0.42144081,\n        0.85355339, 0.85355339, 0.93561752, 0.74543305, 0.91635854],\n       [0.48979592, 0.53703704, 0.44444444, 0.54109609, 0.41572062,\n        0.9330127 , 0.75      , 0.93579333, 0.74512074, 0.90540533],\n       [0.51020408, 0.57407407, 0.55555556, 0.52747565, 0.39040837,\n        0.98296291, 0.62940952, 0.93596891, 0.74480831, 0.86957266],\n       [0.53061224, 0.61111111, 0.66666667, 0.53388104, 0.35479714,\n        1.        , 0.5       , 0.93614428, 0.74449575, 0.79741082],\n       [0.52380952, 0.62962963, 0.66666667, 0.52274309, 0.37714862,\n        0.98296291, 0.37059048, 0.93631941, 0.74418307, 0.65602076],\n       [0.5170068 , 0.64814815, 0.66666667, 0.52152815, 0.40164353,\n        0.9330127 , 0.25      , 0.93649433, 0.74387026, 0.3248337 ],\n       [0.51020408, 0.66666667, 0.66666667, 0.52967698, 0.42331492,\n        0.85355339, 0.14644661, 0.93666902, 0.74355733, 0.        ],\n       [0.49659864, 0.72222222, 0.66666667, 0.53044707, 0.42895515,\n        0.75      , 0.0669873 , 0.93684348, 0.74324427, 0.        ],\n       [0.4829932 , 0.77777778, 0.66666667, 0.53184228, 0.43466409,\n        0.62940952, 0.01703709, 0.93701772, 0.74293108, 0.        ]])>, <tf.Tensor: shape=(1,), dtype=float64, numpy=array([0.])>]",
     "traceback": [
      "\u001b[1;31m---------------------------------------------------------------------------\u001b[0m",
      "\u001b[1;31mValueError\u001b[0m                                Traceback (most recent call last)",
      "\u001b[1;32m<ipython-input-33-86cfc866b5ed>\u001b[0m in \u001b[0;36m<module>\u001b[1;34m\u001b[0m\n\u001b[0;32m     88\u001b[0m \u001b[1;33m\u001b[0m\u001b[0m\n\u001b[0;32m     89\u001b[0m \u001b[0mstudy\u001b[0m \u001b[1;33m=\u001b[0m \u001b[0moptuna\u001b[0m\u001b[1;33m.\u001b[0m\u001b[0mcreate_study\u001b[0m\u001b[1;33m(\u001b[0m\u001b[0mdirection\u001b[0m\u001b[1;33m=\u001b[0m\u001b[1;34m\"minimize\"\u001b[0m\u001b[1;33m)\u001b[0m\u001b[1;33m\u001b[0m\u001b[1;33m\u001b[0m\u001b[0m\n\u001b[1;32m---> 90\u001b[1;33m \u001b[0mstudy\u001b[0m\u001b[1;33m.\u001b[0m\u001b[0moptimize\u001b[0m\u001b[1;33m(\u001b[0m\u001b[0mobjective\u001b[0m\u001b[1;33m,\u001b[0m \u001b[0mn_trials\u001b[0m\u001b[1;33m=\u001b[0m\u001b[1;36m100\u001b[0m\u001b[1;33m)\u001b[0m\u001b[1;33m\u001b[0m\u001b[1;33m\u001b[0m\u001b[0m\n\u001b[0m\u001b[0;32m     91\u001b[0m \u001b[1;33m\u001b[0m\u001b[0m\n\u001b[0;32m     92\u001b[0m \u001b[0mprint\u001b[0m\u001b[1;33m(\u001b[0m\u001b[1;34m\"Number of finished trials: \"\u001b[0m\u001b[1;33m,\u001b[0m \u001b[0mlen\u001b[0m\u001b[1;33m(\u001b[0m\u001b[0mstudy\u001b[0m\u001b[1;33m.\u001b[0m\u001b[0mtrials\u001b[0m\u001b[1;33m)\u001b[0m\u001b[1;33m)\u001b[0m\u001b[1;33m\u001b[0m\u001b[1;33m\u001b[0m\u001b[0m\n",
      "\u001b[1;32mD:\\Anaconda\\envs\\data_engeneering\\lib\\site-packages\\optuna\\study.py\u001b[0m in \u001b[0;36moptimize\u001b[1;34m(self, func, n_trials, timeout, n_jobs, catch, callbacks, gc_after_trial, show_progress_bar)\u001b[0m\n\u001b[0;32m    407\u001b[0m             \u001b[0mcallbacks\u001b[0m\u001b[1;33m=\u001b[0m\u001b[0mcallbacks\u001b[0m\u001b[1;33m,\u001b[0m\u001b[1;33m\u001b[0m\u001b[1;33m\u001b[0m\u001b[0m\n\u001b[0;32m    408\u001b[0m             \u001b[0mgc_after_trial\u001b[0m\u001b[1;33m=\u001b[0m\u001b[0mgc_after_trial\u001b[0m\u001b[1;33m,\u001b[0m\u001b[1;33m\u001b[0m\u001b[1;33m\u001b[0m\u001b[0m\n\u001b[1;32m--> 409\u001b[1;33m             \u001b[0mshow_progress_bar\u001b[0m\u001b[1;33m=\u001b[0m\u001b[0mshow_progress_bar\u001b[0m\u001b[1;33m,\u001b[0m\u001b[1;33m\u001b[0m\u001b[1;33m\u001b[0m\u001b[0m\n\u001b[0m\u001b[0;32m    410\u001b[0m         )\n\u001b[0;32m    411\u001b[0m \u001b[1;33m\u001b[0m\u001b[0m\n",
      "\u001b[1;32mD:\\Anaconda\\envs\\data_engeneering\\lib\\site-packages\\optuna\\_optimize.py\u001b[0m in \u001b[0;36m_optimize\u001b[1;34m(study, func, n_trials, timeout, n_jobs, catch, callbacks, gc_after_trial, show_progress_bar)\u001b[0m\n\u001b[0;32m     74\u001b[0m                 \u001b[0mreseed_sampler_rng\u001b[0m\u001b[1;33m=\u001b[0m\u001b[1;32mFalse\u001b[0m\u001b[1;33m,\u001b[0m\u001b[1;33m\u001b[0m\u001b[1;33m\u001b[0m\u001b[0m\n\u001b[0;32m     75\u001b[0m                 \u001b[0mtime_start\u001b[0m\u001b[1;33m=\u001b[0m\u001b[1;32mNone\u001b[0m\u001b[1;33m,\u001b[0m\u001b[1;33m\u001b[0m\u001b[1;33m\u001b[0m\u001b[0m\n\u001b[1;32m---> 76\u001b[1;33m                 \u001b[0mprogress_bar\u001b[0m\u001b[1;33m=\u001b[0m\u001b[0mprogress_bar\u001b[0m\u001b[1;33m,\u001b[0m\u001b[1;33m\u001b[0m\u001b[1;33m\u001b[0m\u001b[0m\n\u001b[0m\u001b[0;32m     77\u001b[0m             )\n\u001b[0;32m     78\u001b[0m         \u001b[1;32melse\u001b[0m\u001b[1;33m:\u001b[0m\u001b[1;33m\u001b[0m\u001b[1;33m\u001b[0m\u001b[0m\n",
      "\u001b[1;32mD:\\Anaconda\\envs\\data_engeneering\\lib\\site-packages\\optuna\\_optimize.py\u001b[0m in \u001b[0;36m_optimize_sequential\u001b[1;34m(study, func, n_trials, timeout, catch, callbacks, gc_after_trial, reseed_sampler_rng, time_start, progress_bar)\u001b[0m\n\u001b[0;32m    161\u001b[0m \u001b[1;33m\u001b[0m\u001b[0m\n\u001b[0;32m    162\u001b[0m         \u001b[1;32mtry\u001b[0m\u001b[1;33m:\u001b[0m\u001b[1;33m\u001b[0m\u001b[1;33m\u001b[0m\u001b[0m\n\u001b[1;32m--> 163\u001b[1;33m             \u001b[0mtrial\u001b[0m \u001b[1;33m=\u001b[0m \u001b[0m_run_trial\u001b[0m\u001b[1;33m(\u001b[0m\u001b[0mstudy\u001b[0m\u001b[1;33m,\u001b[0m \u001b[0mfunc\u001b[0m\u001b[1;33m,\u001b[0m \u001b[0mcatch\u001b[0m\u001b[1;33m)\u001b[0m\u001b[1;33m\u001b[0m\u001b[1;33m\u001b[0m\u001b[0m\n\u001b[0m\u001b[0;32m    164\u001b[0m         \u001b[1;32mexcept\u001b[0m \u001b[0mException\u001b[0m\u001b[1;33m:\u001b[0m\u001b[1;33m\u001b[0m\u001b[1;33m\u001b[0m\u001b[0m\n\u001b[0;32m    165\u001b[0m             \u001b[1;32mraise\u001b[0m\u001b[1;33m\u001b[0m\u001b[1;33m\u001b[0m\u001b[0m\n",
      "\u001b[1;32mD:\\Anaconda\\envs\\data_engeneering\\lib\\site-packages\\optuna\\_optimize.py\u001b[0m in \u001b[0;36m_run_trial\u001b[1;34m(study, func, catch)\u001b[0m\n\u001b[0;32m    266\u001b[0m \u001b[1;33m\u001b[0m\u001b[0m\n\u001b[0;32m    267\u001b[0m     \u001b[1;32mif\u001b[0m \u001b[0mstate\u001b[0m \u001b[1;33m==\u001b[0m \u001b[0mTrialState\u001b[0m\u001b[1;33m.\u001b[0m\u001b[0mFAIL\u001b[0m \u001b[1;32mand\u001b[0m \u001b[0mfunc_err\u001b[0m \u001b[1;32mis\u001b[0m \u001b[1;32mnot\u001b[0m \u001b[1;32mNone\u001b[0m \u001b[1;32mand\u001b[0m \u001b[1;32mnot\u001b[0m \u001b[0misinstance\u001b[0m\u001b[1;33m(\u001b[0m\u001b[0mfunc_err\u001b[0m\u001b[1;33m,\u001b[0m \u001b[0mcatch\u001b[0m\u001b[1;33m)\u001b[0m\u001b[1;33m:\u001b[0m\u001b[1;33m\u001b[0m\u001b[1;33m\u001b[0m\u001b[0m\n\u001b[1;32m--> 268\u001b[1;33m         \u001b[1;32mraise\u001b[0m \u001b[0mfunc_err\u001b[0m\u001b[1;33m\u001b[0m\u001b[1;33m\u001b[0m\u001b[0m\n\u001b[0m\u001b[0;32m    269\u001b[0m     \u001b[1;32mreturn\u001b[0m \u001b[0mtrial\u001b[0m\u001b[1;33m\u001b[0m\u001b[1;33m\u001b[0m\u001b[0m\n\u001b[0;32m    270\u001b[0m \u001b[1;33m\u001b[0m\u001b[0m\n",
      "\u001b[1;32mD:\\Anaconda\\envs\\data_engeneering\\lib\\site-packages\\optuna\\_optimize.py\u001b[0m in \u001b[0;36m_run_trial\u001b[1;34m(study, func, catch)\u001b[0m\n\u001b[0;32m    215\u001b[0m \u001b[1;33m\u001b[0m\u001b[0m\n\u001b[0;32m    216\u001b[0m     \u001b[1;32mtry\u001b[0m\u001b[1;33m:\u001b[0m\u001b[1;33m\u001b[0m\u001b[1;33m\u001b[0m\u001b[0m\n\u001b[1;32m--> 217\u001b[1;33m         \u001b[0mvalue_or_values\u001b[0m \u001b[1;33m=\u001b[0m \u001b[0mfunc\u001b[0m\u001b[1;33m(\u001b[0m\u001b[0mtrial\u001b[0m\u001b[1;33m)\u001b[0m\u001b[1;33m\u001b[0m\u001b[1;33m\u001b[0m\u001b[0m\n\u001b[0m\u001b[0;32m    218\u001b[0m     \u001b[1;32mexcept\u001b[0m \u001b[0mexceptions\u001b[0m\u001b[1;33m.\u001b[0m\u001b[0mTrialPruned\u001b[0m \u001b[1;32mas\u001b[0m \u001b[0me\u001b[0m\u001b[1;33m:\u001b[0m\u001b[1;33m\u001b[0m\u001b[1;33m\u001b[0m\u001b[0m\n\u001b[0;32m    219\u001b[0m         \u001b[1;31m# TODO(mamu): Handle multi-objective cases.\u001b[0m\u001b[1;33m\u001b[0m\u001b[1;33m\u001b[0m\u001b[1;33m\u001b[0m\u001b[0m\n",
      "\u001b[1;32m<ipython-input-33-86cfc866b5ed>\u001b[0m in \u001b[0;36mobjective\u001b[1;34m(trial)\u001b[0m\n\u001b[0;32m     80\u001b[0m     \u001b[1;32mwith\u001b[0m \u001b[0mtf\u001b[0m\u001b[1;33m.\u001b[0m\u001b[0mdevice\u001b[0m\u001b[1;33m(\u001b[0m\u001b[1;34m\"/cpu:0\"\u001b[0m\u001b[1;33m)\u001b[0m\u001b[1;33m:\u001b[0m\u001b[1;33m\u001b[0m\u001b[1;33m\u001b[0m\u001b[0m\n\u001b[0;32m     81\u001b[0m         \u001b[1;32mfor\u001b[0m \u001b[0m_\u001b[0m \u001b[1;32min\u001b[0m \u001b[0mrange\u001b[0m\u001b[1;33m(\u001b[0m\u001b[0mepoch\u001b[0m\u001b[1;33m)\u001b[0m\u001b[1;33m:\u001b[0m\u001b[1;33m\u001b[0m\u001b[1;33m\u001b[0m\u001b[0m\n\u001b[1;32m---> 82\u001b[1;33m             \u001b[0mlearn\u001b[0m\u001b[1;33m(\u001b[0m\u001b[0mmodel\u001b[0m\u001b[1;33m,\u001b[0m \u001b[0moptimizer\u001b[0m\u001b[1;33m,\u001b[0m \u001b[0mtrain_ds\u001b[0m\u001b[1;33m,\u001b[0m \u001b[1;34m\"train\"\u001b[0m\u001b[1;33m)\u001b[0m\u001b[1;33m\u001b[0m\u001b[1;33m\u001b[0m\u001b[0m\n\u001b[0m\u001b[0;32m     83\u001b[0m \u001b[1;33m\u001b[0m\u001b[0m\n\u001b[0;32m     84\u001b[0m         \u001b[0maccuracy\u001b[0m \u001b[1;33m=\u001b[0m \u001b[0mlearn\u001b[0m\u001b[1;33m(\u001b[0m\u001b[0mmodel\u001b[0m\u001b[1;33m,\u001b[0m \u001b[0moptimizer\u001b[0m\u001b[1;33m,\u001b[0m \u001b[0mvalid_ds\u001b[0m\u001b[1;33m,\u001b[0m \u001b[1;34m\"eval\"\u001b[0m\u001b[1;33m)\u001b[0m\u001b[1;33m\u001b[0m\u001b[1;33m\u001b[0m\u001b[0m\n",
      "\u001b[1;32m<ipython-input-33-86cfc866b5ed>\u001b[0m in \u001b[0;36mlearn\u001b[1;34m(model, optimizer, dataset, mode)\u001b[0m\n\u001b[0;32m     47\u001b[0m     \u001b[1;32mfor\u001b[0m \u001b[0mbatch\u001b[0m\u001b[1;33m,\u001b[0m \u001b[0mimages\u001b[0m \u001b[1;32min\u001b[0m \u001b[0menumerate\u001b[0m\u001b[1;33m(\u001b[0m\u001b[0mdataset\u001b[0m\u001b[1;33m)\u001b[0m\u001b[1;33m:\u001b[0m\u001b[1;33m\u001b[0m\u001b[1;33m\u001b[0m\u001b[0m\n\u001b[0;32m     48\u001b[0m         \u001b[1;32mwith\u001b[0m \u001b[0mtf\u001b[0m\u001b[1;33m.\u001b[0m\u001b[0mGradientTape\u001b[0m\u001b[1;33m(\u001b[0m\u001b[1;33m)\u001b[0m \u001b[1;32mas\u001b[0m \u001b[0mtape\u001b[0m\u001b[1;33m:\u001b[0m\u001b[1;33m\u001b[0m\u001b[1;33m\u001b[0m\u001b[0m\n\u001b[1;32m---> 49\u001b[1;33m             \u001b[0mlogits\u001b[0m \u001b[1;33m=\u001b[0m \u001b[0mmodel\u001b[0m\u001b[1;33m(\u001b[0m\u001b[0mimages\u001b[0m\u001b[1;33m,\u001b[0m \u001b[0mtraining\u001b[0m\u001b[1;33m=\u001b[0m\u001b[1;33m(\u001b[0m\u001b[0mmode\u001b[0m \u001b[1;33m==\u001b[0m \u001b[1;34m\"train\"\u001b[0m\u001b[1;33m)\u001b[0m\u001b[1;33m)\u001b[0m\u001b[1;33m\u001b[0m\u001b[1;33m\u001b[0m\u001b[0m\n\u001b[0m\u001b[0;32m     50\u001b[0m             loss_value = tf.reduce_mean(\n\u001b[0;32m     51\u001b[0m                 \u001b[0mtf\u001b[0m\u001b[1;33m.\u001b[0m\u001b[0mnn\u001b[0m\u001b[1;33m.\u001b[0m\u001b[0msparse_softmax_cross_entropy_with_logits\u001b[0m\u001b[1;33m(\u001b[0m\u001b[0mlogits\u001b[0m\u001b[1;33m=\u001b[0m\u001b[0mlogits\u001b[0m\u001b[1;33m,\u001b[0m \u001b[0mlabels\u001b[0m\u001b[1;33m=\u001b[0m\u001b[1;36m1\u001b[0m\u001b[1;33m)\u001b[0m\u001b[1;33m\u001b[0m\u001b[1;33m\u001b[0m\u001b[0m\n",
      "\u001b[1;32mD:\\Anaconda\\envs\\data_engeneering\\lib\\site-packages\\tensorflow\\python\\keras\\engine\\base_layer.py\u001b[0m in \u001b[0;36m__call__\u001b[1;34m(self, *args, **kwargs)\u001b[0m\n\u001b[0;32m    996\u001b[0m         \u001b[0minputs\u001b[0m \u001b[1;33m=\u001b[0m \u001b[0mself\u001b[0m\u001b[1;33m.\u001b[0m\u001b[0m_maybe_cast_inputs\u001b[0m\u001b[1;33m(\u001b[0m\u001b[0minputs\u001b[0m\u001b[1;33m,\u001b[0m \u001b[0minput_list\u001b[0m\u001b[1;33m)\u001b[0m\u001b[1;33m\u001b[0m\u001b[1;33m\u001b[0m\u001b[0m\n\u001b[0;32m    997\u001b[0m \u001b[1;33m\u001b[0m\u001b[0m\n\u001b[1;32m--> 998\u001b[1;33m       \u001b[0minput_spec\u001b[0m\u001b[1;33m.\u001b[0m\u001b[0massert_input_compatibility\u001b[0m\u001b[1;33m(\u001b[0m\u001b[0mself\u001b[0m\u001b[1;33m.\u001b[0m\u001b[0minput_spec\u001b[0m\u001b[1;33m,\u001b[0m \u001b[0minputs\u001b[0m\u001b[1;33m,\u001b[0m \u001b[0mself\u001b[0m\u001b[1;33m.\u001b[0m\u001b[0mname\u001b[0m\u001b[1;33m)\u001b[0m\u001b[1;33m\u001b[0m\u001b[1;33m\u001b[0m\u001b[0m\n\u001b[0m\u001b[0;32m    999\u001b[0m       \u001b[1;32mif\u001b[0m \u001b[0meager\u001b[0m\u001b[1;33m:\u001b[0m\u001b[1;33m\u001b[0m\u001b[1;33m\u001b[0m\u001b[0m\n\u001b[0;32m   1000\u001b[0m         \u001b[0mcall_fn\u001b[0m \u001b[1;33m=\u001b[0m \u001b[0mself\u001b[0m\u001b[1;33m.\u001b[0m\u001b[0mcall\u001b[0m\u001b[1;33m\u001b[0m\u001b[1;33m\u001b[0m\u001b[0m\n",
      "\u001b[1;32mD:\\Anaconda\\envs\\data_engeneering\\lib\\site-packages\\tensorflow\\python\\keras\\engine\\input_spec.py\u001b[0m in \u001b[0;36massert_input_compatibility\u001b[1;34m(input_spec, inputs, layer_name)\u001b[0m\n\u001b[0;32m    205\u001b[0m                      \u001b[0mstr\u001b[0m\u001b[1;33m(\u001b[0m\u001b[0mlen\u001b[0m\u001b[1;33m(\u001b[0m\u001b[0minput_spec\u001b[0m\u001b[1;33m)\u001b[0m\u001b[1;33m)\u001b[0m \u001b[1;33m+\u001b[0m \u001b[1;34m' input(s), '\u001b[0m\u001b[1;33m\u001b[0m\u001b[1;33m\u001b[0m\u001b[0m\n\u001b[0;32m    206\u001b[0m                      \u001b[1;34m'but it received '\u001b[0m \u001b[1;33m+\u001b[0m \u001b[0mstr\u001b[0m\u001b[1;33m(\u001b[0m\u001b[0mlen\u001b[0m\u001b[1;33m(\u001b[0m\u001b[0minputs\u001b[0m\u001b[1;33m)\u001b[0m\u001b[1;33m)\u001b[0m \u001b[1;33m+\u001b[0m\u001b[1;33m\u001b[0m\u001b[1;33m\u001b[0m\u001b[0m\n\u001b[1;32m--> 207\u001b[1;33m                      ' input tensors. Inputs received: ' + str(inputs))\n\u001b[0m\u001b[0;32m    208\u001b[0m   \u001b[1;32mfor\u001b[0m \u001b[0minput_index\u001b[0m\u001b[1;33m,\u001b[0m \u001b[1;33m(\u001b[0m\u001b[0mx\u001b[0m\u001b[1;33m,\u001b[0m \u001b[0mspec\u001b[0m\u001b[1;33m)\u001b[0m \u001b[1;32min\u001b[0m \u001b[0menumerate\u001b[0m\u001b[1;33m(\u001b[0m\u001b[0mzip\u001b[0m\u001b[1;33m(\u001b[0m\u001b[0minputs\u001b[0m\u001b[1;33m,\u001b[0m \u001b[0minput_spec\u001b[0m\u001b[1;33m)\u001b[0m\u001b[1;33m)\u001b[0m\u001b[1;33m:\u001b[0m\u001b[1;33m\u001b[0m\u001b[1;33m\u001b[0m\u001b[0m\n\u001b[0;32m    209\u001b[0m     \u001b[1;32mif\u001b[0m \u001b[0mspec\u001b[0m \u001b[1;32mis\u001b[0m \u001b[1;32mNone\u001b[0m\u001b[1;33m:\u001b[0m\u001b[1;33m\u001b[0m\u001b[1;33m\u001b[0m\u001b[0m\n",
      "\u001b[1;31mValueError\u001b[0m: Layer sequential_15 expects 1 input(s), but it received 2 input tensors. Inputs received: [<tf.Tensor: shape=(24, 10), dtype=float64, numpy=\narray([[0.26530612, 0.72222222, 0.        , 0.57755568, 0.45304071,\n        0.5       , 0.        , 0.93295356, 0.75010242, 0.        ],\n       [0.26190476, 0.73148148, 0.05555556, 0.57560098, 0.45137822,\n        0.37059048, 0.01703709, 0.93313272, 0.74979202, 0.        ],\n       [0.2585034 , 0.74074074, 0.11111111, 0.57376025, 0.44963359,\n        0.25      , 0.0669873 , 0.93331165, 0.74948149, 0.        ],\n       [0.25510204, 0.75      , 0.16666667, 0.57203619, 0.44781368,\n        0.14644661, 0.14644661, 0.93349036, 0.74917084, 0.        ],\n       [0.25170068, 0.75925926, 0.22222222, 0.5704312 , 0.44592544,\n        0.0669873 , 0.25      , 0.93366885, 0.74886006, 0.        ],\n       [0.24829932, 0.76851852, 0.27777778, 0.56894736, 0.44397592,\n        0.01703709, 0.37059048, 0.93384712, 0.74854915, 0.        ],\n       [0.24489796, 0.77777778, 0.33333333, 0.5675865 , 0.44197224,\n        0.        , 0.5       , 0.93402517, 0.74823811, 0.        ],\n       [0.24489796, 0.7962963 , 0.33333333, 0.55622743, 0.44763717,\n        0.01703709, 0.62940952, 0.93420299, 0.74792694, 0.        ],\n       [0.24489796, 0.81481481, 0.33333333, 0.54246198, 0.44941037,\n        0.0669873 , 0.75      , 0.93438058, 0.74761565, 0.        ],\n       [0.24489796, 0.83333333, 0.33333333, 0.52738343, 0.44638716,\n        0.14644661, 0.85355339, 0.93455796, 0.74730423, 0.        ],\n       [0.27210884, 0.75925926, 0.33333333, 0.52957446, 0.44332276,\n        0.25      , 0.9330127 , 0.93473511, 0.74699268, 0.3248337 ],\n       [0.29931973, 0.68518519, 0.33333333, 0.53179597, 0.44028852,\n        0.37059048, 0.98296291, 0.93491204, 0.74668101, 0.65602076],\n       [0.32653061, 0.61111111, 0.33333333, 0.53404772, 0.43728473,\n        0.5       , 1.        , 0.93508874, 0.74636921, 0.79741082],\n       [0.37414966, 0.57407407, 0.33333333, 0.54463594, 0.43416536,\n        0.62940952, 0.98296291, 0.93526523, 0.74605728, 0.86957266],\n       [0.42176871, 0.53703704, 0.33333333, 0.55374183, 0.42875125,\n        0.75      , 0.9330127 , 0.93544148, 0.74574523, 0.90540533],\n       [0.46938776, 0.5       , 0.33333333, 0.56102349, 0.42144081,\n        0.85355339, 0.85355339, 0.93561752, 0.74543305, 0.91635854],\n       [0.48979592, 0.53703704, 0.44444444, 0.54109609, 0.41572062,\n        0.9330127 , 0.75      , 0.93579333, 0.74512074, 0.90540533],\n       [0.51020408, 0.57407407, 0.55555556, 0.52747565, 0.39040837,\n        0.98296291, 0.62940952, 0.93596891, 0.74480831, 0.86957266],\n       [0.53061224, 0.61111111, 0.66666667, 0.53388104, 0.35479714,\n        1.        , 0.5       , 0.93614428, 0.74449575, 0.79741082],\n       [0.52380952, 0.62962963, 0.66666667, 0.52274309, 0.37714862,\n        0.98296291, 0.37059048, 0.93631941, 0.74418307, 0.65602076],\n       [0.5170068 , 0.64814815, 0.66666667, 0.52152815, 0.40164353,\n        0.9330127 , 0.25      , 0.93649433, 0.74387026, 0.3248337 ],\n       [0.51020408, 0.66666667, 0.66666667, 0.52967698, 0.42331492,\n        0.85355339, 0.14644661, 0.93666902, 0.74355733, 0.        ],\n       [0.49659864, 0.72222222, 0.66666667, 0.53044707, 0.42895515,\n        0.75      , 0.0669873 , 0.93684348, 0.74324427, 0.        ],\n       [0.4829932 , 0.77777778, 0.66666667, 0.53184228, 0.43466409,\n        0.62940952, 0.01703709, 0.93701772, 0.74293108, 0.        ]])>, <tf.Tensor: shape=(1,), dtype=float64, numpy=array([0.])>]"
     ]
    }
   ],
   "source": [
    "def create_model(trial):\n",
    "    # We optimize the numbers of layers, their units and weight decay parameter.\n",
    "    n_layers = trial.suggest_int(\"n_layers\", 1, 3)\n",
    "    weight_decay = trial.suggest_float(\"weight_decay\", 1e-10, 1e-3, log=True)\n",
    "    model = Sequential()\n",
    "    model.add(LSTM(24))\n",
    "#     model.add(tf.keras.layers.Flatten())\n",
    "    for i in range(n_layers):\n",
    "        num_hidden = trial.suggest_int(\"n_units_l{}\".format(i), 4, 128, log=True)\n",
    "        model.add(\n",
    "            Dense(\n",
    "                num_hidden,\n",
    "                activation=\"relu\",\n",
    "                kernel_regularizer=tf.keras.regularizers.l2(weight_decay),\n",
    "            )\n",
    "        )\n",
    "    model.add(Dense(1, activation='relu'))\n",
    "#     model.compile(loss='mean_squared_error', optimizer='adam')\n",
    "#     model.summary()\n",
    "    return model\n",
    "\n",
    "def create_optimizer(trial):\n",
    "    # We optimize the choice of optimizers as well as their parameters.\n",
    "    kwargs = {}\n",
    "    optimizer_options = [\"RMSprop\", \"Adam\", \"SGD\"]\n",
    "    optimizer_selected = trial.suggest_categorical(\"optimizer\", optimizer_options)\n",
    "    if optimizer_selected == \"RMSprop\":\n",
    "        kwargs[\"learning_rate\"] = trial.suggest_float(\n",
    "            \"rmsprop_learning_rate\", 1e-5, 1e-1, log=True\n",
    "        )\n",
    "        kwargs[\"decay\"] = trial.suggest_float(\"rmsprop_decay\", 0.85, 0.99)\n",
    "        kwargs[\"momentum\"] = trial.suggest_float(\"rmsprop_momentum\", 1e-5, 1e-1, log=True)\n",
    "    elif optimizer_selected == \"Adam\":\n",
    "        kwargs[\"learning_rate\"] = trial.suggest_float(\"adam_learning_rate\", 1e-5, 1e-1, log=True)\n",
    "    elif optimizer_selected == \"SGD\":\n",
    "        kwargs[\"learning_rate\"] = trial.suggest_float(\n",
    "            \"sgd_opt_learning_rate\", 1e-5, 1e-1, log=True\n",
    "        )\n",
    "        kwargs[\"momentum\"] = trial.suggest_float(\"sgd_opt_momentum\", 1e-5, 1e-1, log=True)\n",
    "\n",
    "    optimizer = getattr(tf.optimizers, optimizer_selected)(**kwargs)\n",
    "    return optimizer\n",
    "\n",
    "def learn(model, optimizer, dataset, mode=\"eval\"):\n",
    "    accuracy = tf.metrics.Accuracy(\"accuracy\", dtype=tf.float32)\n",
    "\n",
    "    for batch, (features, labels) in enumerate(dataset):\n",
    "        with tf.GradientTape() as tape:\n",
    "            logits = model(images, training=(mode == \"train\"))\n",
    "            loss_value = tf.reduce_mean(\n",
    "                tf.nn.sparse_softmax_cross_entropy_with_logits(logits=logits, labels=labels)\n",
    "            )\n",
    "            if mode == \"eval\":\n",
    "                accuracy(\n",
    "                    tf.argmax(logits, axis=1, output_type=tf.int64), tf.cast(labels, tf.int64)\n",
    "                )\n",
    "            else:\n",
    "                grads = tape.gradient(loss_value, model.variables)\n",
    "                optimizer.apply_gradients(zip(grads, model.variables))\n",
    "\n",
    "    if mode == \"eval\":\n",
    "        return accuracy \n",
    "\n",
    "def get_data(train_feature, train_label):\n",
    "     x_train, x_valid, y_train, y_valid = train_test_split(train_feature, train_label, test_size=0.2)\n",
    "\n",
    "     train_ds = tf.data.Dataset.from_tensor_slices((x_train, y_train))\n",
    "     valid_ds = tf.data.Dataset.from_tensor_slices((x_valid, y_valid))\n",
    "     return train_ds, valid_ds\n",
    "\n",
    "\n",
    "def objective(trial):\n",
    "    train_ds, valid_ds = get_data(train_feature, train_label)\n",
    "\n",
    "    # Build model and optimizer.\n",
    "    model = create_model(trial)\n",
    "    optimizer = create_optimizer(trial)\n",
    "\n",
    "    # Training and validating cycle.\n",
    "    with tf.device(\"/cpu:0\"):\n",
    "        for _ in range(epoch):\n",
    "            learn(model, optimizer, train_ds, \"train\")\n",
    "\n",
    "        accuracy = learn(model, optimizer, valid_ds, \"eval\")\n",
    "\n",
    "    # Return last validation accuracy.\n",
    "    return accuracy.result()\n",
    "\n",
    "study = optuna.create_study(direction=\"minimize\")\n",
    "study.optimize(objective, n_trials=100)\n",
    "\n",
    "print(\"Number of finished trials: \", len(study.trials))\n",
    "\n",
    "print(\"Best trial:\")\n",
    "trial = study.best_trial\n",
    "\n",
    "print(\"  Value: \", trial.value)\n",
    "\n",
    "print(\"  Params: \")\n",
    "for key, value in trial.params.items():\n",
    "     print(\"    {}: {}\".format(key, value))"
   ]
  },
  {
   "cell_type": "code",
   "execution_count": 63,
   "metadata": {},
   "outputs": [
    {
     "output_type": "stream",
     "name": "stdout",
     "text": [
      "Trying params:\n",
      "{'batch_size': 60, 'dense_layers': {'layers': 'one'}, 'epochs': 60, 'lr': 0.4919492131926497, 'lstm1_dropouts': 0.2855862876654588, 'lstm1_nodes': 80, 'lstm_layers': {'layers': 'two', 'lstm2_dropouts': 0.11546954903526196, 'lstm2_nodes': 20}, 'optimizer': 'adam', 'time_steps': 70}\n",
      "10\n",
      "params_opt : \n",
      "adam\n",
      "Epoch 1/60\n",
      "  0%|          | 0/200 [00:00<?, ?trial/s, best loss=?]WARNING:tensorflow:Model was constructed with shape (60, 70, 10) for input KerasTensor(type_spec=TensorSpec(shape=(60, 70, 10), dtype=tf.float32, name='lstm_55_input'), name='lstm_55_input', description=\"created by layer 'lstm_55_input'\"), but it was called on an input with incompatible shape (None, 24, 10).\n",
      "WARNING:tensorflow:Model was constructed with shape (60, 70, 10) for input KerasTensor(type_spec=TensorSpec(shape=(60, 70, 10), dtype=tf.float32, name='lstm_55_input'), name='lstm_55_input', description=\"created by layer 'lstm_55_input'\"), but it was called on an input with incompatible shape (None, 24, 10).\n",
      "job exception:  Incompatible shapes: [56,80] vs. [60,80]\n",
      "\t [[{{node sequential_42/lstm_55/while/body/_1/sequential_42/lstm_55/while/lstm_cell_55/add_4}}]] [Op:__inference_train_function_77428]\n",
      "\n",
      "Function call stack:\n",
      "train_function\n",
      "\n",
      "\n",
      "  0%|          | 0/200 [00:08<?, ?trial/s, best loss=?]\n"
     ]
    },
    {
     "output_type": "error",
     "ename": "InvalidArgumentError",
     "evalue": " Incompatible shapes: [56,80] vs. [60,80]\n\t [[{{node sequential_42/lstm_55/while/body/_1/sequential_42/lstm_55/while/lstm_cell_55/add_4}}]] [Op:__inference_train_function_77428]\n\nFunction call stack:\ntrain_function\n",
     "traceback": [
      "\u001b[1;31m---------------------------------------------------------------------------\u001b[0m",
      "\u001b[1;31mInvalidArgumentError\u001b[0m                      Traceback (most recent call last)",
      "\u001b[1;32m<ipython-input-63-92d0b3567357>\u001b[0m in \u001b[0;36m<module>\u001b[1;34m\u001b[0m\n\u001b[0;32m    103\u001b[0m     \u001b[0malgo\u001b[0m\u001b[1;33m=\u001b[0m\u001b[0mtpe\u001b[0m\u001b[1;33m.\u001b[0m\u001b[0msuggest\u001b[0m\u001b[1;33m,\u001b[0m \u001b[1;31m# type random.suggest to select param values randomly\u001b[0m\u001b[1;33m\u001b[0m\u001b[1;33m\u001b[0m\u001b[0m\n\u001b[0;32m    104\u001b[0m     \u001b[0mmax_evals\u001b[0m\u001b[1;33m=\u001b[0m\u001b[1;36m200\u001b[0m\u001b[1;33m,\u001b[0m \u001b[1;31m# max number of evaluations you want to do on objective function\u001b[0m\u001b[1;33m\u001b[0m\u001b[1;33m\u001b[0m\u001b[0m\n\u001b[1;32m--> 105\u001b[1;33m     trials=trials)\n\u001b[0m",
      "\u001b[1;32mD:\\Anaconda\\envs\\data_engeneering\\lib\\site-packages\\hyperopt\\fmin.py\u001b[0m in \u001b[0;36mfmin\u001b[1;34m(fn, space, algo, max_evals, timeout, loss_threshold, trials, rstate, allow_trials_fmin, pass_expr_memo_ctrl, catch_eval_exceptions, verbose, return_argmin, points_to_evaluate, max_queue_len, show_progressbar, early_stop_fn, trials_save_file)\u001b[0m\n\u001b[0;32m    520\u001b[0m             \u001b[0mshow_progressbar\u001b[0m\u001b[1;33m=\u001b[0m\u001b[0mshow_progressbar\u001b[0m\u001b[1;33m,\u001b[0m\u001b[1;33m\u001b[0m\u001b[1;33m\u001b[0m\u001b[0m\n\u001b[0;32m    521\u001b[0m             \u001b[0mearly_stop_fn\u001b[0m\u001b[1;33m=\u001b[0m\u001b[0mearly_stop_fn\u001b[0m\u001b[1;33m,\u001b[0m\u001b[1;33m\u001b[0m\u001b[1;33m\u001b[0m\u001b[0m\n\u001b[1;32m--> 522\u001b[1;33m             \u001b[0mtrials_save_file\u001b[0m\u001b[1;33m=\u001b[0m\u001b[0mtrials_save_file\u001b[0m\u001b[1;33m,\u001b[0m\u001b[1;33m\u001b[0m\u001b[1;33m\u001b[0m\u001b[0m\n\u001b[0m\u001b[0;32m    523\u001b[0m         )\n\u001b[0;32m    524\u001b[0m \u001b[1;33m\u001b[0m\u001b[0m\n",
      "\u001b[1;32mD:\\Anaconda\\envs\\data_engeneering\\lib\\site-packages\\hyperopt\\base.py\u001b[0m in \u001b[0;36mfmin\u001b[1;34m(self, fn, space, algo, max_evals, timeout, loss_threshold, max_queue_len, rstate, verbose, pass_expr_memo_ctrl, catch_eval_exceptions, return_argmin, show_progressbar, early_stop_fn, trials_save_file)\u001b[0m\n\u001b[0;32m    697\u001b[0m             \u001b[0mshow_progressbar\u001b[0m\u001b[1;33m=\u001b[0m\u001b[0mshow_progressbar\u001b[0m\u001b[1;33m,\u001b[0m\u001b[1;33m\u001b[0m\u001b[1;33m\u001b[0m\u001b[0m\n\u001b[0;32m    698\u001b[0m             \u001b[0mearly_stop_fn\u001b[0m\u001b[1;33m=\u001b[0m\u001b[0mearly_stop_fn\u001b[0m\u001b[1;33m,\u001b[0m\u001b[1;33m\u001b[0m\u001b[1;33m\u001b[0m\u001b[0m\n\u001b[1;32m--> 699\u001b[1;33m             \u001b[0mtrials_save_file\u001b[0m\u001b[1;33m=\u001b[0m\u001b[0mtrials_save_file\u001b[0m\u001b[1;33m,\u001b[0m\u001b[1;33m\u001b[0m\u001b[1;33m\u001b[0m\u001b[0m\n\u001b[0m\u001b[0;32m    700\u001b[0m         )\n\u001b[0;32m    701\u001b[0m \u001b[1;33m\u001b[0m\u001b[0m\n",
      "\u001b[1;32mD:\\Anaconda\\envs\\data_engeneering\\lib\\site-packages\\hyperopt\\fmin.py\u001b[0m in \u001b[0;36mfmin\u001b[1;34m(fn, space, algo, max_evals, timeout, loss_threshold, trials, rstate, allow_trials_fmin, pass_expr_memo_ctrl, catch_eval_exceptions, verbose, return_argmin, points_to_evaluate, max_queue_len, show_progressbar, early_stop_fn, trials_save_file)\u001b[0m\n\u001b[0;32m    551\u001b[0m \u001b[1;33m\u001b[0m\u001b[0m\n\u001b[0;32m    552\u001b[0m     \u001b[1;31m# next line is where the fmin is actually executed\u001b[0m\u001b[1;33m\u001b[0m\u001b[1;33m\u001b[0m\u001b[1;33m\u001b[0m\u001b[0m\n\u001b[1;32m--> 553\u001b[1;33m     \u001b[0mrval\u001b[0m\u001b[1;33m.\u001b[0m\u001b[0mexhaust\u001b[0m\u001b[1;33m(\u001b[0m\u001b[1;33m)\u001b[0m\u001b[1;33m\u001b[0m\u001b[1;33m\u001b[0m\u001b[0m\n\u001b[0m\u001b[0;32m    554\u001b[0m \u001b[1;33m\u001b[0m\u001b[0m\n\u001b[0;32m    555\u001b[0m     \u001b[1;32mif\u001b[0m \u001b[0mreturn_argmin\u001b[0m\u001b[1;33m:\u001b[0m\u001b[1;33m\u001b[0m\u001b[1;33m\u001b[0m\u001b[0m\n",
      "\u001b[1;32mD:\\Anaconda\\envs\\data_engeneering\\lib\\site-packages\\hyperopt\\fmin.py\u001b[0m in \u001b[0;36mexhaust\u001b[1;34m(self)\u001b[0m\n\u001b[0;32m    354\u001b[0m     \u001b[1;32mdef\u001b[0m \u001b[0mexhaust\u001b[0m\u001b[1;33m(\u001b[0m\u001b[0mself\u001b[0m\u001b[1;33m)\u001b[0m\u001b[1;33m:\u001b[0m\u001b[1;33m\u001b[0m\u001b[1;33m\u001b[0m\u001b[0m\n\u001b[0;32m    355\u001b[0m         \u001b[0mn_done\u001b[0m \u001b[1;33m=\u001b[0m \u001b[0mlen\u001b[0m\u001b[1;33m(\u001b[0m\u001b[0mself\u001b[0m\u001b[1;33m.\u001b[0m\u001b[0mtrials\u001b[0m\u001b[1;33m)\u001b[0m\u001b[1;33m\u001b[0m\u001b[1;33m\u001b[0m\u001b[0m\n\u001b[1;32m--> 356\u001b[1;33m         \u001b[0mself\u001b[0m\u001b[1;33m.\u001b[0m\u001b[0mrun\u001b[0m\u001b[1;33m(\u001b[0m\u001b[0mself\u001b[0m\u001b[1;33m.\u001b[0m\u001b[0mmax_evals\u001b[0m \u001b[1;33m-\u001b[0m \u001b[0mn_done\u001b[0m\u001b[1;33m,\u001b[0m \u001b[0mblock_until_done\u001b[0m\u001b[1;33m=\u001b[0m\u001b[0mself\u001b[0m\u001b[1;33m.\u001b[0m\u001b[0masynchronous\u001b[0m\u001b[1;33m)\u001b[0m\u001b[1;33m\u001b[0m\u001b[1;33m\u001b[0m\u001b[0m\n\u001b[0m\u001b[0;32m    357\u001b[0m         \u001b[0mself\u001b[0m\u001b[1;33m.\u001b[0m\u001b[0mtrials\u001b[0m\u001b[1;33m.\u001b[0m\u001b[0mrefresh\u001b[0m\u001b[1;33m(\u001b[0m\u001b[1;33m)\u001b[0m\u001b[1;33m\u001b[0m\u001b[1;33m\u001b[0m\u001b[0m\n\u001b[0;32m    358\u001b[0m         \u001b[1;32mreturn\u001b[0m \u001b[0mself\u001b[0m\u001b[1;33m\u001b[0m\u001b[1;33m\u001b[0m\u001b[0m\n",
      "\u001b[1;32mD:\\Anaconda\\envs\\data_engeneering\\lib\\site-packages\\hyperopt\\fmin.py\u001b[0m in \u001b[0;36mrun\u001b[1;34m(self, N, block_until_done)\u001b[0m\n\u001b[0;32m    290\u001b[0m                 \u001b[1;32melse\u001b[0m\u001b[1;33m:\u001b[0m\u001b[1;33m\u001b[0m\u001b[1;33m\u001b[0m\u001b[0m\n\u001b[0;32m    291\u001b[0m                     \u001b[1;31m# -- loop over trials and do the jobs directly\u001b[0m\u001b[1;33m\u001b[0m\u001b[1;33m\u001b[0m\u001b[1;33m\u001b[0m\u001b[0m\n\u001b[1;32m--> 292\u001b[1;33m                     \u001b[0mself\u001b[0m\u001b[1;33m.\u001b[0m\u001b[0mserial_evaluate\u001b[0m\u001b[1;33m(\u001b[0m\u001b[1;33m)\u001b[0m\u001b[1;33m\u001b[0m\u001b[1;33m\u001b[0m\u001b[0m\n\u001b[0m\u001b[0;32m    293\u001b[0m \u001b[1;33m\u001b[0m\u001b[0m\n\u001b[0;32m    294\u001b[0m                 \u001b[0mself\u001b[0m\u001b[1;33m.\u001b[0m\u001b[0mtrials\u001b[0m\u001b[1;33m.\u001b[0m\u001b[0mrefresh\u001b[0m\u001b[1;33m(\u001b[0m\u001b[1;33m)\u001b[0m\u001b[1;33m\u001b[0m\u001b[1;33m\u001b[0m\u001b[0m\n",
      "\u001b[1;32mD:\\Anaconda\\envs\\data_engeneering\\lib\\site-packages\\hyperopt\\fmin.py\u001b[0m in \u001b[0;36mserial_evaluate\u001b[1;34m(self, N)\u001b[0m\n\u001b[0;32m    168\u001b[0m                 \u001b[0mctrl\u001b[0m \u001b[1;33m=\u001b[0m \u001b[0mbase\u001b[0m\u001b[1;33m.\u001b[0m\u001b[0mCtrl\u001b[0m\u001b[1;33m(\u001b[0m\u001b[0mself\u001b[0m\u001b[1;33m.\u001b[0m\u001b[0mtrials\u001b[0m\u001b[1;33m,\u001b[0m \u001b[0mcurrent_trial\u001b[0m\u001b[1;33m=\u001b[0m\u001b[0mtrial\u001b[0m\u001b[1;33m)\u001b[0m\u001b[1;33m\u001b[0m\u001b[1;33m\u001b[0m\u001b[0m\n\u001b[0;32m    169\u001b[0m                 \u001b[1;32mtry\u001b[0m\u001b[1;33m:\u001b[0m\u001b[1;33m\u001b[0m\u001b[1;33m\u001b[0m\u001b[0m\n\u001b[1;32m--> 170\u001b[1;33m                     \u001b[0mresult\u001b[0m \u001b[1;33m=\u001b[0m \u001b[0mself\u001b[0m\u001b[1;33m.\u001b[0m\u001b[0mdomain\u001b[0m\u001b[1;33m.\u001b[0m\u001b[0mevaluate\u001b[0m\u001b[1;33m(\u001b[0m\u001b[0mspec\u001b[0m\u001b[1;33m,\u001b[0m \u001b[0mctrl\u001b[0m\u001b[1;33m)\u001b[0m\u001b[1;33m\u001b[0m\u001b[1;33m\u001b[0m\u001b[0m\n\u001b[0m\u001b[0;32m    171\u001b[0m                 \u001b[1;32mexcept\u001b[0m \u001b[0mException\u001b[0m \u001b[1;32mas\u001b[0m \u001b[0me\u001b[0m\u001b[1;33m:\u001b[0m\u001b[1;33m\u001b[0m\u001b[1;33m\u001b[0m\u001b[0m\n\u001b[0;32m    172\u001b[0m                     \u001b[0mlogger\u001b[0m\u001b[1;33m.\u001b[0m\u001b[0merror\u001b[0m\u001b[1;33m(\u001b[0m\u001b[1;34m\"job exception: %s\"\u001b[0m \u001b[1;33m%\u001b[0m \u001b[0mstr\u001b[0m\u001b[1;33m(\u001b[0m\u001b[0me\u001b[0m\u001b[1;33m)\u001b[0m\u001b[1;33m)\u001b[0m\u001b[1;33m\u001b[0m\u001b[1;33m\u001b[0m\u001b[0m\n",
      "\u001b[1;32mD:\\Anaconda\\envs\\data_engeneering\\lib\\site-packages\\hyperopt\\base.py\u001b[0m in \u001b[0;36mevaluate\u001b[1;34m(self, config, ctrl, attach_attachments)\u001b[0m\n\u001b[0;32m    905\u001b[0m                 \u001b[0mprint_node_on_error\u001b[0m\u001b[1;33m=\u001b[0m\u001b[0mself\u001b[0m\u001b[1;33m.\u001b[0m\u001b[0mrec_eval_print_node_on_error\u001b[0m\u001b[1;33m,\u001b[0m\u001b[1;33m\u001b[0m\u001b[1;33m\u001b[0m\u001b[0m\n\u001b[0;32m    906\u001b[0m             )\n\u001b[1;32m--> 907\u001b[1;33m             \u001b[0mrval\u001b[0m \u001b[1;33m=\u001b[0m \u001b[0mself\u001b[0m\u001b[1;33m.\u001b[0m\u001b[0mfn\u001b[0m\u001b[1;33m(\u001b[0m\u001b[0mpyll_rval\u001b[0m\u001b[1;33m)\u001b[0m\u001b[1;33m\u001b[0m\u001b[1;33m\u001b[0m\u001b[0m\n\u001b[0m\u001b[0;32m    908\u001b[0m \u001b[1;33m\u001b[0m\u001b[0m\n\u001b[0;32m    909\u001b[0m         \u001b[1;32mif\u001b[0m \u001b[0misinstance\u001b[0m\u001b[1;33m(\u001b[0m\u001b[0mrval\u001b[0m\u001b[1;33m,\u001b[0m \u001b[1;33m(\u001b[0m\u001b[0mfloat\u001b[0m\u001b[1;33m,\u001b[0m \u001b[0mint\u001b[0m\u001b[1;33m,\u001b[0m \u001b[0mnp\u001b[0m\u001b[1;33m.\u001b[0m\u001b[0mnumber\u001b[0m\u001b[1;33m)\u001b[0m\u001b[1;33m)\u001b[0m\u001b[1;33m:\u001b[0m\u001b[1;33m\u001b[0m\u001b[1;33m\u001b[0m\u001b[0m\n",
      "\u001b[1;32m<ipython-input-63-92d0b3567357>\u001b[0m in \u001b[0;36mcreate_model_hypopt\u001b[1;34m(params)\u001b[0m\n\u001b[0;32m     90\u001b[0m     history = lstm_model.fit(x_train_ts, y_train_ts, epochs=epochs, verbose=2, batch_size=batch_size,\n\u001b[0;32m     91\u001b[0m                              \u001b[0mvalidation_data\u001b[0m\u001b[1;33m=\u001b[0m\u001b[1;33m[\u001b[0m\u001b[0mx_test_ts\u001b[0m\u001b[1;33m,\u001b[0m \u001b[0my_test_ts\u001b[0m\u001b[1;33m]\u001b[0m\u001b[1;33m,\u001b[0m\u001b[1;33m\u001b[0m\u001b[1;33m\u001b[0m\u001b[0m\n\u001b[1;32m---> 92\u001b[1;33m                              callbacks=[early_stop, checkpoint])\n\u001b[0m\u001b[0;32m     93\u001b[0m     \u001b[0mval_error\u001b[0m \u001b[1;33m=\u001b[0m \u001b[0mnp\u001b[0m\u001b[1;33m.\u001b[0m\u001b[0mamin\u001b[0m\u001b[1;33m(\u001b[0m\u001b[0mhistory\u001b[0m\u001b[1;33m.\u001b[0m\u001b[0mhistory\u001b[0m\u001b[1;33m[\u001b[0m\u001b[1;34m'val_loss'\u001b[0m\u001b[1;33m]\u001b[0m\u001b[1;33m)\u001b[0m\u001b[1;33m\u001b[0m\u001b[1;33m\u001b[0m\u001b[0m\n\u001b[0;32m     94\u001b[0m     \u001b[0mprint\u001b[0m\u001b[1;33m(\u001b[0m\u001b[1;34m'Best validation error of epoch:'\u001b[0m\u001b[1;33m,\u001b[0m \u001b[0mval_error\u001b[0m\u001b[1;33m)\u001b[0m\u001b[1;33m\u001b[0m\u001b[1;33m\u001b[0m\u001b[0m\n",
      "\u001b[1;32mD:\\Anaconda\\envs\\data_engeneering\\lib\\site-packages\\tensorflow\\python\\keras\\engine\\training.py\u001b[0m in \u001b[0;36mfit\u001b[1;34m(self, x, y, batch_size, epochs, verbose, callbacks, validation_split, validation_data, shuffle, class_weight, sample_weight, initial_epoch, steps_per_epoch, validation_steps, validation_batch_size, validation_freq, max_queue_size, workers, use_multiprocessing)\u001b[0m\n\u001b[0;32m   1098\u001b[0m                 _r=1):\n\u001b[0;32m   1099\u001b[0m               \u001b[0mcallbacks\u001b[0m\u001b[1;33m.\u001b[0m\u001b[0mon_train_batch_begin\u001b[0m\u001b[1;33m(\u001b[0m\u001b[0mstep\u001b[0m\u001b[1;33m)\u001b[0m\u001b[1;33m\u001b[0m\u001b[1;33m\u001b[0m\u001b[0m\n\u001b[1;32m-> 1100\u001b[1;33m               \u001b[0mtmp_logs\u001b[0m \u001b[1;33m=\u001b[0m \u001b[0mself\u001b[0m\u001b[1;33m.\u001b[0m\u001b[0mtrain_function\u001b[0m\u001b[1;33m(\u001b[0m\u001b[0miterator\u001b[0m\u001b[1;33m)\u001b[0m\u001b[1;33m\u001b[0m\u001b[1;33m\u001b[0m\u001b[0m\n\u001b[0m\u001b[0;32m   1101\u001b[0m               \u001b[1;32mif\u001b[0m \u001b[0mdata_handler\u001b[0m\u001b[1;33m.\u001b[0m\u001b[0mshould_sync\u001b[0m\u001b[1;33m:\u001b[0m\u001b[1;33m\u001b[0m\u001b[1;33m\u001b[0m\u001b[0m\n\u001b[0;32m   1102\u001b[0m                 \u001b[0mcontext\u001b[0m\u001b[1;33m.\u001b[0m\u001b[0masync_wait\u001b[0m\u001b[1;33m(\u001b[0m\u001b[1;33m)\u001b[0m\u001b[1;33m\u001b[0m\u001b[1;33m\u001b[0m\u001b[0m\n",
      "\u001b[1;32mD:\\Anaconda\\envs\\data_engeneering\\lib\\site-packages\\tensorflow\\python\\eager\\def_function.py\u001b[0m in \u001b[0;36m__call__\u001b[1;34m(self, *args, **kwds)\u001b[0m\n\u001b[0;32m    826\u001b[0m     \u001b[0mtracing_count\u001b[0m \u001b[1;33m=\u001b[0m \u001b[0mself\u001b[0m\u001b[1;33m.\u001b[0m\u001b[0mexperimental_get_tracing_count\u001b[0m\u001b[1;33m(\u001b[0m\u001b[1;33m)\u001b[0m\u001b[1;33m\u001b[0m\u001b[1;33m\u001b[0m\u001b[0m\n\u001b[0;32m    827\u001b[0m     \u001b[1;32mwith\u001b[0m \u001b[0mtrace\u001b[0m\u001b[1;33m.\u001b[0m\u001b[0mTrace\u001b[0m\u001b[1;33m(\u001b[0m\u001b[0mself\u001b[0m\u001b[1;33m.\u001b[0m\u001b[0m_name\u001b[0m\u001b[1;33m)\u001b[0m \u001b[1;32mas\u001b[0m \u001b[0mtm\u001b[0m\u001b[1;33m:\u001b[0m\u001b[1;33m\u001b[0m\u001b[1;33m\u001b[0m\u001b[0m\n\u001b[1;32m--> 828\u001b[1;33m       \u001b[0mresult\u001b[0m \u001b[1;33m=\u001b[0m \u001b[0mself\u001b[0m\u001b[1;33m.\u001b[0m\u001b[0m_call\u001b[0m\u001b[1;33m(\u001b[0m\u001b[1;33m*\u001b[0m\u001b[0margs\u001b[0m\u001b[1;33m,\u001b[0m \u001b[1;33m**\u001b[0m\u001b[0mkwds\u001b[0m\u001b[1;33m)\u001b[0m\u001b[1;33m\u001b[0m\u001b[1;33m\u001b[0m\u001b[0m\n\u001b[0m\u001b[0;32m    829\u001b[0m       \u001b[0mcompiler\u001b[0m \u001b[1;33m=\u001b[0m \u001b[1;34m\"xla\"\u001b[0m \u001b[1;32mif\u001b[0m \u001b[0mself\u001b[0m\u001b[1;33m.\u001b[0m\u001b[0m_experimental_compile\u001b[0m \u001b[1;32melse\u001b[0m \u001b[1;34m\"nonXla\"\u001b[0m\u001b[1;33m\u001b[0m\u001b[1;33m\u001b[0m\u001b[0m\n\u001b[0;32m    830\u001b[0m       \u001b[0mnew_tracing_count\u001b[0m \u001b[1;33m=\u001b[0m \u001b[0mself\u001b[0m\u001b[1;33m.\u001b[0m\u001b[0mexperimental_get_tracing_count\u001b[0m\u001b[1;33m(\u001b[0m\u001b[1;33m)\u001b[0m\u001b[1;33m\u001b[0m\u001b[1;33m\u001b[0m\u001b[0m\n",
      "\u001b[1;32mD:\\Anaconda\\envs\\data_engeneering\\lib\\site-packages\\tensorflow\\python\\eager\\def_function.py\u001b[0m in \u001b[0;36m_call\u001b[1;34m(self, *args, **kwds)\u001b[0m\n\u001b[0;32m    853\u001b[0m       \u001b[1;31m# In this case we have created variables on the first call, so we run the\u001b[0m\u001b[1;33m\u001b[0m\u001b[1;33m\u001b[0m\u001b[1;33m\u001b[0m\u001b[0m\n\u001b[0;32m    854\u001b[0m       \u001b[1;31m# defunned version which is guaranteed to never create variables.\u001b[0m\u001b[1;33m\u001b[0m\u001b[1;33m\u001b[0m\u001b[1;33m\u001b[0m\u001b[0m\n\u001b[1;32m--> 855\u001b[1;33m       \u001b[1;32mreturn\u001b[0m \u001b[0mself\u001b[0m\u001b[1;33m.\u001b[0m\u001b[0m_stateless_fn\u001b[0m\u001b[1;33m(\u001b[0m\u001b[1;33m*\u001b[0m\u001b[0margs\u001b[0m\u001b[1;33m,\u001b[0m \u001b[1;33m**\u001b[0m\u001b[0mkwds\u001b[0m\u001b[1;33m)\u001b[0m  \u001b[1;31m# pylint: disable=not-callable\u001b[0m\u001b[1;33m\u001b[0m\u001b[1;33m\u001b[0m\u001b[0m\n\u001b[0m\u001b[0;32m    856\u001b[0m     \u001b[1;32melif\u001b[0m \u001b[0mself\u001b[0m\u001b[1;33m.\u001b[0m\u001b[0m_stateful_fn\u001b[0m \u001b[1;32mis\u001b[0m \u001b[1;32mnot\u001b[0m \u001b[1;32mNone\u001b[0m\u001b[1;33m:\u001b[0m\u001b[1;33m\u001b[0m\u001b[1;33m\u001b[0m\u001b[0m\n\u001b[0;32m    857\u001b[0m       \u001b[1;31m# Release the lock early so that multiple threads can perform the call\u001b[0m\u001b[1;33m\u001b[0m\u001b[1;33m\u001b[0m\u001b[1;33m\u001b[0m\u001b[0m\n",
      "\u001b[1;32mD:\\Anaconda\\envs\\data_engeneering\\lib\\site-packages\\tensorflow\\python\\eager\\function.py\u001b[0m in \u001b[0;36m__call__\u001b[1;34m(self, *args, **kwargs)\u001b[0m\n\u001b[0;32m   2941\u001b[0m        filtered_flat_args) = self._maybe_define_function(args, kwargs)\n\u001b[0;32m   2942\u001b[0m     return graph_function._call_flat(\n\u001b[1;32m-> 2943\u001b[1;33m         filtered_flat_args, captured_inputs=graph_function.captured_inputs)  # pylint: disable=protected-access\n\u001b[0m\u001b[0;32m   2944\u001b[0m \u001b[1;33m\u001b[0m\u001b[0m\n\u001b[0;32m   2945\u001b[0m   \u001b[1;33m@\u001b[0m\u001b[0mproperty\u001b[0m\u001b[1;33m\u001b[0m\u001b[1;33m\u001b[0m\u001b[0m\n",
      "\u001b[1;32mD:\\Anaconda\\envs\\data_engeneering\\lib\\site-packages\\tensorflow\\python\\eager\\function.py\u001b[0m in \u001b[0;36m_call_flat\u001b[1;34m(self, args, captured_inputs, cancellation_manager)\u001b[0m\n\u001b[0;32m   1917\u001b[0m       \u001b[1;31m# No tape is watching; skip to running the function.\u001b[0m\u001b[1;33m\u001b[0m\u001b[1;33m\u001b[0m\u001b[1;33m\u001b[0m\u001b[0m\n\u001b[0;32m   1918\u001b[0m       return self._build_call_outputs(self._inference_function.call(\n\u001b[1;32m-> 1919\u001b[1;33m           ctx, args, cancellation_manager=cancellation_manager))\n\u001b[0m\u001b[0;32m   1920\u001b[0m     forward_backward = self._select_forward_and_backward_functions(\n\u001b[0;32m   1921\u001b[0m         \u001b[0margs\u001b[0m\u001b[1;33m,\u001b[0m\u001b[1;33m\u001b[0m\u001b[1;33m\u001b[0m\u001b[0m\n",
      "\u001b[1;32mD:\\Anaconda\\envs\\data_engeneering\\lib\\site-packages\\tensorflow\\python\\eager\\function.py\u001b[0m in \u001b[0;36mcall\u001b[1;34m(self, ctx, args, cancellation_manager)\u001b[0m\n\u001b[0;32m    558\u001b[0m               \u001b[0minputs\u001b[0m\u001b[1;33m=\u001b[0m\u001b[0margs\u001b[0m\u001b[1;33m,\u001b[0m\u001b[1;33m\u001b[0m\u001b[1;33m\u001b[0m\u001b[0m\n\u001b[0;32m    559\u001b[0m               \u001b[0mattrs\u001b[0m\u001b[1;33m=\u001b[0m\u001b[0mattrs\u001b[0m\u001b[1;33m,\u001b[0m\u001b[1;33m\u001b[0m\u001b[1;33m\u001b[0m\u001b[0m\n\u001b[1;32m--> 560\u001b[1;33m               ctx=ctx)\n\u001b[0m\u001b[0;32m    561\u001b[0m         \u001b[1;32melse\u001b[0m\u001b[1;33m:\u001b[0m\u001b[1;33m\u001b[0m\u001b[1;33m\u001b[0m\u001b[0m\n\u001b[0;32m    562\u001b[0m           outputs = execute.execute_with_cancellation(\n",
      "\u001b[1;32mD:\\Anaconda\\envs\\data_engeneering\\lib\\site-packages\\tensorflow\\python\\eager\\execute.py\u001b[0m in \u001b[0;36mquick_execute\u001b[1;34m(op_name, num_outputs, inputs, attrs, ctx, name)\u001b[0m\n\u001b[0;32m     58\u001b[0m     \u001b[0mctx\u001b[0m\u001b[1;33m.\u001b[0m\u001b[0mensure_initialized\u001b[0m\u001b[1;33m(\u001b[0m\u001b[1;33m)\u001b[0m\u001b[1;33m\u001b[0m\u001b[1;33m\u001b[0m\u001b[0m\n\u001b[0;32m     59\u001b[0m     tensors = pywrap_tfe.TFE_Py_Execute(ctx._handle, device_name, op_name,\n\u001b[1;32m---> 60\u001b[1;33m                                         inputs, attrs, num_outputs)\n\u001b[0m\u001b[0;32m     61\u001b[0m   \u001b[1;32mexcept\u001b[0m \u001b[0mcore\u001b[0m\u001b[1;33m.\u001b[0m\u001b[0m_NotOkStatusException\u001b[0m \u001b[1;32mas\u001b[0m \u001b[0me\u001b[0m\u001b[1;33m:\u001b[0m\u001b[1;33m\u001b[0m\u001b[1;33m\u001b[0m\u001b[0m\n\u001b[0;32m     62\u001b[0m     \u001b[1;32mif\u001b[0m \u001b[0mname\u001b[0m \u001b[1;32mis\u001b[0m \u001b[1;32mnot\u001b[0m \u001b[1;32mNone\u001b[0m\u001b[1;33m:\u001b[0m\u001b[1;33m\u001b[0m\u001b[1;33m\u001b[0m\u001b[0m\n",
      "\u001b[1;31mInvalidArgumentError\u001b[0m:  Incompatible shapes: [56,80] vs. [60,80]\n\t [[{{node sequential_42/lstm_55/while/body/_1/sequential_42/lstm_55/while/lstm_cell_55/add_4}}]] [Op:__inference_train_function_77428]\n\nFunction call stack:\ntrain_function\n"
     ]
    }
   ],
   "source": [
    "from hyperopt import Trials, STATUS_OK, tpe, fmin, hp\n",
    "from tensorflow.keras import optimizers\n",
    "\n",
    "def data(batch_size, time_steps):\n",
    "    \"\"\"\n",
    "    function that returns data to be fed into objective function and model is trained on it subsequently.\n",
    "    \"\"\"\n",
    "    global mat\n",
    "\n",
    "    BATCH_SIZE = batch_size\n",
    "    TIME_STEPS = time_steps\n",
    "    x_train, x_test = train_test_split(mat, train_size=0.8, test_size=0.2, shuffle=False)\n",
    "    # scale the train and test dataset\n",
    "    min_max_scaler = MinMaxScaler()\n",
    "    x_train = min_max_scaler.fit_transform(x_train)\n",
    "    x_test = min_max_scaler.transform(x_test)\n",
    "\n",
    "    x_train_ts, y_train_ts = build_timeseries(x_train, 3, TIME_STEPS)\n",
    "    x_test_ts, y_test_ts = build_timeseries(x_test, 3, TIME_STEPS)\n",
    "    x_train_ts = trim_dataset(x_train_ts, BATCH_SIZE)\n",
    "    y_train_ts = trim_dataset(y_train_ts, BATCH_SIZE)\n",
    "    x_test_ts = trim_dataset(x_test_ts, BATCH_SIZE)\n",
    "    y_test_ts = trim_dataset(y_test_ts, BATCH_SIZE)\n",
    "    return x_train_ts, y_train_ts, x_test_ts, y_test_ts\n",
    "\n",
    "search_space = {\n",
    "    'batch_size': hp.choice('bs', [30,40,50,60,70]),\n",
    "    'time_steps': hp.choice('ts', [30,50,60,80,90]),\n",
    "    'lstm1_nodes': hp.choice('units_lsmt1', [70,80,100,130]),\n",
    "    'lstm1_dropouts': hp.uniform('dos_lstm1',0,1),\n",
    "    'lstm_layers': hp.choice('num_layers_lstm',[\n",
    "        {\n",
    "            'layers':'one', \n",
    "        },\n",
    "        {\n",
    "            'layers':'two',\n",
    "            'lstm2_nodes': hp.choice('units_lstm2', [20,30,40,50]),\n",
    "            'lstm2_dropouts': hp.uniform('dos_lstm2',0,1)  \n",
    "        }\n",
    "        ]),\n",
    "    'dense_layers': hp.choice('num_layers_dense',[\n",
    "        {\n",
    "            'layers':'one'\n",
    "        },\n",
    "        {\n",
    "            'layers':'two',\n",
    "            'dense2_nodes': hp.choice('units_dense', [10,20,30,40])\n",
    "        }\n",
    "        ]),\n",
    "    \"lr\": hp.uniform('lr',0,1),\n",
    "    \"epochs\": hp.choice('epochs', [30, 40, 50, 60, 70]),\n",
    "    \"optimizer\": hp.choice('optmz',[\"sgd\", \"rms\"])\n",
    "}\n",
    "\n",
    "def create_model_hypopt(params):\n",
    "    \"\"\"\n",
    "    This method is called for each combination of parameter set to train the model and validate it against validation data\n",
    "    to see all the results, from which best can be selected.\n",
    "    \"\"\"\n",
    "    print(\"Trying params:\",params)\n",
    "    batch_size = params[\"batch_size\"]\n",
    "    time_steps = params[\"time_steps\"]\n",
    "    # For most cases preparation of data can be done once and used 'n' number of times in this method to train the model\n",
    "    # but in this case we want to find optimal value for batch_size and time_steps too. So our data preparation has to be done\n",
    "    # based on that. Hence calling it from here.\n",
    "    # x_train_ts, y_train_ts, x_test_ts, y_test_ts = data(batch_size, time_steps)\n",
    "    x_train_ts, y_train_ts, x_test_ts, y_test_ts = x_train, y_train, x_valid, y_valid\n",
    "    print(x_train_ts.shape[2])\n",
    "    \n",
    "    lstm_model = Sequential()\n",
    "    # (batch_size, timesteps, data_dim)\n",
    "    lstm_model.add(LSTM(params[\"lstm1_nodes\"], batch_input_shape=(batch_size, time_steps, x_train_ts.shape[2]), dropout=params[\"lstm1_dropouts\"],\n",
    "                        recurrent_dropout=params[\"lstm1_dropouts\"], stateful=True, return_sequences=True,\n",
    "                        kernel_initializer='random_uniform'))\n",
    "    if params[\"lstm_layers\"][\"layers\"] == \"two\":\n",
    "        lstm_model.add(LSTM(params[\"lstm_layers\"][\"lstm2_nodes\"], dropout=params[\"lstm_layers\"][\"lstm2_dropouts\"]))\n",
    "    else:\n",
    "        lstm_model.add(Flatten())\n",
    "\n",
    "    if params[\"dense_layers\"][\"layers\"] == 'two':\n",
    "        lstm_model.add(Dense(params[\"dense_layers\"][\"dense2_nodes\"], activation='relu'))\n",
    "    else:\n",
    "        lstm_model.add(Dense(1, activation='relu'))\n",
    "\n",
    "    lr = params[\"lr\"]\n",
    "    epochs = params[\"epochs\"]\n",
    "    print('params_opt : ', params[\"optimizer\"])\n",
    "    if params[\"optimizer\"] == 'rms':\n",
    "        optimizer = optimizers.RMSprop(lr=lr)\n",
    "    else:\n",
    "        optimizer = optimizers.SGD(lr=lr, decay=1e-6, momentum=0.9, nesterov=True)\n",
    "\n",
    "    lstm_model.compile(loss='mean_squared_error', optimizer='adam')  # binary_crossentropy\n",
    "    early_stop = EarlyStopping(monitor='val_loss', patience=10)\n",
    "    checkpoint = ModelCheckpoint(filename[0], monitor='val_loss', verbose=1, save_best_only=True, mode='auto')\n",
    "    history = lstm_model.fit(x_train_ts, y_train_ts, epochs=epochs, verbose=2, batch_size=batch_size,\n",
    "                             validation_data=[x_test_ts, y_test_ts],\n",
    "                             callbacks=[early_stop, checkpoint])\n",
    "    val_error = np.amin(history.history['val_loss']) \n",
    "    print('Best validation error of epoch:', val_error)\n",
    "    return {'loss': val_error, 'status': STATUS_OK, 'model': lstm_model} # if accuracy use '-' sign\n",
    "    # return history, lstm_model\n",
    "\n",
    "# Trails object let's you return and store extra information from objective function, which\n",
    "# can be analysed later. Check \"trails.trails\" which returns all the list of dictionaries \n",
    "trials = Trials()\n",
    "best = fmin(create_model_hypopt,\n",
    "    space=search_space,\n",
    "    algo=tpe.suggest, # type random.suggest to select param values randomly\n",
    "    max_evals=200, # max number of evaluations you want to do on objective function\n",
    "    trials=trials)"
   ]
  },
  {
   "cell_type": "code",
   "execution_count": null,
   "id": "12bc0a22",
   "metadata": {
    "scrolled": true
   },
   "outputs": [],
   "source": [
    "early_stop = EarlyStopping(monitor='val_loss', patience=10)\n",
    "checkpoint = ModelCheckpoint(filename[0], monitor='val_loss', verbose=1, save_best_only=True, mode='auto')\n",
    "history_0 = model_0.fit(x_train, y_train, epochs=epoch,\n",
    "                                      validation_data=(x_valid, y_valid), \n",
    "                                      callbacks=[early_stop, checkpoint])"
   ]
  },
  {
   "source": [
    "floating_pred = model_0.predict(pred_feature)\n",
    "floating_pred"
   ],
   "cell_type": "code",
   "metadata": {},
   "execution_count": null,
   "outputs": []
  },
  {
   "cell_type": "code",
   "execution_count": 38,
   "metadata": {},
   "outputs": [
    {
     "output_type": "execute_result",
     "data": {
      "text/plain": [
       "             Forecast_time  Temperature   Humidity  WindSpeed  WindDirection  \\\n",
       "0      2018-03-02 00:00:00    -2.000000  55.000000   6.700000     336.000000   \n",
       "1      2018-03-02 01:00:00    -2.333333  55.000000   6.133333     337.000000   \n",
       "2      2018-03-02 02:00:00    -2.666667  55.000000   5.566667     338.000000   \n",
       "3      2018-03-02 03:00:00    -3.000000  55.000000   5.000000     339.000000   \n",
       "4      2018-03-02 04:00:00    -3.333333  56.666667   4.700000     343.666667   \n",
       "...                    ...          ...        ...        ...            ...   \n",
       "26299  2021-03-01 19:00:00     5.333333  83.333333   7.466667      20.333333   \n",
       "26300  2021-03-01 20:00:00     4.666667  81.666667   7.333333      23.666667   \n",
       "26301  2021-03-01 21:00:00     4.000000  80.000000   7.200000      27.000000   \n",
       "26302  2021-03-01 22:00:00     4.000000  80.000000   7.200000      27.000000   \n",
       "26303  2021-03-01 23:00:00     4.000000  80.000000   7.200000      27.000000   \n",
       "\n",
       "       Cloud    Wind_X    Wind_Y       Day sin       Day cos  Year sin  \\\n",
       "0        1.0  6.120755 -2.725136 -7.071068e-01 -7.071068e-01  0.858280   \n",
       "1        1.0  5.645763 -2.396484 -8.660254e-01 -5.000000e-01  0.858648   \n",
       "2        1.0  5.161323 -2.085310 -9.659258e-01 -2.588190e-01  0.859015   \n",
       "3        1.0  4.667902 -1.791840 -1.000000e+00 -3.848660e-12  0.859382   \n",
       "4        1.0  4.510317 -1.321758 -9.659258e-01  2.588190e-01  0.859748   \n",
       "...      ...       ...       ...           ...           ...       ...   \n",
       "26299    4.0  7.001396  2.594527  5.000000e-01 -8.660254e-01  0.858846   \n",
       "26300    4.0  6.716573  2.943710  2.588190e-01 -9.659258e-01  0.859213   \n",
       "26301    4.0  6.415247  3.268732  4.907520e-12 -1.000000e+00  0.859579   \n",
       "26302    4.0  6.415247  3.268732 -2.588190e-01 -9.659258e-01  0.859945   \n",
       "26303    4.0  6.415247  3.268732 -5.000000e-01 -8.660254e-01  0.860311   \n",
       "\n",
       "       Year cos  declination   sunrise     sunset  altitude  Insolation  \\\n",
       "0      0.513182    -8.293705  6.993442  17.189351       0.0         0.0   \n",
       "1      0.512566    -8.293705  6.993442  17.189351       0.0         0.0   \n",
       "2      0.511951    -8.293705  6.993442  17.189351       0.0         0.0   \n",
       "3      0.511335    -8.293705  6.993442  17.189351       0.0         0.0   \n",
       "4      0.510719    -8.293705  6.993442  17.189351       0.0         0.0   \n",
       "...         ...          ...       ...        ...       ...         ...   \n",
       "26299  0.512234    -8.293705  6.993442  17.189351       0.0         0.0   \n",
       "26300  0.511618    -8.293705  6.993442  17.189351       0.0         0.0   \n",
       "26301  0.511002    -8.293705  6.993442  17.189351       0.0         0.0   \n",
       "26302  0.510386    -8.293705  6.993442  17.189351       0.0         0.0   \n",
       "26303  0.509769    -8.293705  6.993442  17.189351       0.0         0.0   \n",
       "\n",
       "       dangjin_warehouse  \n",
       "0                    0.0  \n",
       "1                    0.0  \n",
       "2                    0.0  \n",
       "3                    0.0  \n",
       "4                    0.0  \n",
       "...                  ...  \n",
       "26299                NaN  \n",
       "26300                NaN  \n",
       "26301                NaN  \n",
       "26302                NaN  \n",
       "26303                NaN  \n",
       "\n",
       "[26304 rows x 18 columns]"
      ],
      "text/html": "<div>\n<style scoped>\n    .dataframe tbody tr th:only-of-type {\n        vertical-align: middle;\n    }\n\n    .dataframe tbody tr th {\n        vertical-align: top;\n    }\n\n    .dataframe thead th {\n        text-align: right;\n    }\n</style>\n<table border=\"1\" class=\"dataframe\">\n  <thead>\n    <tr style=\"text-align: right;\">\n      <th></th>\n      <th>Forecast_time</th>\n      <th>Temperature</th>\n      <th>Humidity</th>\n      <th>WindSpeed</th>\n      <th>WindDirection</th>\n      <th>Cloud</th>\n      <th>Wind_X</th>\n      <th>Wind_Y</th>\n      <th>Day sin</th>\n      <th>Day cos</th>\n      <th>Year sin</th>\n      <th>Year cos</th>\n      <th>declination</th>\n      <th>sunrise</th>\n      <th>sunset</th>\n      <th>altitude</th>\n      <th>Insolation</th>\n      <th>dangjin_warehouse</th>\n    </tr>\n  </thead>\n  <tbody>\n    <tr>\n      <th>0</th>\n      <td>2018-03-02 00:00:00</td>\n      <td>-2.000000</td>\n      <td>55.000000</td>\n      <td>6.700000</td>\n      <td>336.000000</td>\n      <td>1.0</td>\n      <td>6.120755</td>\n      <td>-2.725136</td>\n      <td>-7.071068e-01</td>\n      <td>-7.071068e-01</td>\n      <td>0.858280</td>\n      <td>0.513182</td>\n      <td>-8.293705</td>\n      <td>6.993442</td>\n      <td>17.189351</td>\n      <td>0.0</td>\n      <td>0.0</td>\n      <td>0.0</td>\n    </tr>\n    <tr>\n      <th>1</th>\n      <td>2018-03-02 01:00:00</td>\n      <td>-2.333333</td>\n      <td>55.000000</td>\n      <td>6.133333</td>\n      <td>337.000000</td>\n      <td>1.0</td>\n      <td>5.645763</td>\n      <td>-2.396484</td>\n      <td>-8.660254e-01</td>\n      <td>-5.000000e-01</td>\n      <td>0.858648</td>\n      <td>0.512566</td>\n      <td>-8.293705</td>\n      <td>6.993442</td>\n      <td>17.189351</td>\n      <td>0.0</td>\n      <td>0.0</td>\n      <td>0.0</td>\n    </tr>\n    <tr>\n      <th>2</th>\n      <td>2018-03-02 02:00:00</td>\n      <td>-2.666667</td>\n      <td>55.000000</td>\n      <td>5.566667</td>\n      <td>338.000000</td>\n      <td>1.0</td>\n      <td>5.161323</td>\n      <td>-2.085310</td>\n      <td>-9.659258e-01</td>\n      <td>-2.588190e-01</td>\n      <td>0.859015</td>\n      <td>0.511951</td>\n      <td>-8.293705</td>\n      <td>6.993442</td>\n      <td>17.189351</td>\n      <td>0.0</td>\n      <td>0.0</td>\n      <td>0.0</td>\n    </tr>\n    <tr>\n      <th>3</th>\n      <td>2018-03-02 03:00:00</td>\n      <td>-3.000000</td>\n      <td>55.000000</td>\n      <td>5.000000</td>\n      <td>339.000000</td>\n      <td>1.0</td>\n      <td>4.667902</td>\n      <td>-1.791840</td>\n      <td>-1.000000e+00</td>\n      <td>-3.848660e-12</td>\n      <td>0.859382</td>\n      <td>0.511335</td>\n      <td>-8.293705</td>\n      <td>6.993442</td>\n      <td>17.189351</td>\n      <td>0.0</td>\n      <td>0.0</td>\n      <td>0.0</td>\n    </tr>\n    <tr>\n      <th>4</th>\n      <td>2018-03-02 04:00:00</td>\n      <td>-3.333333</td>\n      <td>56.666667</td>\n      <td>4.700000</td>\n      <td>343.666667</td>\n      <td>1.0</td>\n      <td>4.510317</td>\n      <td>-1.321758</td>\n      <td>-9.659258e-01</td>\n      <td>2.588190e-01</td>\n      <td>0.859748</td>\n      <td>0.510719</td>\n      <td>-8.293705</td>\n      <td>6.993442</td>\n      <td>17.189351</td>\n      <td>0.0</td>\n      <td>0.0</td>\n      <td>0.0</td>\n    </tr>\n    <tr>\n      <th>...</th>\n      <td>...</td>\n      <td>...</td>\n      <td>...</td>\n      <td>...</td>\n      <td>...</td>\n      <td>...</td>\n      <td>...</td>\n      <td>...</td>\n      <td>...</td>\n      <td>...</td>\n      <td>...</td>\n      <td>...</td>\n      <td>...</td>\n      <td>...</td>\n      <td>...</td>\n      <td>...</td>\n      <td>...</td>\n      <td>...</td>\n    </tr>\n    <tr>\n      <th>26299</th>\n      <td>2021-03-01 19:00:00</td>\n      <td>5.333333</td>\n      <td>83.333333</td>\n      <td>7.466667</td>\n      <td>20.333333</td>\n      <td>4.0</td>\n      <td>7.001396</td>\n      <td>2.594527</td>\n      <td>5.000000e-01</td>\n      <td>-8.660254e-01</td>\n      <td>0.858846</td>\n      <td>0.512234</td>\n      <td>-8.293705</td>\n      <td>6.993442</td>\n      <td>17.189351</td>\n      <td>0.0</td>\n      <td>0.0</td>\n      <td>NaN</td>\n    </tr>\n    <tr>\n      <th>26300</th>\n      <td>2021-03-01 20:00:00</td>\n      <td>4.666667</td>\n      <td>81.666667</td>\n      <td>7.333333</td>\n      <td>23.666667</td>\n      <td>4.0</td>\n      <td>6.716573</td>\n      <td>2.943710</td>\n      <td>2.588190e-01</td>\n      <td>-9.659258e-01</td>\n      <td>0.859213</td>\n      <td>0.511618</td>\n      <td>-8.293705</td>\n      <td>6.993442</td>\n      <td>17.189351</td>\n      <td>0.0</td>\n      <td>0.0</td>\n      <td>NaN</td>\n    </tr>\n    <tr>\n      <th>26301</th>\n      <td>2021-03-01 21:00:00</td>\n      <td>4.000000</td>\n      <td>80.000000</td>\n      <td>7.200000</td>\n      <td>27.000000</td>\n      <td>4.0</td>\n      <td>6.415247</td>\n      <td>3.268732</td>\n      <td>4.907520e-12</td>\n      <td>-1.000000e+00</td>\n      <td>0.859579</td>\n      <td>0.511002</td>\n      <td>-8.293705</td>\n      <td>6.993442</td>\n      <td>17.189351</td>\n      <td>0.0</td>\n      <td>0.0</td>\n      <td>NaN</td>\n    </tr>\n    <tr>\n      <th>26302</th>\n      <td>2021-03-01 22:00:00</td>\n      <td>4.000000</td>\n      <td>80.000000</td>\n      <td>7.200000</td>\n      <td>27.000000</td>\n      <td>4.0</td>\n      <td>6.415247</td>\n      <td>3.268732</td>\n      <td>-2.588190e-01</td>\n      <td>-9.659258e-01</td>\n      <td>0.859945</td>\n      <td>0.510386</td>\n      <td>-8.293705</td>\n      <td>6.993442</td>\n      <td>17.189351</td>\n      <td>0.0</td>\n      <td>0.0</td>\n      <td>NaN</td>\n    </tr>\n    <tr>\n      <th>26303</th>\n      <td>2021-03-01 23:00:00</td>\n      <td>4.000000</td>\n      <td>80.000000</td>\n      <td>7.200000</td>\n      <td>27.000000</td>\n      <td>4.0</td>\n      <td>6.415247</td>\n      <td>3.268732</td>\n      <td>-5.000000e-01</td>\n      <td>-8.660254e-01</td>\n      <td>0.860311</td>\n      <td>0.509769</td>\n      <td>-8.293705</td>\n      <td>6.993442</td>\n      <td>17.189351</td>\n      <td>0.0</td>\n      <td>0.0</td>\n      <td>NaN</td>\n    </tr>\n  </tbody>\n</table>\n<p>26304 rows × 18 columns</p>\n</div>"
     },
     "metadata": {},
     "execution_count": 38
    }
   ],
   "source": [
    "df = pd.concat([dangjin_fcst, energy['dangjin_warehouse']], axis=1)\n",
    "df\n",
    "# df['dangjin_floating'].isnull().sum()"
   ]
  },
  {
   "cell_type": "code",
   "execution_count": 39,
   "id": "de57f876",
   "metadata": {},
   "outputs": [],
   "source": [
    "df.sort_index(ascending=False).reset_index(drop=True)\n",
    "\n",
    "scaler = MinMaxScaler()\n",
    "scale_cols = ['Temperature', 'Humidity', 'Cloud', 'Wind_X', 'Wind_Y', 'Day sin', 'Day cos', 'Year sin', 'Year cos', 'Insolation']\n",
    "df_scaled = scaler.fit_transform(df[scale_cols])\n",
    "df_scaled = pd.DataFrame(df_scaled)\n",
    "df_scaled['Generation'] = df['dangjin_warehouse'] / c_warehouse\n",
    "scale_cols.append('Generation')\n",
    "df_scaled.columns = scale_cols"
   ]
  },
  {
   "cell_type": "code",
   "execution_count": null,
   "id": "4cfcdfb0",
   "metadata": {},
   "outputs": [],
   "source": [
    "feature_cols = ['Temperature', 'Humidity', 'Cloud', 'Wind_X', 'Wind_Y', 'Day sin', 'Day cos', 'Year sin', 'Year cos', 'Insolation']\n",
    "label_cols = ['Generation']\n",
    "\n",
    "window_size = 24\n",
    "n = len(df_scaled)\n",
    "\n",
    "train = df_scaled[:int(n*0.8)]\n",
    "train.dropna(axis=0, inplace=True)\n",
    "test = df_scaled[int(n*0.8):int(-(24*29))]\n",
    "test.dropna(axis=0, inplace=True)\n",
    "pred_input = df_scaled[int(-(24*29)):]"
   ]
  },
  {
   "cell_type": "code",
   "execution_count": null,
   "id": "3b788896",
   "metadata": {},
   "outputs": [],
   "source": [
    "train_feature, train_label = train[feature_cols], train[label_cols]\n",
    "train_feature, train_label = make_dataset(train_feature, train_label, window_size)\n",
    "\n",
    "x_train, x_valid, y_train, y_valid = train_test_split(train_feature, train_label, test_size=0.2)\n",
    "\n",
    "test_feature, test_label = test[feature_cols], test[label_cols]\n",
    "test_feature, test_label = make_dataset(test_feature, test_label, window_size)\n",
    "\n",
    "pred_feature, pred_label = pred_input[feature_cols], pred_input[label_cols]\n",
    "pred_feature, pred_label = make_dataset(pred_feature, pred_label, window_size)\n",
    "\n",
    "x_train.shape, x_valid.shape, test_feature.shape, pred_feature.shape"
   ]
  },
  {
   "cell_type": "code",
   "execution_count": null,
   "id": "2462a611",
   "metadata": {},
   "outputs": [],
   "source": [
    "model_1 = Sequential()\n",
    "model_1.add(LSTM(24, \n",
    "               input_shape=(train_feature.shape[1], train_feature.shape[2]), \n",
    "               activation='relu', \n",
    "               kernel_regularizer=tf.keras.regularizers.l2(0.001),\n",
    "               return_sequences=False)\n",
    "          )\n",
    "\n",
    "# model.add(Dense(1))\n",
    "# model.add(LeakyReLU(alpha=0.05))\n",
    "model_1.add(Dense(1, activation='relu'))\n",
    "model_1.compile(loss='mean_squared_error', optimizer='adam')\n",
    "model_1.summary()"
   ]
  },
  {
   "cell_type": "code",
   "execution_count": null,
   "id": "2065688e",
   "metadata": {},
   "outputs": [],
   "source": [
    "early_stop = EarlyStopping(monitor='val_loss', patience=10)\n",
    "checkpoint = ModelCheckpoint(filename[1], monitor='val_loss', verbose=1, save_best_only=True, mode='auto')\n",
    "history_1 = model_1.fit(x_train, y_train, epochs=epoch,\n",
    "                                      validation_data=(x_valid, y_valid), \n",
    "                                      callbacks=[early_stop, checkpoint])"
   ]
  },
  {
   "cell_type": "code",
   "execution_count": null,
   "id": "3e6050c9",
   "metadata": {},
   "outputs": [],
   "source": [
    "warehouse_pred = model_1.predict(pred_feature)"
   ]
  },
  {
   "cell_type": "code",
   "execution_count": null,
   "id": "d84cf5fd",
   "metadata": {},
   "outputs": [],
   "source": [
    "warehouse_pred"
   ]
  },
  {
   "cell_type": "code",
   "execution_count": null,
   "id": "c14f6bb1",
   "metadata": {},
   "outputs": [],
   "source": [
    "df = pd.concat([dangjin_fcst, energy['dangjin']], axis=1)\n",
    "df\n",
    "# df['dangjin_floating'].isnull().sum()"
   ]
  },
  {
   "cell_type": "code",
   "execution_count": null,
   "id": "d8e320d1",
   "metadata": {},
   "outputs": [],
   "source": [
    "df.sort_index(ascending=False).reset_index(drop=True)\n",
    "\n",
    "scaler = MinMaxScaler()\n",
    "scale_cols = ['Temperature', 'Humidity', 'Cloud', 'Wind_X', 'Wind_Y', 'Day sin', 'Day cos', 'Year sin', 'Year cos', 'Insolation']\n",
    "df_scaled = scaler.fit_transform(df[scale_cols])\n",
    "df_scaled = pd.DataFrame(df_scaled)\n",
    "df_scaled['Generation'] = df['dangjin'] / c_dangjin\n",
    "scale_cols.append('Generation')\n",
    "df_scaled.columns = scale_cols"
   ]
  },
  {
   "cell_type": "code",
   "execution_count": null,
   "id": "5f57b6da",
   "metadata": {},
   "outputs": [],
   "source": [
    "feature_cols = ['Temperature', 'Humidity', 'Cloud', 'Wind_X', 'Wind_Y', 'Day sin', 'Day cos', 'Year sin', 'Year cos', 'Insolation']\n",
    "label_cols = ['Generation']\n",
    "\n",
    "window_size = 24\n",
    "n = len(df_scaled)\n",
    "\n",
    "train = df_scaled[:int(n*0.8)]\n",
    "train.dropna(axis=0, inplace=True)\n",
    "test = df_scaled[int(n*0.8):int(-(24*29))]\n",
    "test.dropna(axis=0, inplace=True)\n",
    "pred_input = df_scaled[int(-(24*29)):]"
   ]
  },
  {
   "cell_type": "code",
   "execution_count": null,
   "id": "580c6847",
   "metadata": {},
   "outputs": [],
   "source": [
    "train_feature, train_label = train[feature_cols], train[label_cols]\n",
    "train_feature, train_label = make_dataset(train_feature, train_label, window_size)\n",
    "\n",
    "x_train, x_valid, y_train, y_valid = train_test_split(train_feature, train_label, test_size=0.2)\n",
    "\n",
    "test_feature, test_label = test[feature_cols], test[label_cols]\n",
    "test_feature, test_label = make_dataset(test_feature, test_label, window_size)\n",
    "\n",
    "pred_feature, pred_label = pred_input[feature_cols], pred_input[label_cols]\n",
    "pred_feature, pred_label = make_dataset(pred_feature, pred_label, window_size)\n",
    "\n",
    "x_train.shape, x_valid.shape, test_feature.shape, pred_feature.shape"
   ]
  },
  {
   "cell_type": "code",
   "execution_count": null,
   "id": "eab378de",
   "metadata": {},
   "outputs": [],
   "source": [
    "model_2 = Sequential()\n",
    "model_2.add(LSTM(24, \n",
    "               input_shape=(train_feature.shape[1], train_feature.shape[2]), \n",
    "               activation='relu', \n",
    "               kernel_regularizer=tf.keras.regularizers.l2(0.001),\n",
    "               return_sequences=False)\n",
    "          )\n",
    "\n",
    "# model.add(Dense(1))\n",
    "# model.add(LeakyReLU(alpha=0.05))\n",
    "model_2.add(Dense(1, activation='relu'))\n",
    "model_2.compile(loss='mean_squared_error', optimizer='adam')\n",
    "model_2.summary()"
   ]
  },
  {
   "cell_type": "code",
   "execution_count": null,
   "id": "1fe2582c",
   "metadata": {},
   "outputs": [],
   "source": [
    "early_stop = EarlyStopping(monitor='val_loss', patience=10)\n",
    "checkpoint = ModelCheckpoint(filename[2], monitor='val_loss', verbose=1, save_best_only=True, mode='auto')\n",
    "history_2 = model_2.fit(x_train, y_train, epochs=epoch,\n",
    "                                      validation_data=(x_valid, y_valid), \n",
    "                                      callbacks=[early_stop, checkpoint])"
   ]
  },
  {
   "cell_type": "code",
   "execution_count": null,
   "id": "e8a5a647",
   "metadata": {},
   "outputs": [],
   "source": [
    "dangjin_pred = model_2.predict(pred_feature)"
   ]
  },
  {
   "cell_type": "code",
   "execution_count": null,
   "id": "93ff719d",
   "metadata": {},
   "outputs": [],
   "source": [
    "dangjin_pred"
   ]
  },
  {
   "cell_type": "code",
   "execution_count": null,
   "id": "24390c25",
   "metadata": {},
   "outputs": [],
   "source": [
    "df = pd.concat([dangjin_fcst, energy['ulsan']], axis=1)\n",
    "df\n",
    "# df['dangjin_floating'].isnull().sum()"
   ]
  },
  {
   "cell_type": "code",
   "execution_count": null,
   "id": "d2f08f6e",
   "metadata": {},
   "outputs": [],
   "source": [
    "df.sort_index(ascending=False).reset_index(drop=True)\n",
    "\n",
    "scaler = MinMaxScaler()\n",
    "scale_cols = ['Temperature', 'Humidity', 'Cloud', 'Wind_X', 'Wind_Y', 'Day sin', 'Day cos', 'Year sin', 'Year cos', 'Insolation']\n",
    "df_scaled = scaler.fit_transform(df[scale_cols])\n",
    "df_scaled = pd.DataFrame(df_scaled)\n",
    "df_scaled['Generation'] = df['ulsan'] / c_ulsan\n",
    "scale_cols.append('Generation')\n",
    "df_scaled.columns = scale_cols"
   ]
  },
  {
   "cell_type": "code",
   "execution_count": null,
   "id": "cbd5cec1",
   "metadata": {},
   "outputs": [],
   "source": [
    "feature_cols = ['Temperature', 'Humidity', 'Cloud', 'Wind_X', 'Wind_Y', 'Day sin', 'Day cos', 'Year sin', 'Year cos', 'Insolation']\n",
    "label_cols = ['Generation']\n",
    "\n",
    "window_size = 24\n",
    "n = len(df_scaled)\n",
    "\n",
    "train = df_scaled[:int(n*0.8)]\n",
    "train.dropna(axis=0, inplace=True)\n",
    "test = df_scaled[int(n*0.8):int(-(24*29))]\n",
    "test.dropna(axis=0, inplace=True)\n",
    "pred_input = df_scaled[int(-(24*29)):]"
   ]
  },
  {
   "cell_type": "code",
   "execution_count": null,
   "id": "7720daf1",
   "metadata": {},
   "outputs": [],
   "source": [
    "train_feature, train_label = train[feature_cols], train[label_cols]\n",
    "train_feature, train_label = make_dataset(train_feature, train_label, window_size)\n",
    "\n",
    "x_train, x_valid, y_train, y_valid = train_test_split(train_feature, train_label, test_size=0.2)\n",
    "\n",
    "test_feature, test_label = test[feature_cols], test[label_cols]\n",
    "test_feature, test_label = make_dataset(test_feature, test_label, window_size)\n",
    "\n",
    "pred_feature, pred_label = pred_input[feature_cols], pred_input[label_cols]\n",
    "pred_feature, pred_label = make_dataset(pred_feature, pred_label, window_size)\n",
    "\n",
    "x_train.shape, x_valid.shape, test_feature.shape, pred_feature.shape"
   ]
  },
  {
   "cell_type": "code",
   "execution_count": null,
   "id": "5c5b0787",
   "metadata": {},
   "outputs": [],
   "source": [
    "model_3 = Sequential()\n",
    "model_3.add(LSTM(24, \n",
    "               input_shape=(train_feature.shape[1], train_feature.shape[2]), \n",
    "               activation='relu', \n",
    "               kernel_regularizer=tf.keras.regularizers.l2(0.001),\n",
    "               return_sequences=False)\n",
    "          )\n",
    "\n",
    "# model.add(Dense(1))\n",
    "# model.add(LeakyReLU(alpha=0.05))\n",
    "model_3.add(Dense(1, activation='relu'))\n",
    "model_3.compile(loss='mean_squared_error', optimizer='adam')\n",
    "model_3.summary()"
   ]
  },
  {
   "cell_type": "code",
   "execution_count": null,
   "id": "1a1c23fc",
   "metadata": {},
   "outputs": [],
   "source": [
    "early_stop = EarlyStopping(monitor='val_loss', patience=10)\n",
    "checkpoint = ModelCheckpoint(filename[3], monitor='val_loss', verbose=1, save_best_only=True, mode='auto')\n",
    "history_3 = model_3.fit(x_train, y_train, epochs=epoch,\n",
    "                                      validation_data=(x_valid, y_valid), \n",
    "                                      callbacks=[early_stop, checkpoint])"
   ]
  },
  {
   "cell_type": "code",
   "execution_count": null,
   "id": "32ca1751",
   "metadata": {},
   "outputs": [],
   "source": [
    "ulsan_pred = model_3.predict(pred_feature)"
   ]
  },
  {
   "cell_type": "code",
   "execution_count": null,
   "id": "c026acda",
   "metadata": {},
   "outputs": [],
   "source": [
    "ulsan_pred"
   ]
  },
  {
   "cell_type": "code",
   "execution_count": null,
   "id": "e92aef27",
   "metadata": {},
   "outputs": [],
   "source": [
    "model_3.load_weights(filename[3])\n",
    "pred = model_3.predict(test_feature)"
   ]
  },
  {
   "cell_type": "code",
   "execution_count": null,
   "id": "ea5a01d8",
   "metadata": {},
   "outputs": [],
   "source": [
    "day = 50\n",
    "day_range = 10\n",
    "\n",
    "plt.figure(figsize=(20, 5))\n",
    "plt.title('Dangjin', fontsize=20)\n",
    "plt.plot(test_label[-day*24:-(day-day_range)*24], label = 'actual')\n",
    "plt.plot(pred[-day*24:-(day-day_range)*24], label = 'prediction')\n",
    "plt.legend()\n",
    "plt.show()"
   ]
  },
  {
   "cell_type": "code",
   "execution_count": null,
   "id": "06f80661",
   "metadata": {},
   "outputs": [],
   "source": [
    "plt.figure(figsize=(20,5))\n",
    "plt.plot(floating_pred * energy_floating.loc[0, 'capacity'], label = 'dangjin_floating_pred')\n",
    "plt.plot(warehouse_pred * energy_warehouse.loc[0, 'capacity'], label = 'dangjin_warehouse_pred')\n",
    "plt.plot(dangjin_pred * energy_dangjin.loc[0, 'capacity'], label = 'dangjin_pred')\n",
    "plt.plot(ulsan_pred * energy_ulsan.loc[0, 'capacity'], label = 'ulsan_pred')\n",
    "plt.legend()\n",
    "plt.show()"
   ]
  },
  {
   "cell_type": "code",
   "execution_count": null,
   "id": "0297487f",
   "metadata": {},
   "outputs": [],
   "source": [
    "submission = pd.read_csv('data/sample_submission.csv')"
   ]
  },
  {
   "cell_type": "code",
   "execution_count": null,
   "id": "d262799a",
   "metadata": {},
   "outputs": [],
   "source": [
    "submission.iloc[:24*28, 1] = floating_pred * energy_floating.loc[0, 'capacity']\n",
    "submission.iloc[:24*28, 2] = warehouse_pred * energy_warehouse.loc[0, 'capacity']\n",
    "submission.iloc[:24*28, 3] = dangjin_pred * energy_dangjin.loc[0, 'capacity']\n",
    "submission.iloc[:24*28, 4] = ulsan_pred * energy_ulsan.loc[0, 'capacity']"
   ]
  },
  {
   "cell_type": "code",
   "execution_count": null,
   "id": "21556bf5",
   "metadata": {},
   "outputs": [],
   "source": [
    "submission.to_csv('data/submission.csv', index=False)\n",
    "submission.head(48)"
   ]
  },
  {
   "cell_type": "code",
   "execution_count": null,
   "id": "82756d3e",
   "metadata": {},
   "outputs": [],
   "source": [
    "import pandas as pd\n",
    "import numpy as np\n",
    "\n",
    "def sola_nmae(answer_df, submission_df):\n",
    "    submission = submission_df[submission_df['time'].isin(answer_df['time'])]\n",
    "    submission.index = range(submission.shape[0])\n",
    "    \n",
    "    # 시간대별 총 발전량\n",
    "    sum_submission = submission.iloc[:,1:].sum(axis=1)\n",
    "    sum_answer = answer_df.iloc[:,1:].sum(axis=1)\n",
    "    \n",
    "    # 발전소 발전용량\n",
    "    capacity = {\n",
    "        'dangjin_floating':1000, # 당진수상태양광 발전용량\n",
    "        'dangjin_warehouse':700, # 당진자재창고태양광 발전용량\n",
    "        'dangjin':1000, # 당진태양광 발전용량\n",
    "        'ulsan':500 # 울산태양광 발전용량\n",
    "    }\n",
    "    \n",
    "    # 총 발전용량\n",
    "    total_capacity = np.sum(list(capacity.values()))\n",
    "    \n",
    "    # 총 발전용량 절대오차\n",
    "    absolute_error = (sum_answer - sum_submission).abs()\n",
    "    \n",
    "    # 발전용량으로 정규화\n",
    "    absolute_error /= total_capacity\n",
    "    \n",
    "    # 총 발전용량의 10% 이상 발전한 데이터 인덱스 추출\n",
    "    target_idx = sum_answer[sum_answer>=total_capacity*0.1].index\n",
    "    \n",
    "    # NMAE(%)\n",
    "    nmae = 100 * absolute_error[target_idx].mean()\n",
    "    \n",
    "    return nmae"
   ]
  },
  {
   "cell_type": "code",
   "execution_count": null,
   "id": "e3228a7a",
   "metadata": {},
   "outputs": [],
   "source": []
  }
 ],
 "metadata": {
  "kernelspec": {
   "display_name": "data_engeneering",
   "language": "python",
   "name": "data_engeneering"
  },
  "language_info": {
   "codemirror_mode": {
    "name": "ipython",
    "version": 3
   },
   "file_extension": ".py",
   "mimetype": "text/x-python",
   "name": "python",
   "nbconvert_exporter": "python",
   "pygments_lexer": "ipython3",
   "version": "3.7.10"
  },
  "metadata": {
   "interpreter": {
    "hash": "62518700cf93673c8cb4cb3100bcc8a6d85e8aa1c62b2bcb4b999fd239a54dad"
   }
  }
 },
 "nbformat": 4,
 "nbformat_minor": 5
}