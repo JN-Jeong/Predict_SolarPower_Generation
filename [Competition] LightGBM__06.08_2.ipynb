{
 "cells": [
  {
   "cell_type": "markdown",
   "metadata": {},
   "source": [
    "## 사용할 패키지"
   ]
  },
  {
   "cell_type": "code",
   "execution_count": 1,
   "metadata": {},
   "outputs": [],
   "source": [
    "import datetime\n",
    "import math\n",
    "import pandas as pd\n",
    "import numpy as np\n",
    "from sklearn.model_selection import KFold, TimeSeriesSplit\n",
    "\n",
    "import matplotlib.pyplot as plt\n",
    "import seaborn as sns"
   ]
  },
  {
   "cell_type": "code",
   "execution_count": 2,
   "metadata": {},
   "outputs": [],
   "source": [
    "import sklearn\n",
    "import lightgbm as lgb\n",
    "import xgboost as xgb"
   ]
  },
  {
   "cell_type": "code",
   "execution_count": 3,
   "metadata": {},
   "outputs": [],
   "source": [
    "import optuna \n",
    "from optuna import Trial, visualization\n",
    "from optuna.samplers import TPESampler"
   ]
  },
  {
   "cell_type": "markdown",
   "metadata": {},
   "source": [
    "## 데이터 불러오기"
   ]
  },
  {
   "cell_type": "code",
   "execution_count": 4,
   "metadata": {},
   "outputs": [],
   "source": [
    "site = pd.read_csv('data/site_info.csv')\n",
    "energy = pd.read_csv('data/energy.csv')\n",
    "dangjin_fcst = pd.read_csv('data/dangjin_fcst_data.csv')\n",
    "ulsan_fcst = pd.read_csv('data/ulsan_fcst_data.csv')"
   ]
  },
  {
   "cell_type": "markdown",
   "metadata": {},
   "source": [
    "기상 예보는 전날 23시(오후 11시) 예보를 선형보간하여 사용하였습니다.\n",
    "\n",
    "※ 기상 예보 전치리 과정 : https://dacon.io/competitions/official/235720/codeshare/2499?page=1&dtype=recent"
   ]
  },
  {
   "cell_type": "code",
   "execution_count": 5,
   "metadata": {},
   "outputs": [],
   "source": [
    "forecast_t = 23"
   ]
  },
  {
   "cell_type": "code",
   "execution_count": 6,
   "metadata": {},
   "outputs": [],
   "source": [
    "dangjin_fcst['Forecast_time'] = pd.to_datetime(dangjin_fcst['Forecast time'])\n",
    "ulsan_fcst['Forecast_time'] = pd.to_datetime(ulsan_fcst['Forecast time'])"
   ]
  },
  {
   "cell_type": "code",
   "execution_count": 7,
   "metadata": {},
   "outputs": [],
   "source": [
    "dangjin_fcst_t = dangjin_fcst[dangjin_fcst['Forecast_time'].dt.hour==forecast_t]\n",
    "ulsan_fcst_t = ulsan_fcst[ulsan_fcst['Forecast_time'].dt.hour==forecast_t]"
   ]
  },
  {
   "cell_type": "code",
   "execution_count": 8,
   "metadata": {},
   "outputs": [],
   "source": [
    "dangjin_fcst_t = dangjin_fcst_t[(dangjin_fcst_t['forecast'] >= (24 - forecast_t))&(dangjin_fcst_t['forecast'] <= (47 - forecast_t))]\n",
    "ulsan_fcst_t = ulsan_fcst_t[(ulsan_fcst_t['forecast'] >= (24 - forecast_t))&(ulsan_fcst_t['forecast'] <= (47 - forecast_t))]"
   ]
  },
  {
   "cell_type": "code",
   "execution_count": 9,
   "metadata": {},
   "outputs": [
    {
     "name": "stderr",
     "output_type": "stream",
     "text": [
      "D:\\Anaconda\\envs\\data_engeneering\\lib\\site-packages\\pandas\\core\\arrays\\datetimelike.py:1111: PerformanceWarning: Adding/subtracting object-dtype array to DatetimeArray not vectorized\n",
      "  PerformanceWarning,\n"
     ]
    }
   ],
   "source": [
    "def to_date(x):\n",
    "    return pd.DateOffset(hours=x)\n",
    "\n",
    "dangjin_fcst_t['Forecast_time'] = dangjin_fcst_t['Forecast_time'] + dangjin_fcst_t['forecast'].map(to_date)\n",
    "ulsan_fcst_t['Forecast_time'] = ulsan_fcst_t['Forecast_time'] + ulsan_fcst_t['forecast'].map(to_date)"
   ]
  },
  {
   "cell_type": "code",
   "execution_count": 10,
   "metadata": {},
   "outputs": [],
   "source": [
    "dangjin_fcst_t = dangjin_fcst_t[['Forecast_time', 'Temperature', 'Humidity', 'WindSpeed', 'WindDirection', 'Cloud']]\n",
    "ulsan_fcst_t = ulsan_fcst_t[['Forecast_time', 'Temperature', 'Humidity', 'WindSpeed', 'WindDirection', 'Cloud']]"
   ]
  },
  {
   "cell_type": "code",
   "execution_count": 11,
   "metadata": {},
   "outputs": [],
   "source": [
    "dangjin_fcst_t_ = pd.DataFrame()\n",
    "dangjin_fcst_t_['Forecast_time'] = pd.date_range(start='2018-03-02 00:00:00', end='2021-03-01 23:00:00', freq='H')\n",
    "\n",
    "ulsan_fcst_t_ = pd.DataFrame()\n",
    "ulsan_fcst_t_['Forecast_time'] = pd.date_range(start='2018-03-02 00:00:00', end='2021-03-01 23:00:00', freq='H')"
   ]
  },
  {
   "cell_type": "code",
   "execution_count": 12,
   "metadata": {},
   "outputs": [],
   "source": [
    "dangjin_fcst_t_ = pd.merge(dangjin_fcst_t_, dangjin_fcst_t, on='Forecast_time', how='outer')\n",
    "ulsan_fcst_t_ = pd.merge(ulsan_fcst_t_, ulsan_fcst_t, on='Forecast_time', how='outer')"
   ]
  },
  {
   "cell_type": "code",
   "execution_count": 13,
   "metadata": {},
   "outputs": [],
   "source": [
    "dangjin_fcst = dangjin_fcst_t_.interpolate()\n",
    "ulsan_fcst = ulsan_fcst_t_.interpolate()"
   ]
  },
  {
   "cell_type": "code",
   "execution_count": 14,
   "metadata": {},
   "outputs": [],
   "source": [
    "dangjin_fcst['Forecast_time'] = dangjin_fcst['Forecast_time'].astype(str)\n",
    "ulsan_fcst['Forecast_time'] = ulsan_fcst['Forecast_time'].astype(str)"
   ]
  },
  {
   "cell_type": "markdown",
   "metadata": {},
   "source": [
    "## 풍향 벡터 사용"
   ]
  },
  {
   "cell_type": "code",
   "execution_count": 15,
   "metadata": {},
   "outputs": [],
   "source": [
    "def transform_wind_to_vector(df_):\n",
    "    df = df_.copy()\n",
    "\n",
    "    wv = df['WindSpeed']\n",
    "\n",
    "    # Convert to radians.\n",
    "    wd_rad = df['WindDirection']*np.pi / 180\n",
    "\n",
    "    # Calculate the wind x and y components.\n",
    "    df['Wind_X'] = wv*np.cos(wd_rad)\n",
    "    df['Wind_Y'] = wv*np.sin(wd_rad)\n",
    "    \n",
    "    return df"
   ]
  },
  {
   "cell_type": "code",
   "execution_count": 16,
   "metadata": {},
   "outputs": [],
   "source": [
    "dangjin_fcst = transform_wind_to_vector(dangjin_fcst)\n",
    "ulsan_fcst = transform_wind_to_vector(ulsan_fcst)"
   ]
  },
  {
   "cell_type": "markdown",
   "metadata": {},
   "source": [
    "## 타임 시그널 변환"
   ]
  },
  {
   "cell_type": "code",
   "execution_count": 17,
   "metadata": {},
   "outputs": [],
   "source": [
    "def transform_datetime_to_signal(df_):\n",
    "    df = df_.copy()\n",
    "    date_time = pd.to_datetime(df['Forecast_time'], format='%Y.%m.%d %H:%M')\n",
    "    timestamp_s = date_time.map(datetime.datetime.timestamp)\n",
    "\n",
    "    day = 24*60*60\n",
    "    year = (365.2425)*day\n",
    "\n",
    "    df['Day sin'] = np.sin(timestamp_s * (2 * np.pi / day))\n",
    "    df['Day cos'] = np.cos(timestamp_s * (2 * np.pi / day))\n",
    "    df['Year sin'] = np.sin(timestamp_s * (2 * np.pi / year))\n",
    "    df['Year cos'] = np.cos(timestamp_s * (2 * np.pi / year))\n",
    "\n",
    "    return df"
   ]
  },
  {
   "cell_type": "code",
   "execution_count": 18,
   "metadata": {},
   "outputs": [],
   "source": [
    "dangjin_fcst = transform_datetime_to_signal(dangjin_fcst)\n",
    "ulsan_fcst = transform_datetime_to_signal(ulsan_fcst)"
   ]
  },
  {
   "cell_type": "code",
   "execution_count": 19,
   "metadata": {},
   "outputs": [
    {
     "data": {
      "text/html": [
       "<div>\n",
       "<style scoped>\n",
       "    .dataframe tbody tr th:only-of-type {\n",
       "        vertical-align: middle;\n",
       "    }\n",
       "\n",
       "    .dataframe tbody tr th {\n",
       "        vertical-align: top;\n",
       "    }\n",
       "\n",
       "    .dataframe thead th {\n",
       "        text-align: right;\n",
       "    }\n",
       "</style>\n",
       "<table border=\"1\" class=\"dataframe\">\n",
       "  <thead>\n",
       "    <tr style=\"text-align: right;\">\n",
       "      <th></th>\n",
       "      <th>Forecast_time</th>\n",
       "      <th>Temperature</th>\n",
       "      <th>Humidity</th>\n",
       "      <th>WindSpeed</th>\n",
       "      <th>WindDirection</th>\n",
       "      <th>Cloud</th>\n",
       "      <th>Wind_X</th>\n",
       "      <th>Wind_Y</th>\n",
       "      <th>Day sin</th>\n",
       "      <th>Day cos</th>\n",
       "      <th>Year sin</th>\n",
       "      <th>Year cos</th>\n",
       "    </tr>\n",
       "  </thead>\n",
       "  <tbody>\n",
       "    <tr>\n",
       "      <th>0</th>\n",
       "      <td>2018-03-02 00:00:00</td>\n",
       "      <td>NaN</td>\n",
       "      <td>NaN</td>\n",
       "      <td>NaN</td>\n",
       "      <td>NaN</td>\n",
       "      <td>NaN</td>\n",
       "      <td>NaN</td>\n",
       "      <td>NaN</td>\n",
       "      <td>-0.707107</td>\n",
       "      <td>-7.071068e-01</td>\n",
       "      <td>0.858280</td>\n",
       "      <td>0.513182</td>\n",
       "    </tr>\n",
       "    <tr>\n",
       "      <th>1</th>\n",
       "      <td>2018-03-02 01:00:00</td>\n",
       "      <td>NaN</td>\n",
       "      <td>NaN</td>\n",
       "      <td>NaN</td>\n",
       "      <td>NaN</td>\n",
       "      <td>NaN</td>\n",
       "      <td>NaN</td>\n",
       "      <td>NaN</td>\n",
       "      <td>-0.866025</td>\n",
       "      <td>-5.000000e-01</td>\n",
       "      <td>0.858648</td>\n",
       "      <td>0.512566</td>\n",
       "    </tr>\n",
       "    <tr>\n",
       "      <th>2</th>\n",
       "      <td>2018-03-02 02:00:00</td>\n",
       "      <td>NaN</td>\n",
       "      <td>NaN</td>\n",
       "      <td>NaN</td>\n",
       "      <td>NaN</td>\n",
       "      <td>NaN</td>\n",
       "      <td>NaN</td>\n",
       "      <td>NaN</td>\n",
       "      <td>-0.965926</td>\n",
       "      <td>-2.588190e-01</td>\n",
       "      <td>0.859015</td>\n",
       "      <td>0.511951</td>\n",
       "    </tr>\n",
       "    <tr>\n",
       "      <th>3</th>\n",
       "      <td>2018-03-02 03:00:00</td>\n",
       "      <td>-3.000000</td>\n",
       "      <td>55.000000</td>\n",
       "      <td>5.0</td>\n",
       "      <td>339.000000</td>\n",
       "      <td>1.0</td>\n",
       "      <td>4.667902</td>\n",
       "      <td>-1.791840</td>\n",
       "      <td>-1.000000</td>\n",
       "      <td>-3.848660e-12</td>\n",
       "      <td>0.859382</td>\n",
       "      <td>0.511335</td>\n",
       "    </tr>\n",
       "    <tr>\n",
       "      <th>4</th>\n",
       "      <td>2018-03-02 04:00:00</td>\n",
       "      <td>-3.333333</td>\n",
       "      <td>56.666667</td>\n",
       "      <td>4.7</td>\n",
       "      <td>343.666667</td>\n",
       "      <td>1.0</td>\n",
       "      <td>4.510317</td>\n",
       "      <td>-1.321758</td>\n",
       "      <td>-0.965926</td>\n",
       "      <td>2.588190e-01</td>\n",
       "      <td>0.859748</td>\n",
       "      <td>0.510719</td>\n",
       "    </tr>\n",
       "  </tbody>\n",
       "</table>\n",
       "</div>"
      ],
      "text/plain": [
       "         Forecast_time  Temperature   Humidity  WindSpeed  WindDirection  \\\n",
       "0  2018-03-02 00:00:00          NaN        NaN        NaN            NaN   \n",
       "1  2018-03-02 01:00:00          NaN        NaN        NaN            NaN   \n",
       "2  2018-03-02 02:00:00          NaN        NaN        NaN            NaN   \n",
       "3  2018-03-02 03:00:00    -3.000000  55.000000        5.0     339.000000   \n",
       "4  2018-03-02 04:00:00    -3.333333  56.666667        4.7     343.666667   \n",
       "\n",
       "   Cloud    Wind_X    Wind_Y   Day sin       Day cos  Year sin  Year cos  \n",
       "0    NaN       NaN       NaN -0.707107 -7.071068e-01  0.858280  0.513182  \n",
       "1    NaN       NaN       NaN -0.866025 -5.000000e-01  0.858648  0.512566  \n",
       "2    NaN       NaN       NaN -0.965926 -2.588190e-01  0.859015  0.511951  \n",
       "3    1.0  4.667902 -1.791840 -1.000000 -3.848660e-12  0.859382  0.511335  \n",
       "4    1.0  4.510317 -1.321758 -0.965926  2.588190e-01  0.859748  0.510719  "
      ]
     },
     "execution_count": 19,
     "metadata": {},
     "output_type": "execute_result"
    }
   ],
   "source": [
    "dangjin_fcst.head()"
   ]
  },
  {
   "cell_type": "code",
   "execution_count": 20,
   "metadata": {},
   "outputs": [
    {
     "data": {
      "text/html": [
       "<div>\n",
       "<style scoped>\n",
       "    .dataframe tbody tr th:only-of-type {\n",
       "        vertical-align: middle;\n",
       "    }\n",
       "\n",
       "    .dataframe tbody tr th {\n",
       "        vertical-align: top;\n",
       "    }\n",
       "\n",
       "    .dataframe thead th {\n",
       "        text-align: right;\n",
       "    }\n",
       "</style>\n",
       "<table border=\"1\" class=\"dataframe\">\n",
       "  <thead>\n",
       "    <tr style=\"text-align: right;\">\n",
       "      <th></th>\n",
       "      <th>Forecast_time</th>\n",
       "      <th>Temperature</th>\n",
       "      <th>Humidity</th>\n",
       "      <th>WindSpeed</th>\n",
       "      <th>WindDirection</th>\n",
       "      <th>Cloud</th>\n",
       "      <th>Wind_X</th>\n",
       "      <th>Wind_Y</th>\n",
       "      <th>Day sin</th>\n",
       "      <th>Day cos</th>\n",
       "      <th>Year sin</th>\n",
       "      <th>Year cos</th>\n",
       "    </tr>\n",
       "  </thead>\n",
       "  <tbody>\n",
       "    <tr>\n",
       "      <th>0</th>\n",
       "      <td>2018-03-02 00:00:00</td>\n",
       "      <td>NaN</td>\n",
       "      <td>NaN</td>\n",
       "      <td>NaN</td>\n",
       "      <td>NaN</td>\n",
       "      <td>NaN</td>\n",
       "      <td>NaN</td>\n",
       "      <td>NaN</td>\n",
       "      <td>-0.707107</td>\n",
       "      <td>-7.071068e-01</td>\n",
       "      <td>0.858280</td>\n",
       "      <td>0.513182</td>\n",
       "    </tr>\n",
       "    <tr>\n",
       "      <th>1</th>\n",
       "      <td>2018-03-02 01:00:00</td>\n",
       "      <td>NaN</td>\n",
       "      <td>NaN</td>\n",
       "      <td>NaN</td>\n",
       "      <td>NaN</td>\n",
       "      <td>NaN</td>\n",
       "      <td>NaN</td>\n",
       "      <td>NaN</td>\n",
       "      <td>-0.866025</td>\n",
       "      <td>-5.000000e-01</td>\n",
       "      <td>0.858648</td>\n",
       "      <td>0.512566</td>\n",
       "    </tr>\n",
       "    <tr>\n",
       "      <th>2</th>\n",
       "      <td>2018-03-02 02:00:00</td>\n",
       "      <td>NaN</td>\n",
       "      <td>NaN</td>\n",
       "      <td>NaN</td>\n",
       "      <td>NaN</td>\n",
       "      <td>NaN</td>\n",
       "      <td>NaN</td>\n",
       "      <td>NaN</td>\n",
       "      <td>-0.965926</td>\n",
       "      <td>-2.588190e-01</td>\n",
       "      <td>0.859015</td>\n",
       "      <td>0.511951</td>\n",
       "    </tr>\n",
       "    <tr>\n",
       "      <th>3</th>\n",
       "      <td>2018-03-02 03:00:00</td>\n",
       "      <td>-1.0</td>\n",
       "      <td>45.0</td>\n",
       "      <td>1.8</td>\n",
       "      <td>299.000000</td>\n",
       "      <td>2.000000</td>\n",
       "      <td>0.872657</td>\n",
       "      <td>-1.574315</td>\n",
       "      <td>-1.000000</td>\n",
       "      <td>-3.848660e-12</td>\n",
       "      <td>0.859382</td>\n",
       "      <td>0.511335</td>\n",
       "    </tr>\n",
       "    <tr>\n",
       "      <th>4</th>\n",
       "      <td>2018-03-02 04:00:00</td>\n",
       "      <td>-1.0</td>\n",
       "      <td>45.0</td>\n",
       "      <td>1.8</td>\n",
       "      <td>300.666667</td>\n",
       "      <td>1.666667</td>\n",
       "      <td>0.918077</td>\n",
       "      <td>-1.548268</td>\n",
       "      <td>-0.965926</td>\n",
       "      <td>2.588190e-01</td>\n",
       "      <td>0.859748</td>\n",
       "      <td>0.510719</td>\n",
       "    </tr>\n",
       "  </tbody>\n",
       "</table>\n",
       "</div>"
      ],
      "text/plain": [
       "         Forecast_time  Temperature  Humidity  WindSpeed  WindDirection  \\\n",
       "0  2018-03-02 00:00:00          NaN       NaN        NaN            NaN   \n",
       "1  2018-03-02 01:00:00          NaN       NaN        NaN            NaN   \n",
       "2  2018-03-02 02:00:00          NaN       NaN        NaN            NaN   \n",
       "3  2018-03-02 03:00:00         -1.0      45.0        1.8     299.000000   \n",
       "4  2018-03-02 04:00:00         -1.0      45.0        1.8     300.666667   \n",
       "\n",
       "      Cloud    Wind_X    Wind_Y   Day sin       Day cos  Year sin  Year cos  \n",
       "0       NaN       NaN       NaN -0.707107 -7.071068e-01  0.858280  0.513182  \n",
       "1       NaN       NaN       NaN -0.866025 -5.000000e-01  0.858648  0.512566  \n",
       "2       NaN       NaN       NaN -0.965926 -2.588190e-01  0.859015  0.511951  \n",
       "3  2.000000  0.872657 -1.574315 -1.000000 -3.848660e-12  0.859382  0.511335  \n",
       "4  1.666667  0.918077 -1.548268 -0.965926  2.588190e-01  0.859748  0.510719  "
      ]
     },
     "execution_count": 20,
     "metadata": {},
     "output_type": "execute_result"
    }
   ],
   "source": [
    "ulsan_fcst.head()"
   ]
  },
  {
   "cell_type": "markdown",
   "metadata": {},
   "source": [
    "## 일사량 추가하기"
   ]
  },
  {
   "cell_type": "code",
   "execution_count": 21,
   "metadata": {},
   "outputs": [],
   "source": [
    "# Python Sun Position for Solar Energy and Research\n",
    "# https://levelup.gitconnected.com/python-sun-position-for-solar-energy-and-research-7a4ead801777\n",
    "# sunpos.pyimport math\n",
    "\n",
    "def sunpos(year, month, day, hour, timezone, latitude, longitude, refraction): # Extract the passed data\n",
    "    rad, deg = np.radians, np.degrees\n",
    "    sin, cos, tan = np.sin, np.cos, np.tan\n",
    "    asin, atan2 = np.arcsin, np.arctan2 \n",
    "\n",
    "    # Convert latitude and longitude to radians\n",
    "    rlat = rad(latitude)\n",
    "    rlon = rad(longitude) \n",
    "    \n",
    "    # Decimal hour of the day at Greenwich\n",
    "    greenwichtime = hour - timezone \n",
    "\n",
    "    # Days from J2000, accurate from 1901 to 2099\n",
    "    daynum = (\n",
    "        367 * year\n",
    "        - 7 * (year + (month + 9) // 12) // 4\n",
    "        + 275 * month // 9\n",
    "        + day\n",
    "        - 730531.5\n",
    "        + greenwichtime / 24\n",
    "    )\n",
    "\n",
    "    # Mean longitude of the sun\n",
    "    mean_long = daynum * 0.01720279239 + 4.894967873 \n",
    "    # Mean anomaly of the Sun\n",
    "    mean_anom = daynum * 0.01720197034 + 6.240040768 \n",
    "\n",
    "    # Ecliptic longitude of the sun\n",
    "    eclip_long = (mean_long + 0.03342305518 * sin(mean_anom) + 0.0003490658504 * sin(2 * mean_anom))\n",
    "    # Obliquity of the ecliptic\n",
    "    obliquity = 0.4090877234 - 0.000000006981317008 * daynum \n",
    "    # Right ascension of the sun\n",
    "    rasc = atan2(cos(obliquity) * sin(eclip_long), cos(eclip_long)) \n",
    "    # Declination of the sun\n",
    "    decl = asin(sin(obliquity) * sin(eclip_long)) \n",
    "    # Local sidereal time\n",
    "    sidereal = 4.894961213 + 6.300388099 * daynum + rlon \n",
    "    # Hour angle of the sun\n",
    "    hour_ang = sidereal - rasc \n",
    "    # Local elevation of the sun\n",
    "    elevation = asin(sin(decl) * sin(rlat) + cos(decl) * cos(rlat) * cos(hour_ang)) \n",
    "    # Local azimuth of the sun\n",
    "    azimuth = atan2(-cos(decl) * cos(rlat) * sin(hour_ang), sin(decl) - sin(rlat) * sin(elevation),) \n",
    "\n",
    "    # Convert azimuth and elevation to degrees\n",
    "    azimuth = into_range(deg(azimuth), 0, 360)\n",
    "    elevation = into_range(deg(elevation), -180, 180) \n",
    "\n",
    "    # Refraction correction (optional)\n",
    "    if refraction:\n",
    "        targ = rad((elevation + (10.3 / (elevation + 5.11))))\n",
    "        elevation += (1.02 / tan(targ)) / 60 \n",
    "\n",
    "    # Return azimuth and elevation in degrees\n",
    "    return (round(azimuth, 2), round(elevation, 2))\n",
    "    \n",
    "def into_range(x, range_min, range_max):\n",
    "    shiftedx = x - range_min\n",
    "    delta = range_max - range_min\n",
    "    return (((shiftedx % delta) + delta) % delta) + range_min"
   ]
  },
  {
   "cell_type": "code",
   "execution_count": 22,
   "metadata": {},
   "outputs": [],
   "source": [
    "def directInsolation(altitude):                             # 직사 일사량\n",
    "    am = 1/np.cos(np.radians(90 - altitude))                # airmass\n",
    "    I = 1.353 * 0.7 ** (am ** 0.678)                        # direct insolation\n",
    "    return I"
   ]
  },
  {
   "cell_type": "code",
   "execution_count": 23,
   "metadata": {},
   "outputs": [
    {
     "name": "stdout",
     "output_type": "stream",
     "text": [
      "\n",
      "When:  (2018, 3, 2, 0, 9)\n",
      "Where:  (37.0507527, 126.5102993)\n",
      "Azimuth:  337.58\n",
      "Elevation:  -58.59\n"
     ]
    }
   ],
   "source": [
    "# Test code\n",
    "azimuth, elevation = sunpos(2018, 3, 2, 0, 9, 37.0507527, 126.5102993, True)\n",
    "print(\"\\nWhen: \", (2018, 3, 2, 0, 9))\n",
    "print(\"Where: \", (37.0507527, 126.5102993))\n",
    "print(\"Azimuth: \", azimuth)\n",
    "print(\"Elevation: \", elevation)\n",
    "# When:  (2018, 3, 2, 0, 9)\n",
    "# Where:  (37.0507527, 126.5102993)\n",
    "# Azimuth:  337.58\n",
    "# Elevation:  -58.59"
   ]
  },
  {
   "cell_type": "code",
   "execution_count": 24,
   "metadata": {},
   "outputs": [],
   "source": [
    "def add_insolation(df_, latitude, longitude, timezone):\n",
    "    location = ()\n",
    "\n",
    "    df_['date'] = df_['Forecast_time'].str.split(' ').str[0]\n",
    "    df_['hour'] = df_['Forecast_time'].str.split(' ').str[1].str.split(':').str[0].astype(int)\n",
    "\n",
    "    df_['year'] = df_['date'].str.split('-').str[0].astype(float)\n",
    "    df_['month'] = df_['date'].str.split('-').str[1].astype(int)\n",
    "    df_['day'] = df_['date'].str.split('-').str[2].astype(int)\n",
    "\n",
    "    df_['azimuth'], df_['elevation'] = sunpos(df_['year'], df_['month'], df_['day'], df_['hour'], timezone, latitude, longitude, True)\n",
    "    \n",
    "    df_.loc[df_['elevation'] < 0, 'azimuth'] = 0\n",
    "    df_.loc[df_['elevation'] < 0, 'elevation'] = 0\n",
    "\n",
    "    df_['insolation'] = directInsolation(df_['elevation'])\n",
    "\n",
    "    return df_"
   ]
  },
  {
   "cell_type": "code",
   "execution_count": 25,
   "metadata": {},
   "outputs": [],
   "source": [
    "timezone = 9 # GMT+9\n",
    "\n",
    "dangjin_latitude = float(site.loc[site['Id'] == '당진태양광', 'Latitude'])\n",
    "dangjin_longitude = float(site.loc[site['Id'] == '당진태양광', 'Longitude'])\n",
    "\n",
    "ulsan_latitude = float(site.loc[site['Id'] == '울산태양광', 'Latitude'])\n",
    "ulsan_longitude = float(site.loc[site['Id'] == '울산태양광', 'Longitude'])\n",
    "\n",
    "dangjin_fcst = add_insolation(dangjin_fcst, dangjin_latitude, dangjin_longitude, timezone)\n",
    "ulsan_fcst = add_insolation(ulsan_fcst, ulsan_latitude, ulsan_longitude, timezone)"
   ]
  },
  {
   "cell_type": "code",
   "execution_count": 26,
   "metadata": {},
   "outputs": [
    {
     "data": {
      "text/html": [
       "<div>\n",
       "<style scoped>\n",
       "    .dataframe tbody tr th:only-of-type {\n",
       "        vertical-align: middle;\n",
       "    }\n",
       "\n",
       "    .dataframe tbody tr th {\n",
       "        vertical-align: top;\n",
       "    }\n",
       "\n",
       "    .dataframe thead th {\n",
       "        text-align: right;\n",
       "    }\n",
       "</style>\n",
       "<table border=\"1\" class=\"dataframe\">\n",
       "  <thead>\n",
       "    <tr style=\"text-align: right;\">\n",
       "      <th></th>\n",
       "      <th>Forecast_time</th>\n",
       "      <th>Temperature</th>\n",
       "      <th>Humidity</th>\n",
       "      <th>WindSpeed</th>\n",
       "      <th>WindDirection</th>\n",
       "      <th>Cloud</th>\n",
       "      <th>Wind_X</th>\n",
       "      <th>Wind_Y</th>\n",
       "      <th>Day sin</th>\n",
       "      <th>Day cos</th>\n",
       "      <th>Year sin</th>\n",
       "      <th>Year cos</th>\n",
       "      <th>date</th>\n",
       "      <th>hour</th>\n",
       "      <th>year</th>\n",
       "      <th>month</th>\n",
       "      <th>day</th>\n",
       "      <th>azimuth</th>\n",
       "      <th>elevation</th>\n",
       "      <th>insolation</th>\n",
       "    </tr>\n",
       "  </thead>\n",
       "  <tbody>\n",
       "    <tr>\n",
       "      <th>0</th>\n",
       "      <td>2018-03-02 00:00:00</td>\n",
       "      <td>NaN</td>\n",
       "      <td>NaN</td>\n",
       "      <td>NaN</td>\n",
       "      <td>NaN</td>\n",
       "      <td>NaN</td>\n",
       "      <td>NaN</td>\n",
       "      <td>NaN</td>\n",
       "      <td>-7.071068e-01</td>\n",
       "      <td>-7.071068e-01</td>\n",
       "      <td>0.858280</td>\n",
       "      <td>0.513182</td>\n",
       "      <td>2018-03-02</td>\n",
       "      <td>0</td>\n",
       "      <td>2018.0</td>\n",
       "      <td>3</td>\n",
       "      <td>2</td>\n",
       "      <td>0.0</td>\n",
       "      <td>0.0</td>\n",
       "      <td>0.0</td>\n",
       "    </tr>\n",
       "    <tr>\n",
       "      <th>1</th>\n",
       "      <td>2018-03-02 01:00:00</td>\n",
       "      <td>NaN</td>\n",
       "      <td>NaN</td>\n",
       "      <td>NaN</td>\n",
       "      <td>NaN</td>\n",
       "      <td>NaN</td>\n",
       "      <td>NaN</td>\n",
       "      <td>NaN</td>\n",
       "      <td>-8.660254e-01</td>\n",
       "      <td>-5.000000e-01</td>\n",
       "      <td>0.858648</td>\n",
       "      <td>0.512566</td>\n",
       "      <td>2018-03-02</td>\n",
       "      <td>1</td>\n",
       "      <td>2018.0</td>\n",
       "      <td>3</td>\n",
       "      <td>2</td>\n",
       "      <td>0.0</td>\n",
       "      <td>0.0</td>\n",
       "      <td>0.0</td>\n",
       "    </tr>\n",
       "    <tr>\n",
       "      <th>2</th>\n",
       "      <td>2018-03-02 02:00:00</td>\n",
       "      <td>NaN</td>\n",
       "      <td>NaN</td>\n",
       "      <td>NaN</td>\n",
       "      <td>NaN</td>\n",
       "      <td>NaN</td>\n",
       "      <td>NaN</td>\n",
       "      <td>NaN</td>\n",
       "      <td>-9.659258e-01</td>\n",
       "      <td>-2.588190e-01</td>\n",
       "      <td>0.859015</td>\n",
       "      <td>0.511951</td>\n",
       "      <td>2018-03-02</td>\n",
       "      <td>2</td>\n",
       "      <td>2018.0</td>\n",
       "      <td>3</td>\n",
       "      <td>2</td>\n",
       "      <td>0.0</td>\n",
       "      <td>0.0</td>\n",
       "      <td>0.0</td>\n",
       "    </tr>\n",
       "    <tr>\n",
       "      <th>3</th>\n",
       "      <td>2018-03-02 03:00:00</td>\n",
       "      <td>-3.000000</td>\n",
       "      <td>55.000000</td>\n",
       "      <td>5.000000</td>\n",
       "      <td>339.000000</td>\n",
       "      <td>1.0</td>\n",
       "      <td>4.667902</td>\n",
       "      <td>-1.791840</td>\n",
       "      <td>-1.000000e+00</td>\n",
       "      <td>-3.848660e-12</td>\n",
       "      <td>0.859382</td>\n",
       "      <td>0.511335</td>\n",
       "      <td>2018-03-02</td>\n",
       "      <td>3</td>\n",
       "      <td>2018.0</td>\n",
       "      <td>3</td>\n",
       "      <td>2</td>\n",
       "      <td>0.0</td>\n",
       "      <td>0.0</td>\n",
       "      <td>0.0</td>\n",
       "    </tr>\n",
       "    <tr>\n",
       "      <th>4</th>\n",
       "      <td>2018-03-02 04:00:00</td>\n",
       "      <td>-3.333333</td>\n",
       "      <td>56.666667</td>\n",
       "      <td>4.700000</td>\n",
       "      <td>343.666667</td>\n",
       "      <td>1.0</td>\n",
       "      <td>4.510317</td>\n",
       "      <td>-1.321758</td>\n",
       "      <td>-9.659258e-01</td>\n",
       "      <td>2.588190e-01</td>\n",
       "      <td>0.859748</td>\n",
       "      <td>0.510719</td>\n",
       "      <td>2018-03-02</td>\n",
       "      <td>4</td>\n",
       "      <td>2018.0</td>\n",
       "      <td>3</td>\n",
       "      <td>2</td>\n",
       "      <td>0.0</td>\n",
       "      <td>0.0</td>\n",
       "      <td>0.0</td>\n",
       "    </tr>\n",
       "    <tr>\n",
       "      <th>...</th>\n",
       "      <td>...</td>\n",
       "      <td>...</td>\n",
       "      <td>...</td>\n",
       "      <td>...</td>\n",
       "      <td>...</td>\n",
       "      <td>...</td>\n",
       "      <td>...</td>\n",
       "      <td>...</td>\n",
       "      <td>...</td>\n",
       "      <td>...</td>\n",
       "      <td>...</td>\n",
       "      <td>...</td>\n",
       "      <td>...</td>\n",
       "      <td>...</td>\n",
       "      <td>...</td>\n",
       "      <td>...</td>\n",
       "      <td>...</td>\n",
       "      <td>...</td>\n",
       "      <td>...</td>\n",
       "      <td>...</td>\n",
       "    </tr>\n",
       "    <tr>\n",
       "      <th>26299</th>\n",
       "      <td>2021-03-01 19:00:00</td>\n",
       "      <td>5.333333</td>\n",
       "      <td>83.333333</td>\n",
       "      <td>7.466667</td>\n",
       "      <td>20.333333</td>\n",
       "      <td>4.0</td>\n",
       "      <td>7.001396</td>\n",
       "      <td>2.594527</td>\n",
       "      <td>5.000000e-01</td>\n",
       "      <td>-8.660254e-01</td>\n",
       "      <td>0.858846</td>\n",
       "      <td>0.512234</td>\n",
       "      <td>2021-03-01</td>\n",
       "      <td>19</td>\n",
       "      <td>2021.0</td>\n",
       "      <td>3</td>\n",
       "      <td>1</td>\n",
       "      <td>0.0</td>\n",
       "      <td>0.0</td>\n",
       "      <td>0.0</td>\n",
       "    </tr>\n",
       "    <tr>\n",
       "      <th>26300</th>\n",
       "      <td>2021-03-01 20:00:00</td>\n",
       "      <td>4.666667</td>\n",
       "      <td>81.666667</td>\n",
       "      <td>7.333333</td>\n",
       "      <td>23.666667</td>\n",
       "      <td>4.0</td>\n",
       "      <td>6.716573</td>\n",
       "      <td>2.943710</td>\n",
       "      <td>2.588190e-01</td>\n",
       "      <td>-9.659258e-01</td>\n",
       "      <td>0.859213</td>\n",
       "      <td>0.511618</td>\n",
       "      <td>2021-03-01</td>\n",
       "      <td>20</td>\n",
       "      <td>2021.0</td>\n",
       "      <td>3</td>\n",
       "      <td>1</td>\n",
       "      <td>0.0</td>\n",
       "      <td>0.0</td>\n",
       "      <td>0.0</td>\n",
       "    </tr>\n",
       "    <tr>\n",
       "      <th>26301</th>\n",
       "      <td>2021-03-01 21:00:00</td>\n",
       "      <td>4.000000</td>\n",
       "      <td>80.000000</td>\n",
       "      <td>7.200000</td>\n",
       "      <td>27.000000</td>\n",
       "      <td>4.0</td>\n",
       "      <td>6.415247</td>\n",
       "      <td>3.268732</td>\n",
       "      <td>4.907520e-12</td>\n",
       "      <td>-1.000000e+00</td>\n",
       "      <td>0.859579</td>\n",
       "      <td>0.511002</td>\n",
       "      <td>2021-03-01</td>\n",
       "      <td>21</td>\n",
       "      <td>2021.0</td>\n",
       "      <td>3</td>\n",
       "      <td>1</td>\n",
       "      <td>0.0</td>\n",
       "      <td>0.0</td>\n",
       "      <td>0.0</td>\n",
       "    </tr>\n",
       "    <tr>\n",
       "      <th>26302</th>\n",
       "      <td>2021-03-01 22:00:00</td>\n",
       "      <td>4.000000</td>\n",
       "      <td>80.000000</td>\n",
       "      <td>7.200000</td>\n",
       "      <td>27.000000</td>\n",
       "      <td>4.0</td>\n",
       "      <td>6.415247</td>\n",
       "      <td>3.268732</td>\n",
       "      <td>-2.588190e-01</td>\n",
       "      <td>-9.659258e-01</td>\n",
       "      <td>0.859945</td>\n",
       "      <td>0.510386</td>\n",
       "      <td>2021-03-01</td>\n",
       "      <td>22</td>\n",
       "      <td>2021.0</td>\n",
       "      <td>3</td>\n",
       "      <td>1</td>\n",
       "      <td>0.0</td>\n",
       "      <td>0.0</td>\n",
       "      <td>0.0</td>\n",
       "    </tr>\n",
       "    <tr>\n",
       "      <th>26303</th>\n",
       "      <td>2021-03-01 23:00:00</td>\n",
       "      <td>4.000000</td>\n",
       "      <td>80.000000</td>\n",
       "      <td>7.200000</td>\n",
       "      <td>27.000000</td>\n",
       "      <td>4.0</td>\n",
       "      <td>6.415247</td>\n",
       "      <td>3.268732</td>\n",
       "      <td>-5.000000e-01</td>\n",
       "      <td>-8.660254e-01</td>\n",
       "      <td>0.860311</td>\n",
       "      <td>0.509769</td>\n",
       "      <td>2021-03-01</td>\n",
       "      <td>23</td>\n",
       "      <td>2021.0</td>\n",
       "      <td>3</td>\n",
       "      <td>1</td>\n",
       "      <td>0.0</td>\n",
       "      <td>0.0</td>\n",
       "      <td>0.0</td>\n",
       "    </tr>\n",
       "  </tbody>\n",
       "</table>\n",
       "<p>26304 rows × 20 columns</p>\n",
       "</div>"
      ],
      "text/plain": [
       "             Forecast_time  Temperature   Humidity  WindSpeed  WindDirection  \\\n",
       "0      2018-03-02 00:00:00          NaN        NaN        NaN            NaN   \n",
       "1      2018-03-02 01:00:00          NaN        NaN        NaN            NaN   \n",
       "2      2018-03-02 02:00:00          NaN        NaN        NaN            NaN   \n",
       "3      2018-03-02 03:00:00    -3.000000  55.000000   5.000000     339.000000   \n",
       "4      2018-03-02 04:00:00    -3.333333  56.666667   4.700000     343.666667   \n",
       "...                    ...          ...        ...        ...            ...   \n",
       "26299  2021-03-01 19:00:00     5.333333  83.333333   7.466667      20.333333   \n",
       "26300  2021-03-01 20:00:00     4.666667  81.666667   7.333333      23.666667   \n",
       "26301  2021-03-01 21:00:00     4.000000  80.000000   7.200000      27.000000   \n",
       "26302  2021-03-01 22:00:00     4.000000  80.000000   7.200000      27.000000   \n",
       "26303  2021-03-01 23:00:00     4.000000  80.000000   7.200000      27.000000   \n",
       "\n",
       "       Cloud    Wind_X    Wind_Y       Day sin       Day cos  Year sin  \\\n",
       "0        NaN       NaN       NaN -7.071068e-01 -7.071068e-01  0.858280   \n",
       "1        NaN       NaN       NaN -8.660254e-01 -5.000000e-01  0.858648   \n",
       "2        NaN       NaN       NaN -9.659258e-01 -2.588190e-01  0.859015   \n",
       "3        1.0  4.667902 -1.791840 -1.000000e+00 -3.848660e-12  0.859382   \n",
       "4        1.0  4.510317 -1.321758 -9.659258e-01  2.588190e-01  0.859748   \n",
       "...      ...       ...       ...           ...           ...       ...   \n",
       "26299    4.0  7.001396  2.594527  5.000000e-01 -8.660254e-01  0.858846   \n",
       "26300    4.0  6.716573  2.943710  2.588190e-01 -9.659258e-01  0.859213   \n",
       "26301    4.0  6.415247  3.268732  4.907520e-12 -1.000000e+00  0.859579   \n",
       "26302    4.0  6.415247  3.268732 -2.588190e-01 -9.659258e-01  0.859945   \n",
       "26303    4.0  6.415247  3.268732 -5.000000e-01 -8.660254e-01  0.860311   \n",
       "\n",
       "       Year cos        date  hour    year  month  day  azimuth  elevation  \\\n",
       "0      0.513182  2018-03-02     0  2018.0      3    2      0.0        0.0   \n",
       "1      0.512566  2018-03-02     1  2018.0      3    2      0.0        0.0   \n",
       "2      0.511951  2018-03-02     2  2018.0      3    2      0.0        0.0   \n",
       "3      0.511335  2018-03-02     3  2018.0      3    2      0.0        0.0   \n",
       "4      0.510719  2018-03-02     4  2018.0      3    2      0.0        0.0   \n",
       "...         ...         ...   ...     ...    ...  ...      ...        ...   \n",
       "26299  0.512234  2021-03-01    19  2021.0      3    1      0.0        0.0   \n",
       "26300  0.511618  2021-03-01    20  2021.0      3    1      0.0        0.0   \n",
       "26301  0.511002  2021-03-01    21  2021.0      3    1      0.0        0.0   \n",
       "26302  0.510386  2021-03-01    22  2021.0      3    1      0.0        0.0   \n",
       "26303  0.509769  2021-03-01    23  2021.0      3    1      0.0        0.0   \n",
       "\n",
       "       insolation  \n",
       "0             0.0  \n",
       "1             0.0  \n",
       "2             0.0  \n",
       "3             0.0  \n",
       "4             0.0  \n",
       "...           ...  \n",
       "26299         0.0  \n",
       "26300         0.0  \n",
       "26301         0.0  \n",
       "26302         0.0  \n",
       "26303         0.0  \n",
       "\n",
       "[26304 rows x 20 columns]"
      ]
     },
     "execution_count": 26,
     "metadata": {},
     "output_type": "execute_result"
    }
   ],
   "source": [
    "dangjin_fcst"
   ]
  },
  {
   "cell_type": "code",
   "execution_count": 27,
   "metadata": {},
   "outputs": [
    {
     "data": {
      "text/html": [
       "<div>\n",
       "<style scoped>\n",
       "    .dataframe tbody tr th:only-of-type {\n",
       "        vertical-align: middle;\n",
       "    }\n",
       "\n",
       "    .dataframe tbody tr th {\n",
       "        vertical-align: top;\n",
       "    }\n",
       "\n",
       "    .dataframe thead th {\n",
       "        text-align: right;\n",
       "    }\n",
       "</style>\n",
       "<table border=\"1\" class=\"dataframe\">\n",
       "  <thead>\n",
       "    <tr style=\"text-align: right;\">\n",
       "      <th></th>\n",
       "      <th>Forecast_time</th>\n",
       "      <th>Temperature</th>\n",
       "      <th>Humidity</th>\n",
       "      <th>WindSpeed</th>\n",
       "      <th>WindDirection</th>\n",
       "      <th>Cloud</th>\n",
       "      <th>Wind_X</th>\n",
       "      <th>Wind_Y</th>\n",
       "      <th>Day sin</th>\n",
       "      <th>Day cos</th>\n",
       "      <th>Year sin</th>\n",
       "      <th>Year cos</th>\n",
       "      <th>date</th>\n",
       "      <th>hour</th>\n",
       "      <th>year</th>\n",
       "      <th>month</th>\n",
       "      <th>day</th>\n",
       "      <th>azimuth</th>\n",
       "      <th>elevation</th>\n",
       "      <th>insolation</th>\n",
       "    </tr>\n",
       "  </thead>\n",
       "  <tbody>\n",
       "    <tr>\n",
       "      <th>0</th>\n",
       "      <td>2018-03-02 00:00:00</td>\n",
       "      <td>NaN</td>\n",
       "      <td>NaN</td>\n",
       "      <td>NaN</td>\n",
       "      <td>NaN</td>\n",
       "      <td>NaN</td>\n",
       "      <td>NaN</td>\n",
       "      <td>NaN</td>\n",
       "      <td>-7.071068e-01</td>\n",
       "      <td>-7.071068e-01</td>\n",
       "      <td>0.858280</td>\n",
       "      <td>0.513182</td>\n",
       "      <td>2018-03-02</td>\n",
       "      <td>0</td>\n",
       "      <td>2018.0</td>\n",
       "      <td>3</td>\n",
       "      <td>2</td>\n",
       "      <td>0.0</td>\n",
       "      <td>0.0</td>\n",
       "      <td>0.0</td>\n",
       "    </tr>\n",
       "    <tr>\n",
       "      <th>1</th>\n",
       "      <td>2018-03-02 01:00:00</td>\n",
       "      <td>NaN</td>\n",
       "      <td>NaN</td>\n",
       "      <td>NaN</td>\n",
       "      <td>NaN</td>\n",
       "      <td>NaN</td>\n",
       "      <td>NaN</td>\n",
       "      <td>NaN</td>\n",
       "      <td>-8.660254e-01</td>\n",
       "      <td>-5.000000e-01</td>\n",
       "      <td>0.858648</td>\n",
       "      <td>0.512566</td>\n",
       "      <td>2018-03-02</td>\n",
       "      <td>1</td>\n",
       "      <td>2018.0</td>\n",
       "      <td>3</td>\n",
       "      <td>2</td>\n",
       "      <td>0.0</td>\n",
       "      <td>0.0</td>\n",
       "      <td>0.0</td>\n",
       "    </tr>\n",
       "    <tr>\n",
       "      <th>2</th>\n",
       "      <td>2018-03-02 02:00:00</td>\n",
       "      <td>NaN</td>\n",
       "      <td>NaN</td>\n",
       "      <td>NaN</td>\n",
       "      <td>NaN</td>\n",
       "      <td>NaN</td>\n",
       "      <td>NaN</td>\n",
       "      <td>NaN</td>\n",
       "      <td>-9.659258e-01</td>\n",
       "      <td>-2.588190e-01</td>\n",
       "      <td>0.859015</td>\n",
       "      <td>0.511951</td>\n",
       "      <td>2018-03-02</td>\n",
       "      <td>2</td>\n",
       "      <td>2018.0</td>\n",
       "      <td>3</td>\n",
       "      <td>2</td>\n",
       "      <td>0.0</td>\n",
       "      <td>0.0</td>\n",
       "      <td>0.0</td>\n",
       "    </tr>\n",
       "    <tr>\n",
       "      <th>3</th>\n",
       "      <td>2018-03-02 03:00:00</td>\n",
       "      <td>-1.0</td>\n",
       "      <td>45.0</td>\n",
       "      <td>1.800000</td>\n",
       "      <td>299.000000</td>\n",
       "      <td>2.000000</td>\n",
       "      <td>0.872657</td>\n",
       "      <td>-1.574315</td>\n",
       "      <td>-1.000000e+00</td>\n",
       "      <td>-3.848660e-12</td>\n",
       "      <td>0.859382</td>\n",
       "      <td>0.511335</td>\n",
       "      <td>2018-03-02</td>\n",
       "      <td>3</td>\n",
       "      <td>2018.0</td>\n",
       "      <td>3</td>\n",
       "      <td>2</td>\n",
       "      <td>0.0</td>\n",
       "      <td>0.0</td>\n",
       "      <td>0.0</td>\n",
       "    </tr>\n",
       "    <tr>\n",
       "      <th>4</th>\n",
       "      <td>2018-03-02 04:00:00</td>\n",
       "      <td>-1.0</td>\n",
       "      <td>45.0</td>\n",
       "      <td>1.800000</td>\n",
       "      <td>300.666667</td>\n",
       "      <td>1.666667</td>\n",
       "      <td>0.918077</td>\n",
       "      <td>-1.548268</td>\n",
       "      <td>-9.659258e-01</td>\n",
       "      <td>2.588190e-01</td>\n",
       "      <td>0.859748</td>\n",
       "      <td>0.510719</td>\n",
       "      <td>2018-03-02</td>\n",
       "      <td>4</td>\n",
       "      <td>2018.0</td>\n",
       "      <td>3</td>\n",
       "      <td>2</td>\n",
       "      <td>0.0</td>\n",
       "      <td>0.0</td>\n",
       "      <td>0.0</td>\n",
       "    </tr>\n",
       "    <tr>\n",
       "      <th>...</th>\n",
       "      <td>...</td>\n",
       "      <td>...</td>\n",
       "      <td>...</td>\n",
       "      <td>...</td>\n",
       "      <td>...</td>\n",
       "      <td>...</td>\n",
       "      <td>...</td>\n",
       "      <td>...</td>\n",
       "      <td>...</td>\n",
       "      <td>...</td>\n",
       "      <td>...</td>\n",
       "      <td>...</td>\n",
       "      <td>...</td>\n",
       "      <td>...</td>\n",
       "      <td>...</td>\n",
       "      <td>...</td>\n",
       "      <td>...</td>\n",
       "      <td>...</td>\n",
       "      <td>...</td>\n",
       "      <td>...</td>\n",
       "    </tr>\n",
       "    <tr>\n",
       "      <th>26299</th>\n",
       "      <td>2021-03-01 19:00:00</td>\n",
       "      <td>16.0</td>\n",
       "      <td>80.0</td>\n",
       "      <td>6.133333</td>\n",
       "      <td>135.333333</td>\n",
       "      <td>4.000000</td>\n",
       "      <td>-4.362079</td>\n",
       "      <td>4.311617</td>\n",
       "      <td>5.000000e-01</td>\n",
       "      <td>-8.660254e-01</td>\n",
       "      <td>0.858846</td>\n",
       "      <td>0.512234</td>\n",
       "      <td>2021-03-01</td>\n",
       "      <td>19</td>\n",
       "      <td>2021.0</td>\n",
       "      <td>3</td>\n",
       "      <td>1</td>\n",
       "      <td>0.0</td>\n",
       "      <td>0.0</td>\n",
       "      <td>0.0</td>\n",
       "    </tr>\n",
       "    <tr>\n",
       "      <th>26300</th>\n",
       "      <td>2021-03-01 20:00:00</td>\n",
       "      <td>15.0</td>\n",
       "      <td>80.0</td>\n",
       "      <td>4.966667</td>\n",
       "      <td>83.666667</td>\n",
       "      <td>4.000000</td>\n",
       "      <td>0.547886</td>\n",
       "      <td>4.936355</td>\n",
       "      <td>2.588190e-01</td>\n",
       "      <td>-9.659258e-01</td>\n",
       "      <td>0.859213</td>\n",
       "      <td>0.511618</td>\n",
       "      <td>2021-03-01</td>\n",
       "      <td>20</td>\n",
       "      <td>2021.0</td>\n",
       "      <td>3</td>\n",
       "      <td>1</td>\n",
       "      <td>0.0</td>\n",
       "      <td>0.0</td>\n",
       "      <td>0.0</td>\n",
       "    </tr>\n",
       "    <tr>\n",
       "      <th>26301</th>\n",
       "      <td>2021-03-01 21:00:00</td>\n",
       "      <td>14.0</td>\n",
       "      <td>80.0</td>\n",
       "      <td>3.800000</td>\n",
       "      <td>32.000000</td>\n",
       "      <td>4.000000</td>\n",
       "      <td>3.222583</td>\n",
       "      <td>2.013693</td>\n",
       "      <td>4.907520e-12</td>\n",
       "      <td>-1.000000e+00</td>\n",
       "      <td>0.859579</td>\n",
       "      <td>0.511002</td>\n",
       "      <td>2021-03-01</td>\n",
       "      <td>21</td>\n",
       "      <td>2021.0</td>\n",
       "      <td>3</td>\n",
       "      <td>1</td>\n",
       "      <td>0.0</td>\n",
       "      <td>0.0</td>\n",
       "      <td>0.0</td>\n",
       "    </tr>\n",
       "    <tr>\n",
       "      <th>26302</th>\n",
       "      <td>2021-03-01 22:00:00</td>\n",
       "      <td>14.0</td>\n",
       "      <td>80.0</td>\n",
       "      <td>3.800000</td>\n",
       "      <td>32.000000</td>\n",
       "      <td>4.000000</td>\n",
       "      <td>3.222583</td>\n",
       "      <td>2.013693</td>\n",
       "      <td>-2.588190e-01</td>\n",
       "      <td>-9.659258e-01</td>\n",
       "      <td>0.859945</td>\n",
       "      <td>0.510386</td>\n",
       "      <td>2021-03-01</td>\n",
       "      <td>22</td>\n",
       "      <td>2021.0</td>\n",
       "      <td>3</td>\n",
       "      <td>1</td>\n",
       "      <td>0.0</td>\n",
       "      <td>0.0</td>\n",
       "      <td>0.0</td>\n",
       "    </tr>\n",
       "    <tr>\n",
       "      <th>26303</th>\n",
       "      <td>2021-03-01 23:00:00</td>\n",
       "      <td>14.0</td>\n",
       "      <td>80.0</td>\n",
       "      <td>3.800000</td>\n",
       "      <td>32.000000</td>\n",
       "      <td>4.000000</td>\n",
       "      <td>3.222583</td>\n",
       "      <td>2.013693</td>\n",
       "      <td>-5.000000e-01</td>\n",
       "      <td>-8.660254e-01</td>\n",
       "      <td>0.860311</td>\n",
       "      <td>0.509769</td>\n",
       "      <td>2021-03-01</td>\n",
       "      <td>23</td>\n",
       "      <td>2021.0</td>\n",
       "      <td>3</td>\n",
       "      <td>1</td>\n",
       "      <td>0.0</td>\n",
       "      <td>0.0</td>\n",
       "      <td>0.0</td>\n",
       "    </tr>\n",
       "  </tbody>\n",
       "</table>\n",
       "<p>26304 rows × 20 columns</p>\n",
       "</div>"
      ],
      "text/plain": [
       "             Forecast_time  Temperature  Humidity  WindSpeed  WindDirection  \\\n",
       "0      2018-03-02 00:00:00          NaN       NaN        NaN            NaN   \n",
       "1      2018-03-02 01:00:00          NaN       NaN        NaN            NaN   \n",
       "2      2018-03-02 02:00:00          NaN       NaN        NaN            NaN   \n",
       "3      2018-03-02 03:00:00         -1.0      45.0   1.800000     299.000000   \n",
       "4      2018-03-02 04:00:00         -1.0      45.0   1.800000     300.666667   \n",
       "...                    ...          ...       ...        ...            ...   \n",
       "26299  2021-03-01 19:00:00         16.0      80.0   6.133333     135.333333   \n",
       "26300  2021-03-01 20:00:00         15.0      80.0   4.966667      83.666667   \n",
       "26301  2021-03-01 21:00:00         14.0      80.0   3.800000      32.000000   \n",
       "26302  2021-03-01 22:00:00         14.0      80.0   3.800000      32.000000   \n",
       "26303  2021-03-01 23:00:00         14.0      80.0   3.800000      32.000000   \n",
       "\n",
       "          Cloud    Wind_X    Wind_Y       Day sin       Day cos  Year sin  \\\n",
       "0           NaN       NaN       NaN -7.071068e-01 -7.071068e-01  0.858280   \n",
       "1           NaN       NaN       NaN -8.660254e-01 -5.000000e-01  0.858648   \n",
       "2           NaN       NaN       NaN -9.659258e-01 -2.588190e-01  0.859015   \n",
       "3      2.000000  0.872657 -1.574315 -1.000000e+00 -3.848660e-12  0.859382   \n",
       "4      1.666667  0.918077 -1.548268 -9.659258e-01  2.588190e-01  0.859748   \n",
       "...         ...       ...       ...           ...           ...       ...   \n",
       "26299  4.000000 -4.362079  4.311617  5.000000e-01 -8.660254e-01  0.858846   \n",
       "26300  4.000000  0.547886  4.936355  2.588190e-01 -9.659258e-01  0.859213   \n",
       "26301  4.000000  3.222583  2.013693  4.907520e-12 -1.000000e+00  0.859579   \n",
       "26302  4.000000  3.222583  2.013693 -2.588190e-01 -9.659258e-01  0.859945   \n",
       "26303  4.000000  3.222583  2.013693 -5.000000e-01 -8.660254e-01  0.860311   \n",
       "\n",
       "       Year cos        date  hour    year  month  day  azimuth  elevation  \\\n",
       "0      0.513182  2018-03-02     0  2018.0      3    2      0.0        0.0   \n",
       "1      0.512566  2018-03-02     1  2018.0      3    2      0.0        0.0   \n",
       "2      0.511951  2018-03-02     2  2018.0      3    2      0.0        0.0   \n",
       "3      0.511335  2018-03-02     3  2018.0      3    2      0.0        0.0   \n",
       "4      0.510719  2018-03-02     4  2018.0      3    2      0.0        0.0   \n",
       "...         ...         ...   ...     ...    ...  ...      ...        ...   \n",
       "26299  0.512234  2021-03-01    19  2021.0      3    1      0.0        0.0   \n",
       "26300  0.511618  2021-03-01    20  2021.0      3    1      0.0        0.0   \n",
       "26301  0.511002  2021-03-01    21  2021.0      3    1      0.0        0.0   \n",
       "26302  0.510386  2021-03-01    22  2021.0      3    1      0.0        0.0   \n",
       "26303  0.509769  2021-03-01    23  2021.0      3    1      0.0        0.0   \n",
       "\n",
       "       insolation  \n",
       "0             0.0  \n",
       "1             0.0  \n",
       "2             0.0  \n",
       "3             0.0  \n",
       "4             0.0  \n",
       "...           ...  \n",
       "26299         0.0  \n",
       "26300         0.0  \n",
       "26301         0.0  \n",
       "26302         0.0  \n",
       "26303         0.0  \n",
       "\n",
       "[26304 rows x 20 columns]"
      ]
     },
     "execution_count": 27,
     "metadata": {},
     "output_type": "execute_result"
    }
   ],
   "source": [
    "ulsan_fcst"
   ]
  },
  {
   "cell_type": "code",
   "execution_count": 28,
   "metadata": {},
   "outputs": [],
   "source": [
    "dangjin_fcst.to_csv(\"data/add_dangjin_wind_time_insolation.csv\", index=False)\n",
    "ulsan_fcst.to_csv(\"data/add_ulsan_wind_time_insolation.csv\", index=False)"
   ]
  },
  {
   "cell_type": "markdown",
   "metadata": {},
   "source": [
    "## 학습 데이터 전처리"
   ]
  },
  {
   "cell_type": "code",
   "execution_count": 29,
   "metadata": {},
   "outputs": [],
   "source": [
    "def make_train_data(energy_df, fcst_df, target):\n",
    "    # 일기 예보 있는 날짜만 선택\n",
    "    energy = energy_df.loc[24:]\n",
    "    energy.index = range(energy.shape[0])\n",
    "    \n",
    "    # 발전량 데이터가 있는 날짜만 선택\n",
    "    fcst = fcst_df.loc[:25608-1]\n",
    "    fcst.index = range(fcst.shape[0])\n",
    "    \n",
    "    # 발전량과 일기예보 연결\n",
    "    concat_df = pd.concat([energy, fcst], axis=1)\n",
    "    \n",
    "    # 예보 시간, 날짜, 기상 예보 및 발전량 선택\n",
    "    feature_df = concat_df[[#'year', 'month', 'day', 'hour', \n",
    "                            'Year sin', 'Year cos', 'Day sin', 'Day cos',\n",
    "                            'Temperature', 'Humidity', \n",
    "                            #'WindSpeed', 'WindDirection',\n",
    "                            'Wind_X', 'Wind_Y',\n",
    "                            'azimuth', 'elevation', 'insolation',\n",
    "                            'Cloud', target]]\n",
    "\n",
    "\n",
    "    x_df = feature_df.loc[:, :'Cloud']\n",
    "    y_df = feature_df[target]\n",
    "\n",
    "    return x_df, y_df"
   ]
  },
  {
   "cell_type": "code",
   "execution_count": 30,
   "metadata": {},
   "outputs": [],
   "source": [
    "def train_dataset(energy_df, fcst_df, target):\n",
    "    # 일기 예보 있는 날짜만 선택\n",
    "    energy = energy_df.loc[24:]\n",
    "    energy.index = range(energy.shape[0])\n",
    "    \n",
    "    # 발전량 데이터가 있는 날짜만 선택\n",
    "    fcst = fcst_df.loc[:25608-1]\n",
    "    fcst.index = range(fcst.shape[0])\n",
    "    \n",
    "    # 발전량과 일기예보 연결\n",
    "    concat_df = pd.concat([energy, fcst], axis=1)\n",
    "    \n",
    "    # 예보 시간, 날짜, 기상 예보 및 발전량 선택\n",
    "    feature_df = concat_df[[#'year', 'month', 'day', 'hour', \n",
    "                            'Year sin', 'Year cos', 'Day sin', 'Day cos',\n",
    "                            'Temperature', 'Humidity', \n",
    "                            #'WindSpeed', 'WindDirection',\n",
    "                            'Wind_X', 'Wind_Y',\n",
    "                            'azimuth', 'elevation', 'insolation',\n",
    "                            'Cloud', target]]\n",
    "\n",
    "    # 마지막 30일을 검증데이터셋으로 나머지를 학습 데이터셋으로 선택\n",
    "    train_df = feature_df.iloc[:-24*30]\n",
    "    val_df = feature_df.iloc[-24*30:]\n",
    "    \n",
    "    # 발전량이 0인 데이터를 제외\n",
    "    train_df = train_df[train_df[target]!=0]\n",
    "    \n",
    "    train_x = train_df.loc[:, :'Cloud'].to_numpy()\n",
    "    train_y = train_df[target].to_numpy()\n",
    "    \n",
    "    val_x = val_df.loc[:, :'Cloud'].to_numpy()\n",
    "    val_y = val_df[target].to_numpy()\n",
    "    \n",
    "    return train_x, train_y, val_x, val_y"
   ]
  },
  {
   "cell_type": "markdown",
   "metadata": {},
   "source": [
    "## 테스트 데이터 전처리"
   ]
  },
  {
   "cell_type": "code",
   "execution_count": 31,
   "metadata": {},
   "outputs": [],
   "source": [
    "def test_datast(fcst_df):\n",
    "    start = '2021-02-01 00:00:00'\n",
    "    end = '2021-02-28 23:00:00'\n",
    "    \n",
    "    start_idx = fcst_df[fcst_df['Forecast_time']==start].index[0]\n",
    "    end_idx = fcst_df[fcst_df['Forecast_time']==end].index[0]\n",
    "    \n",
    "    test_df = fcst_df.loc[start_idx:end_idx, :].copy()\n",
    "    \n",
    "    test_df = test_df[[ #'year', 'month', 'day', 'hour', \n",
    "                        'Year sin', 'Year cos', 'Day sin', 'Day cos',\n",
    "                        'Temperature', 'Humidity', \n",
    "                        #'WindSpeed', 'WindDirection',\n",
    "                        'Wind_X', 'Wind_Y',\n",
    "                        'azimuth', 'elevation', 'insolation',\n",
    "                        'Cloud']]\n",
    "    \n",
    "    test_x = test_df.to_numpy()\n",
    "    \n",
    "    return test_x"
   ]
  },
  {
   "cell_type": "code",
   "execution_count": 32,
   "metadata": {},
   "outputs": [],
   "source": [
    "dangjin_test = test_datast(dangjin_fcst)\n",
    "ulsan_test = test_datast(ulsan_fcst)"
   ]
  },
  {
   "cell_type": "markdown",
   "metadata": {},
   "source": [
    "## LightGBM Custom Metric"
   ]
  },
  {
   "cell_type": "code",
   "execution_count": 33,
   "metadata": {},
   "outputs": [],
   "source": [
    "def nmae_10(y_pred, dataset):\n",
    "    y_true = dataset.get_label()\n",
    "    \n",
    "    absolute_error = abs(y_true - y_pred)\n",
    "    absolute_error /= capacity\n",
    "    \n",
    "    target_idx = np.where(y_true>=capacity*0.1)\n",
    "    \n",
    "    nmae = 100 * absolute_error[target_idx].mean()\n",
    "    \n",
    "    return 'score', nmae, False"
   ]
  },
  {
   "cell_type": "markdown",
   "metadata": {},
   "source": [
    "## Validation Metric"
   ]
  },
  {
   "cell_type": "code",
   "execution_count": 34,
   "metadata": {},
   "outputs": [],
   "source": [
    "def sola_nmae(answer, pred):\n",
    "    absolute_error = np.abs(answer - pred)\n",
    "    \n",
    "    absolute_error /= capacity\n",
    "    \n",
    "    target_idx = np.where(answer>=capacity*0.1)\n",
    "    \n",
    "    nmae = 100 * absolute_error[target_idx].mean()\n",
    "    \n",
    "    return nmae"
   ]
  },
  {
   "cell_type": "markdown",
   "metadata": {},
   "source": [
    "## LightGBM Hyperparameter"
   ]
  },
  {
   "cell_type": "code",
   "execution_count": 35,
   "metadata": {},
   "outputs": [],
   "source": [
    "# params = {\n",
    "#     'seed':42,\n",
    "#     'boosting': 'gbdt',\n",
    "#     'objective': 'regression',\n",
    "#     'metric':'mae',\n",
    "#     'num_iterations': 10000,\n",
    "#     'learning_rate': 0.01,\n",
    "# #     'max_depth': -1, # 최대 깊이 트리를 만듬\n",
    "#     'max_depth': 16,\n",
    "#     'num_leaves': 39000,\n",
    "#     'bagging_freq': 2,\n",
    "#     'bagging_fraction': 0.7,\n",
    "#     'feature_fraction': 0.8,\n",
    "# }"
   ]
  },
  {
   "cell_type": "markdown",
   "metadata": {},
   "source": [
    "## Optuna Hyperparameter Setting"
   ]
  },
  {
   "cell_type": "code",
   "execution_count": 36,
   "metadata": {},
   "outputs": [],
   "source": [
    "# # 기본 패러미터\n",
    "# params_default = {\n",
    "#         'seed':42,\n",
    "#         'boosting': 'gbdt',\n",
    "#         'objective': 'regression',\n",
    "#         'metric':'mae',\n",
    "#         'num_iterations': 10000,\n",
    "#         'learning_rate': 0.01,\n",
    "# }"
   ]
  },
  {
   "cell_type": "code",
   "execution_count": 37,
   "metadata": {},
   "outputs": [],
   "source": [
    "# # 기본 패러미터\n",
    "# params_default = {\n",
    "#     'verbose': -1,\n",
    "#     'seed': 2021,\n",
    "#     'boosting': 'gbdt',\n",
    "#     'objective': 'regression',\n",
    "#     'metric':'mae',\n",
    "#     'learning_rate': 0.09,\n",
    "# }"
   ]
  },
  {
   "cell_type": "code",
   "execution_count": 58,
   "metadata": {},
   "outputs": [],
   "source": [
    "def objectiveLGBM(trial: Trial, energy, fcst, target):\n",
    "    params = {\n",
    "        'verbose': -1,\n",
    "        'seed': 2021,\n",
    "        'boosting': 'gbdt',\n",
    "        'objective': 'regression',\n",
    "        'metric':'mse',\n",
    "        'learning_rate': 0.09,\n",
    "        'max_depth': trial.suggest_int('max_depth', 5, 50),\n",
    "        'num_leaves': trial.suggest_int('num_leaves', 2, 65535),\n",
    "        'min_data_in_leaf': trial.suggest_int('min_data_in_leaf', 20, 200),\n",
    "        'lambda_l1': trial.suggest_float('lambda_l1', 0.0, 10.0),\n",
    "        'lambda_l2': trial.suggest_float('lambda_l2', 0.0, 10.0),\n",
    "        'bagging_freq': trial.suggest_int('bagging_freq', 0, 5),\n",
    "        'bagging_fraction': trial.suggest_float('bagging_fraction', 0.1, 1.0),\n",
    "        'feature_fraction': trial.suggest_float('feature_fraction', 0.1, 1.0),\n",
    "        'scale_pos_weight': trial.suggest_float('scale_pos_weight', 1.0, 1.5),\n",
    "        'max_bin': trial.suggest_int('max_bin', 1, 1000)\n",
    "    }\n",
    "\n",
    "    train_x, train_y, val_x, val_y = train_dataset(energy, fcst, target)\n",
    "    train_ds = lgb.Dataset(train_x, train_y)\n",
    "    val_ds = lgb.Dataset(val_x, val_y)\n",
    "\n",
    "    model = lgb.train(params=params, train_set=train_ds, num_boost_round=1000, valid_sets=val_ds, verbose_eval=50, early_stopping_rounds=30, feval=nmae_10)\n",
    "\n",
    "    pred = model.predict(val_x)\n",
    "    score = sola_nmae(val_y, pred)\n",
    "\n",
    "    return score"
   ]
  },
  {
   "cell_type": "code",
   "execution_count": 59,
   "metadata": {},
   "outputs": [],
   "source": [
    "# 패러미터 그래프가 궁금할때 쓰는 코드들\n",
    "# # 하이퍼파라미터 최적화 과정을 확인\n",
    "# optuna.visualization.plot_optimization_history(study)\n",
    "\n",
    "# # 하이퍼파라미터별 중요도\n",
    "# optuna.visualization.plot_param_importances(study)\n",
    "\n",
    "# # 파라미터들관의 관계\n",
    "# optuna.visualization.plot_parallel_coordinate(study)"
   ]
  },
  {
   "cell_type": "code",
   "execution_count": 60,
   "metadata": {},
   "outputs": [],
   "source": [
    "def paramsTuning(energy, fcst, target):\n",
    "    sampler = TPESampler()\n",
    "    study = optuna.create_study(\n",
    "        study_name=\"lgbm_parameter_opt\",\n",
    "        direction=\"minimize\",\n",
    "        sampler=sampler,\n",
    "    )\n",
    "    study.optimize(lambda trial: objectiveLGBM(trial, energy, fcst, target), n_trials=10)\n",
    "    print()\n",
    "    print(\"Best Score:\", study.best_value)\n",
    "    print(\"Best trial:\", study.best_trial.params)\n",
    "    return study"
   ]
  },
  {
   "cell_type": "markdown",
   "metadata": {},
   "source": [
    "## K-Fold"
   ]
  },
  {
   "cell_type": "code",
   "execution_count": 41,
   "metadata": {},
   "outputs": [],
   "source": [
    "def kfold_lgbm(params, n_split, energy, fcst, test_set, target):\n",
    "    cv_score = 0\n",
    "    cv_predict = np.zeros((test_set.shape[0]), dtype=float)\n",
    "    x_df, y_df = make_train_data(energy, fcst, target)\n",
    "\n",
    "    folds = KFold(n_splits=n_split, shuffle=True, random_state=42)\n",
    "    splits = folds.split(x_df, y_df)\n",
    "\n",
    "    for index, (train_idx, valid_idx) in enumerate(splits):\n",
    "        print(f\"============ Fold {index} ============\\n\")\n",
    "        train_x, val_x = x_df.iloc[train_idx].to_numpy(), x_df.iloc[valid_idx].to_numpy()\n",
    "        train_y, val_y = y_df.iloc[train_idx].to_numpy(), y_df.iloc[valid_idx].to_numpy()\n",
    "\n",
    "        # # 발전량이 0인 데이터를 제외\n",
    "        # train_x = train_x[train_y[target]!=0]\n",
    "        # train_y = train_y[train_y[target]!=0]\n",
    "\n",
    "        train_ds = lgb.Dataset(train_x, train_y)\n",
    "        val_ds = lgb.Dataset(val_x, val_y)\n",
    "\n",
    "        model = lgb.train(params=params, train_set=train_ds, num_boost_round=1000, valid_sets=val_ds, verbose_eval=500, early_stopping_rounds=30, feval=nmae_10)\n",
    "\n",
    "        cv_score += sola_nmae(val_y, model.predict(val_x))\n",
    "        cv_predict += model.predict(test_set)\n",
    "\n",
    "    print('CV Mean Score : ', cv_score/n_split)\n",
    "    predict = cv_predict/n_split\n",
    "\n",
    "    return predict\n",
    "    "
   ]
  },
  {
   "cell_type": "markdown",
   "metadata": {},
   "source": [
    "### 하이퍼 파라미터 추출"
   ]
  },
  {
   "cell_type": "code",
   "execution_count": 61,
   "metadata": {
    "scrolled": true,
    "tags": []
   },
   "outputs": [
    {
     "name": "stderr",
     "output_type": "stream",
     "text": [
      "\u001b[32m[I 2021-06-25 18:14:28,902]\u001b[0m A new study created in memory with name: lgbm_parameter_opt\u001b[0m\n"
     ]
    },
    {
     "name": "stdout",
     "output_type": "stream",
     "text": [
      "Training until validation scores don't improve for 30 rounds\n",
      "[50]\tvalid_0's l2: 5896.55\tvalid_0's score: 8.52683\n",
      "Early stopping, best iteration is:\n",
      "[61]\tvalid_0's l2: 5777.43\tvalid_0's score: 8.28808\n"
     ]
    },
    {
     "name": "stderr",
     "output_type": "stream",
     "text": [
      "\u001b[32m[I 2021-06-25 18:14:30,095]\u001b[0m Trial 0 finished with value: 8.288083655767146 and parameters: {'max_depth': 32, 'num_leaves': 8735, 'min_data_in_leaf': 157, 'lambda_l1': 2.698519990310558, 'lambda_l2': 0.847413210311122, 'bagging_freq': 0, 'bagging_fraction': 0.3202870966349922, 'feature_fraction': 0.1439456607371684, 'scale_pos_weight': 1.154156768269848, 'max_bin': 524}. Best is trial 0 with value: 8.288083655767146.\u001b[0m\n"
     ]
    },
    {
     "name": "stdout",
     "output_type": "stream",
     "text": [
      "Training until validation scores don't improve for 30 rounds\n",
      "[50]\tvalid_0's l2: 4363.5\tvalid_0's score: 8.06554\n"
     ]
    },
    {
     "name": "stderr",
     "output_type": "stream",
     "text": [
      "\u001b[32m[I 2021-06-25 18:14:30,632]\u001b[0m Trial 1 finished with value: 7.9531363463176 and parameters: {'max_depth': 11, 'num_leaves': 49567, 'min_data_in_leaf': 108, 'lambda_l1': 7.384161598109223, 'lambda_l2': 0.03604513030077028, 'bagging_freq': 5, 'bagging_fraction': 0.9400184540580401, 'feature_fraction': 0.47723700943831593, 'scale_pos_weight': 1.0693338667258079, 'max_bin': 351}. Best is trial 1 with value: 7.9531363463176.\u001b[0m\n"
     ]
    },
    {
     "name": "stdout",
     "output_type": "stream",
     "text": [
      "Early stopping, best iteration is:\n",
      "[69]\tvalid_0's l2: 4271.12\tvalid_0's score: 7.95314\n",
      "Training until validation scores don't improve for 30 rounds\n",
      "[50]\tvalid_0's l2: 4902.58\tvalid_0's score: 8.47472\n",
      "[100]\tvalid_0's l2: 4936.37\tvalid_0's score: 8.41698\n",
      "Early stopping, best iteration is:\n",
      "[75]\tvalid_0's l2: 4828.99\tvalid_0's score: 8.29981\n"
     ]
    },
    {
     "name": "stderr",
     "output_type": "stream",
     "text": [
      "\u001b[32m[I 2021-06-25 18:14:44,009]\u001b[0m Trial 2 finished with value: 8.299810403115302 and parameters: {'max_depth': 45, 'num_leaves': 36223, 'min_data_in_leaf': 29, 'lambda_l1': 9.303226795298123, 'lambda_l2': 6.473289617536244, 'bagging_freq': 3, 'bagging_fraction': 0.44083974382025126, 'feature_fraction': 0.28748639795904446, 'scale_pos_weight': 1.1994110646898966, 'max_bin': 910}. Best is trial 1 with value: 7.9531363463176.\u001b[0m\n"
     ]
    },
    {
     "name": "stdout",
     "output_type": "stream",
     "text": [
      "Training until validation scores don't improve for 30 rounds\n",
      "[50]\tvalid_0's l2: 4313.33\tvalid_0's score: 8.23148\n",
      "Early stopping, best iteration is:\n",
      "[61]\tvalid_0's l2: 4192.11\tvalid_0's score: 8.07523\n"
     ]
    },
    {
     "name": "stderr",
     "output_type": "stream",
     "text": [
      "\u001b[32m[I 2021-06-25 18:15:04,678]\u001b[0m Trial 3 finished with value: 8.075230910092117 and parameters: {'max_depth': 34, 'num_leaves': 44044, 'min_data_in_leaf': 79, 'lambda_l1': 3.953713689376046, 'lambda_l2': 7.944694223889482, 'bagging_freq': 1, 'bagging_fraction': 0.9328336639546321, 'feature_fraction': 0.9476680457091127, 'scale_pos_weight': 1.444180076907637, 'max_bin': 878}. Best is trial 1 with value: 7.9531363463176.\u001b[0m\n"
     ]
    },
    {
     "name": "stdout",
     "output_type": "stream",
     "text": [
      "Training until validation scores don't improve for 30 rounds\n",
      "[50]\tvalid_0's l2: 4941.77\tvalid_0's score: 9.26179\n",
      "Early stopping, best iteration is:\n",
      "[62]\tvalid_0's l2: 4888.43\tvalid_0's score: 9.13269\n"
     ]
    },
    {
     "name": "stderr",
     "output_type": "stream",
     "text": [
      "\u001b[32m[I 2021-06-25 18:15:25,073]\u001b[0m Trial 4 finished with value: 9.132694994702064 and parameters: {'max_depth': 26, 'num_leaves': 40210, 'min_data_in_leaf': 147, 'lambda_l1': 0.8292292489907171, 'lambda_l2': 8.629149992189037, 'bagging_freq': 5, 'bagging_fraction': 0.15989368037045526, 'feature_fraction': 0.8617753874269901, 'scale_pos_weight': 1.45227820818232, 'max_bin': 208}. Best is trial 1 with value: 7.9531363463176.\u001b[0m\n"
     ]
    },
    {
     "name": "stdout",
     "output_type": "stream",
     "text": [
      "Training until validation scores don't improve for 30 rounds\n",
      "[50]\tvalid_0's l2: 5882.65\tvalid_0's score: 8.52183\n",
      "Early stopping, best iteration is:\n",
      "[57]\tvalid_0's l2: 5723.05\tvalid_0's score: 8.35676\n"
     ]
    },
    {
     "name": "stderr",
     "output_type": "stream",
     "text": [
      "\u001b[32m[I 2021-06-25 18:15:28,093]\u001b[0m Trial 5 finished with value: 8.356759675769181 and parameters: {'max_depth': 23, 'num_leaves': 9267, 'min_data_in_leaf': 158, 'lambda_l1': 5.4309807944740545, 'lambda_l2': 5.128380181284187, 'bagging_freq': 1, 'bagging_fraction': 0.6807523363860207, 'feature_fraction': 0.2070648850581934, 'scale_pos_weight': 1.4763586554591241, 'max_bin': 496}. Best is trial 1 with value: 7.9531363463176.\u001b[0m\n"
     ]
    },
    {
     "name": "stdout",
     "output_type": "stream",
     "text": [
      "Training until validation scores don't improve for 30 rounds\n",
      "[50]\tvalid_0's l2: 5163.04\tvalid_0's score: 8.17404\n",
      "Early stopping, best iteration is:\n",
      "[62]\tvalid_0's l2: 5046.28\tvalid_0's score: 8.13364\n"
     ]
    },
    {
     "name": "stderr",
     "output_type": "stream",
     "text": [
      "\u001b[32m[I 2021-06-25 18:15:48,985]\u001b[0m Trial 6 finished with value: 8.133641509614636 and parameters: {'max_depth': 29, 'num_leaves': 43053, 'min_data_in_leaf': 20, 'lambda_l1': 8.514846316529065, 'lambda_l2': 8.336877146025676, 'bagging_freq': 2, 'bagging_fraction': 0.6088682916613454, 'feature_fraction': 0.3332107476519758, 'scale_pos_weight': 1.4132785036239088, 'max_bin': 416}. Best is trial 1 with value: 7.9531363463176.\u001b[0m\n"
     ]
    },
    {
     "name": "stdout",
     "output_type": "stream",
     "text": [
      "Training until validation scores don't improve for 30 rounds\n",
      "[50]\tvalid_0's l2: 4905.43\tvalid_0's score: 8.3033\n",
      "[100]\tvalid_0's l2: 4790.08\tvalid_0's score: 8.2344\n",
      "[150]\tvalid_0's l2: 4772.61\tvalid_0's score: 8.1962\n",
      "Early stopping, best iteration is:\n",
      "[129]\tvalid_0's l2: 4696.81\tvalid_0's score: 8.10785\n"
     ]
    },
    {
     "name": "stderr",
     "output_type": "stream",
     "text": [
      "\u001b[32m[I 2021-06-25 18:16:07,297]\u001b[0m Trial 7 finished with value: 8.107854318338653 and parameters: {'max_depth': 18, 'num_leaves': 38569, 'min_data_in_leaf': 107, 'lambda_l1': 4.857521258415941, 'lambda_l2': 0.2651275082760818, 'bagging_freq': 0, 'bagging_fraction': 0.8951925369619096, 'feature_fraction': 0.363092436521933, 'scale_pos_weight': 1.0825161352908486, 'max_bin': 961}. Best is trial 1 with value: 7.9531363463176.\u001b[0m\n"
     ]
    },
    {
     "name": "stdout",
     "output_type": "stream",
     "text": [
      "Training until validation scores don't improve for 30 rounds\n",
      "[50]\tvalid_0's l2: 6122.4\tvalid_0's score: 8.67994\n",
      "Early stopping, best iteration is:\n",
      "[57]\tvalid_0's l2: 5883.98\tvalid_0's score: 8.56838\n"
     ]
    },
    {
     "name": "stderr",
     "output_type": "stream",
     "text": [
      "\u001b[32m[I 2021-06-25 18:16:42,574]\u001b[0m Trial 8 finished with value: 8.568382323647754 and parameters: {'max_depth': 50, 'num_leaves': 58222, 'min_data_in_leaf': 42, 'lambda_l1': 4.830730691989594, 'lambda_l2': 8.614642329761836, 'bagging_freq': 0, 'bagging_fraction': 0.10299782711408888, 'feature_fraction': 0.17622174894166265, 'scale_pos_weight': 1.1749538329551834, 'max_bin': 875}. Best is trial 1 with value: 7.9531363463176.\u001b[0m\n"
     ]
    },
    {
     "name": "stdout",
     "output_type": "stream",
     "text": [
      "Training until validation scores don't improve for 30 rounds\n",
      "[50]\tvalid_0's l2: 4803.13\tvalid_0's score: 8.54335\n",
      "Early stopping, best iteration is:\n",
      "[59]\tvalid_0's l2: 4729.61\tvalid_0's score: 8.39851\n"
     ]
    },
    {
     "name": "stderr",
     "output_type": "stream",
     "text": [
      "\u001b[32m[I 2021-06-25 18:16:45,893]\u001b[0m Trial 9 finished with value: 8.39851082397137 and parameters: {'max_depth': 46, 'num_leaves': 6313, 'min_data_in_leaf': 150, 'lambda_l1': 1.7842900907651693, 'lambda_l2': 8.807320104511374, 'bagging_freq': 2, 'bagging_fraction': 0.6459579992956725, 'feature_fraction': 0.2335807265569998, 'scale_pos_weight': 1.0944997336210247, 'max_bin': 727}. Best is trial 1 with value: 7.9531363463176.\u001b[0m\n"
     ]
    },
    {
     "name": "stdout",
     "output_type": "stream",
     "text": [
      "\n",
      "Best Score: 7.9531363463176\n",
      "Best trial: {'max_depth': 11, 'num_leaves': 49567, 'min_data_in_leaf': 108, 'lambda_l1': 7.384161598109223, 'lambda_l2': 0.03604513030077028, 'bagging_freq': 5, 'bagging_fraction': 0.9400184540580401, 'feature_fraction': 0.47723700943831593, 'scale_pos_weight': 1.0693338667258079, 'max_bin': 351}\n"
     ]
    },
    {
     "ename": "NameError",
     "evalue": "name 'params_default' is not defined",
     "output_type": "error",
     "traceback": [
      "\u001b[1;31m---------------------------------------------------------------------------\u001b[0m",
      "\u001b[1;31mNameError\u001b[0m                                 Traceback (most recent call last)",
      "\u001b[1;32m<ipython-input-61-c20ef5435687>\u001b[0m in \u001b[0;36m<module>\u001b[1;34m\u001b[0m\n\u001b[0;32m      4\u001b[0m \u001b[0mstudy\u001b[0m \u001b[1;33m=\u001b[0m \u001b[0mparamsTuning\u001b[0m\u001b[1;33m(\u001b[0m\u001b[0menergy\u001b[0m\u001b[1;33m,\u001b[0m \u001b[0mdangjin_fcst\u001b[0m\u001b[1;33m,\u001b[0m \u001b[0mtarget\u001b[0m\u001b[1;33m=\u001b[0m\u001b[1;34m'dangjin_floating'\u001b[0m\u001b[1;33m)\u001b[0m\u001b[1;33m\u001b[0m\u001b[1;33m\u001b[0m\u001b[0m\n\u001b[0;32m      5\u001b[0m \u001b[1;33m\u001b[0m\u001b[0m\n\u001b[1;32m----> 6\u001b[1;33m \u001b[0mparams_floating\u001b[0m \u001b[1;33m=\u001b[0m \u001b[0mparams_default\u001b[0m\u001b[1;33m.\u001b[0m\u001b[0mcopy\u001b[0m\u001b[1;33m(\u001b[0m\u001b[1;33m)\u001b[0m\u001b[1;33m\u001b[0m\u001b[1;33m\u001b[0m\u001b[0m\n\u001b[0m\u001b[0;32m      7\u001b[0m \u001b[0mparams_floating\u001b[0m\u001b[1;33m.\u001b[0m\u001b[0mupdate\u001b[0m\u001b[1;33m(\u001b[0m\u001b[0mstudy\u001b[0m\u001b[1;33m.\u001b[0m\u001b[0mbest_trial\u001b[0m\u001b[1;33m.\u001b[0m\u001b[0mparams\u001b[0m\u001b[1;33m)\u001b[0m\u001b[1;33m\u001b[0m\u001b[1;33m\u001b[0m\u001b[0m\n\u001b[0;32m      8\u001b[0m \u001b[0mprint\u001b[0m\u001b[1;33m(\u001b[0m\u001b[0mparams_floating\u001b[0m\u001b[1;33m)\u001b[0m\u001b[1;33m\u001b[0m\u001b[1;33m\u001b[0m\u001b[0m\n",
      "\u001b[1;31mNameError\u001b[0m: name 'params_default' is not defined"
     ]
    }
   ],
   "source": [
    "# 당진수상태양광\n",
    "capacity = 1000\n",
    "\n",
    "study = paramsTuning(energy, dangjin_fcst, target='dangjin_floating')\n",
    "\n",
    "params_floating = params_default.copy()\n",
    "params_floating.update(study.best_trial.params)\n",
    "print(params_floating)"
   ]
  },
  {
   "cell_type": "code",
   "execution_count": 43,
   "metadata": {},
   "outputs": [],
   "source": [
    "# # 하이퍼파라미터 최적화 과정을 확인\n",
    "# optuna.visualization.plot_optimization_history(study)"
   ]
  },
  {
   "cell_type": "code",
   "execution_count": 44,
   "metadata": {},
   "outputs": [],
   "source": [
    "# # 하이퍼파라미터별 중요도\n",
    "# optuna.visualization.plot_param_importances(study)"
   ]
  },
  {
   "cell_type": "code",
   "execution_count": 45,
   "metadata": {},
   "outputs": [],
   "source": [
    "# # 파라미터들관의 관계\n",
    "# optuna.visualization.plot_parallel_coordinate(study)"
   ]
  },
  {
   "cell_type": "code",
   "execution_count": null,
   "metadata": {
    "tags": []
   },
   "outputs": [],
   "source": [
    "# 당진자재창고태양광\n",
    "capacity = 700\n",
    "\n",
    "study = paramsTuning(energy, dangjin_fcst, target='dangjin_warehouse')\n",
    "\n",
    "params_warehouse = params_default.copy()\n",
    "params_warehouse.update(study.best_trial.params)\n",
    "print(params_warehouse)"
   ]
  },
  {
   "cell_type": "code",
   "execution_count": 47,
   "metadata": {
    "tags": []
   },
   "outputs": [],
   "source": [
    "# 당진태양광\n",
    "capacity = 1000\n",
    "\n",
    "study = paramsTuning(energy, dangjin_fcst, target='dangjin')\n",
    "\n",
    "params_dangjin = params_default.copy()\n",
    "params_dangjin.update(study.best_trial.params)\n",
    "print(params_dangjin)"
   ]
  },
  {
   "cell_type": "code",
   "execution_count": 48,
   "metadata": {
    "tags": []
   },
   "outputs": [],
   "source": [
    "# 울산태양광\n",
    "capacity = 500\n",
    "\n",
    "study = paramsTuning(energy, ulsan_fcst, target='ulsan')\n",
    "\n",
    "params_ulsan = params_default.copy()\n",
    "params_ulsan.update(study.best_trial.params)\n",
    "print(params_ulsan)"
   ]
  },
  {
   "cell_type": "markdown",
   "metadata": {},
   "source": [
    "### 예측 모델 학습"
   ]
  },
  {
   "cell_type": "code",
   "execution_count": 49,
   "metadata": {},
   "outputs": [],
   "source": [
    "params_floating = {\n",
    "    'verbose': -1, \n",
    "    'seed': 2021, \n",
    "    'boosting': \n",
    "    'gbdt', \n",
    "    'objective': 'regression', \n",
    "    'metric': 'mae', \n",
    "    'learning_rate': 0.09, \n",
    "    'max_depth': 20, \n",
    "    'num_leaves': 32798, \n",
    "    'min_data_in_leaf': 39, \n",
    "    'lambda_l1': 4.561094684897773, \n",
    "    'lambda_l2': 8.888899325305871, \n",
    "    'bagging_freq': 0, \n",
    "    'bagging_fraction': 0.6787974978388922, \n",
    "    'feature_fraction': 0.43390142278286126, \n",
    "    'scale_pos_weight': 1.0564229411526196, \n",
    "    'max_bin': 784\n",
    "    }\n",
    "\n",
    "params_warehouse = {\n",
    "    'verbose': -1, \n",
    "    'seed': 2021, \n",
    "    'boosting': 'gbdt', \n",
    "    'objective': 'regression', \n",
    "    'metric': 'mae', \n",
    "    'learning_rate': 0.09, \n",
    "    'max_depth': 8, \n",
    "    'num_leaves': 59700, \n",
    "    'min_data_in_leaf': 73, \n",
    "    'lambda_l1': 4.771046461475887, \n",
    "    'lambda_l2': 6.181630028245978, \n",
    "    'bagging_freq': 0, \n",
    "    'bagging_fraction': 0.4980967681726417, \n",
    "    'feature_fraction': 0.4038783769693114, \n",
    "    'scale_pos_weight': 1.203886552860244, \n",
    "    'max_bin': 748\n",
    "    }\n",
    "\n",
    "params_dangjin = {\n",
    "    'verbose': -1, \n",
    "    'seed': 2021, \n",
    "    'boosting': 'gbdt', \n",
    "    'objective': 'regression', \n",
    "    'metric': 'mae', \n",
    "    'learning_rate': 0.09, \n",
    "    'max_depth': 13, \n",
    "    'num_leaves': 35900, \n",
    "    'min_data_in_leaf': 101, \n",
    "    'lambda_l1': 4.146032507218709, \n",
    "    'lambda_l2': 2.654270912625294, \n",
    "    'bagging_freq': 3, \n",
    "    'bagging_fraction': 0.9980740682405935, \n",
    "    'feature_fraction': 0.4414072304994734, \n",
    "    'scale_pos_weight': 1.4545059935564075, \n",
    "    'max_bin': 44\n",
    "    }\n",
    "\n",
    "params_ulsan = {\n",
    "    'verbose': -1, \n",
    "    'seed': 2021, \n",
    "    'boosting': 'gbdt', \n",
    "    'objective': 'regression', \n",
    "    'metric': 'mae', \n",
    "    'learning_rate': 0.09, \n",
    "    'max_depth': 10, \n",
    "    'num_leaves': 18195, \n",
    "    'min_data_in_leaf': 87, \n",
    "    'lambda_l1': 9.936206855210838, \n",
    "    'lambda_l2': 1.8092783404797308, \n",
    "    'bagging_freq': 2, \n",
    "    'bagging_fraction': 0.870534721153838, \n",
    "    'feature_fraction': 0.5867434734948355, \n",
    "    'scale_pos_weight': 1.0801917134933015, \n",
    "    'max_bin': 880}"
   ]
  },
  {
   "cell_type": "code",
   "execution_count": 57,
   "metadata": {
    "tags": []
   },
   "outputs": [
    {
     "name": "stdout",
     "output_type": "stream",
     "text": [
      "============ Fold 0 ============\n",
      "\n",
      "Training until validation scores don't improve for 30 rounds\n",
      "Early stopping, best iteration is:\n",
      "[461]\tvalid_0's l1: 28.1402\tvalid_0's score: 6.23658\n",
      "============ Fold 1 ============\n",
      "\n",
      "Training until validation scores don't improve for 30 rounds\n",
      "Early stopping, best iteration is:\n",
      "[457]\tvalid_0's l1: 29.6965\tvalid_0's score: 6.4572\n",
      "============ Fold 2 ============\n",
      "\n",
      "Training until validation scores don't improve for 30 rounds\n",
      "Early stopping, best iteration is:\n",
      "[377]\tvalid_0's l1: 30.5467\tvalid_0's score: 6.87055\n",
      "============ Fold 3 ============\n",
      "\n",
      "Training until validation scores don't improve for 30 rounds\n"
     ]
    },
    {
     "ename": "KeyboardInterrupt",
     "evalue": "",
     "output_type": "error",
     "traceback": [
      "\u001b[1;31m---------------------------------------------------------------------------\u001b[0m",
      "\u001b[1;31mKeyboardInterrupt\u001b[0m                         Traceback (most recent call last)",
      "\u001b[1;32m<ipython-input-57-21c8aaa76320>\u001b[0m in \u001b[0;36m<module>\u001b[1;34m\u001b[0m\n\u001b[0;32m      1\u001b[0m \u001b[1;31m# 당진수상태양광 예측 모델 학습\u001b[0m\u001b[1;33m\u001b[0m\u001b[1;33m\u001b[0m\u001b[1;33m\u001b[0m\u001b[0m\n\u001b[0;32m      2\u001b[0m \u001b[0mcapacity\u001b[0m \u001b[1;33m=\u001b[0m \u001b[1;36m1000\u001b[0m\u001b[1;33m\u001b[0m\u001b[1;33m\u001b[0m\u001b[0m\n\u001b[1;32m----> 3\u001b[1;33m \u001b[0mdangjin_floating_pred\u001b[0m \u001b[1;33m=\u001b[0m \u001b[0mkfold_lgbm\u001b[0m\u001b[1;33m(\u001b[0m\u001b[0mparams_floating\u001b[0m\u001b[1;33m,\u001b[0m \u001b[1;36m5\u001b[0m\u001b[1;33m,\u001b[0m \u001b[0menergy\u001b[0m\u001b[1;33m,\u001b[0m \u001b[0mdangjin_fcst\u001b[0m\u001b[1;33m,\u001b[0m \u001b[0mdangjin_test\u001b[0m\u001b[1;33m,\u001b[0m \u001b[0mtarget\u001b[0m\u001b[1;33m=\u001b[0m\u001b[1;34m'dangjin_floating'\u001b[0m\u001b[1;33m)\u001b[0m\u001b[1;33m\u001b[0m\u001b[1;33m\u001b[0m\u001b[0m\n\u001b[0m",
      "\u001b[1;32m<ipython-input-41-3f20697dbc79>\u001b[0m in \u001b[0;36mkfold_lgbm\u001b[1;34m(params, n_split, energy, fcst, test_set, target)\u001b[0m\n\u001b[0;32m     19\u001b[0m         \u001b[0mval_ds\u001b[0m \u001b[1;33m=\u001b[0m \u001b[0mlgb\u001b[0m\u001b[1;33m.\u001b[0m\u001b[0mDataset\u001b[0m\u001b[1;33m(\u001b[0m\u001b[0mval_x\u001b[0m\u001b[1;33m,\u001b[0m \u001b[0mval_y\u001b[0m\u001b[1;33m)\u001b[0m\u001b[1;33m\u001b[0m\u001b[1;33m\u001b[0m\u001b[0m\n\u001b[0;32m     20\u001b[0m \u001b[1;33m\u001b[0m\u001b[0m\n\u001b[1;32m---> 21\u001b[1;33m         \u001b[0mmodel\u001b[0m \u001b[1;33m=\u001b[0m \u001b[0mlgb\u001b[0m\u001b[1;33m.\u001b[0m\u001b[0mtrain\u001b[0m\u001b[1;33m(\u001b[0m\u001b[0mparams\u001b[0m\u001b[1;33m=\u001b[0m\u001b[0mparams\u001b[0m\u001b[1;33m,\u001b[0m \u001b[0mtrain_set\u001b[0m\u001b[1;33m=\u001b[0m\u001b[0mtrain_ds\u001b[0m\u001b[1;33m,\u001b[0m \u001b[0mnum_boost_round\u001b[0m\u001b[1;33m=\u001b[0m\u001b[1;36m1000\u001b[0m\u001b[1;33m,\u001b[0m \u001b[0mvalid_sets\u001b[0m\u001b[1;33m=\u001b[0m\u001b[0mval_ds\u001b[0m\u001b[1;33m,\u001b[0m \u001b[0mverbose_eval\u001b[0m\u001b[1;33m=\u001b[0m\u001b[1;36m500\u001b[0m\u001b[1;33m,\u001b[0m \u001b[0mearly_stopping_rounds\u001b[0m\u001b[1;33m=\u001b[0m\u001b[1;36m30\u001b[0m\u001b[1;33m,\u001b[0m \u001b[0mfeval\u001b[0m\u001b[1;33m=\u001b[0m\u001b[0mnmae_10\u001b[0m\u001b[1;33m)\u001b[0m\u001b[1;33m\u001b[0m\u001b[1;33m\u001b[0m\u001b[0m\n\u001b[0m\u001b[0;32m     22\u001b[0m \u001b[1;33m\u001b[0m\u001b[0m\n\u001b[0;32m     23\u001b[0m         \u001b[0mcv_score\u001b[0m \u001b[1;33m+=\u001b[0m \u001b[0msola_nmae\u001b[0m\u001b[1;33m(\u001b[0m\u001b[0mval_y\u001b[0m\u001b[1;33m,\u001b[0m \u001b[0mmodel\u001b[0m\u001b[1;33m.\u001b[0m\u001b[0mpredict\u001b[0m\u001b[1;33m(\u001b[0m\u001b[0mval_x\u001b[0m\u001b[1;33m)\u001b[0m\u001b[1;33m)\u001b[0m\u001b[1;33m\u001b[0m\u001b[1;33m\u001b[0m\u001b[0m\n",
      "\u001b[1;32mD:\\Anaconda\\envs\\data_engeneering\\lib\\site-packages\\lightgbm\\engine.py\u001b[0m in \u001b[0;36mtrain\u001b[1;34m(params, train_set, num_boost_round, valid_sets, valid_names, fobj, feval, init_model, feature_name, categorical_feature, early_stopping_rounds, evals_result, verbose_eval, learning_rates, keep_training_booster, callbacks)\u001b[0m\n\u001b[0;32m    247\u001b[0m                                     evaluation_result_list=None))\n\u001b[0;32m    248\u001b[0m \u001b[1;33m\u001b[0m\u001b[0m\n\u001b[1;32m--> 249\u001b[1;33m         \u001b[0mbooster\u001b[0m\u001b[1;33m.\u001b[0m\u001b[0mupdate\u001b[0m\u001b[1;33m(\u001b[0m\u001b[0mfobj\u001b[0m\u001b[1;33m=\u001b[0m\u001b[0mfobj\u001b[0m\u001b[1;33m)\u001b[0m\u001b[1;33m\u001b[0m\u001b[1;33m\u001b[0m\u001b[0m\n\u001b[0m\u001b[0;32m    250\u001b[0m \u001b[1;33m\u001b[0m\u001b[0m\n\u001b[0;32m    251\u001b[0m         \u001b[0mevaluation_result_list\u001b[0m \u001b[1;33m=\u001b[0m \u001b[1;33m[\u001b[0m\u001b[1;33m]\u001b[0m\u001b[1;33m\u001b[0m\u001b[1;33m\u001b[0m\u001b[0m\n",
      "\u001b[1;32mD:\\Anaconda\\envs\\data_engeneering\\lib\\site-packages\\lightgbm\\basic.py\u001b[0m in \u001b[0;36mupdate\u001b[1;34m(self, train_set, fobj)\u001b[0m\n\u001b[0;32m   2643\u001b[0m             _safe_call(_LIB.LGBM_BoosterUpdateOneIter(\n\u001b[0;32m   2644\u001b[0m                 \u001b[0mself\u001b[0m\u001b[1;33m.\u001b[0m\u001b[0mhandle\u001b[0m\u001b[1;33m,\u001b[0m\u001b[1;33m\u001b[0m\u001b[1;33m\u001b[0m\u001b[0m\n\u001b[1;32m-> 2645\u001b[1;33m                 ctypes.byref(is_finished)))\n\u001b[0m\u001b[0;32m   2646\u001b[0m             \u001b[0mself\u001b[0m\u001b[1;33m.\u001b[0m\u001b[0m__is_predicted_cur_iter\u001b[0m \u001b[1;33m=\u001b[0m \u001b[1;33m[\u001b[0m\u001b[1;32mFalse\u001b[0m \u001b[1;32mfor\u001b[0m \u001b[0m_\u001b[0m \u001b[1;32min\u001b[0m \u001b[0mrange\u001b[0m\u001b[1;33m(\u001b[0m\u001b[0mself\u001b[0m\u001b[1;33m.\u001b[0m\u001b[0m__num_dataset\u001b[0m\u001b[1;33m)\u001b[0m\u001b[1;33m]\u001b[0m\u001b[1;33m\u001b[0m\u001b[1;33m\u001b[0m\u001b[0m\n\u001b[0;32m   2647\u001b[0m             \u001b[1;32mreturn\u001b[0m \u001b[0mis_finished\u001b[0m\u001b[1;33m.\u001b[0m\u001b[0mvalue\u001b[0m \u001b[1;33m==\u001b[0m \u001b[1;36m1\u001b[0m\u001b[1;33m\u001b[0m\u001b[1;33m\u001b[0m\u001b[0m\n",
      "\u001b[1;31mKeyboardInterrupt\u001b[0m: "
     ]
    }
   ],
   "source": [
    "# 당진수상태양광 예측 모델 학습\n",
    "capacity = 1000\n",
    "dangjin_floating_pred = kfold_lgbm(params_floating, 5, energy, dangjin_fcst, dangjin_test, target='dangjin_floating')"
   ]
  },
  {
   "cell_type": "code",
   "execution_count": 51,
   "metadata": {
    "tags": []
   },
   "outputs": [],
   "source": [
    "# # 당진자재창고태양광 예측 모델 학습\n",
    "# capacity = 700\n",
    "# dangjin_warehouse_pred = kfold_lgbm(params_warehouse, 5, energy, dangjin_fcst, dangjin_test, target='dangjin_warehouse')"
   ]
  },
  {
   "cell_type": "code",
   "execution_count": 52,
   "metadata": {
    "tags": []
   },
   "outputs": [],
   "source": [
    "# # 당진태양광 예측 모델 학습\n",
    "# capacity = 1000\n",
    "# dangjin_pred = kfold_lgbm(params_dangjin, 5, energy, dangjin_fcst, dangjin_test, target='dangjin')"
   ]
  },
  {
   "cell_type": "code",
   "execution_count": 53,
   "metadata": {
    "tags": []
   },
   "outputs": [],
   "source": [
    "# # 울산태양광 예측 모델 학습\n",
    "# capacity = 500\n",
    "# ulsan_pred = kfold_lgbm(params_ulsan, 5, energy, ulsan_fcst, ulsan_test, target='ulsan')"
   ]
  },
  {
   "cell_type": "markdown",
   "metadata": {},
   "source": [
    "### private 예측 모델 학습"
   ]
  },
  {
   "cell_type": "code",
   "execution_count": 54,
   "metadata": {},
   "outputs": [],
   "source": [
    "def test_datast_private(fcst_df, latitude, longitude, timezone):\n",
    "    fcst_df['Forecast_time'] = fcst_df['Forecast_time'].astype(str)\n",
    "    fcst_df = transform_wind_to_vector(fcst_df)\n",
    "    fcst_df = transform_datetime_to_signal(fcst_df)\n",
    "    fcst_df = add_insolation(fcst_df, latitude, longitude, timezone)\n",
    "\n",
    "    test_df = fcst_df[[ #'year', 'month', 'day', 'hour', \n",
    "                        'Year sin', 'Year cos', 'Day sin', 'Day cos',\n",
    "                        'Temperature', 'Humidity', \n",
    "                        #'WindSpeed', 'WindDirection',\n",
    "                        'Wind_X', 'Wind_Y',\n",
    "                        'azimuth', 'elevation', 'insolation',\n",
    "                        'Cloud']]\n",
    "    \n",
    "    test_x = test_df.to_numpy()\n",
    "    \n",
    "    return test_x"
   ]
  },
  {
   "cell_type": "code",
   "execution_count": 55,
   "metadata": {},
   "outputs": [],
   "source": [
    "fcst_date = '2021-06-14'\n",
    "day_after = 5"
   ]
  },
  {
   "cell_type": "code",
   "execution_count": 56,
   "metadata": {},
   "outputs": [
    {
     "ename": "FileNotFoundError",
     "evalue": "[Errno 2] No such file or directory: 'private_test/ulsan_fcst_2021-06-14.csv'",
     "output_type": "error",
     "traceback": [
      "\u001b[1;31m---------------------------------------------------------------------------\u001b[0m",
      "\u001b[1;31mFileNotFoundError\u001b[0m                         Traceback (most recent call last)",
      "\u001b[1;32m<ipython-input-56-f228575b0218>\u001b[0m in \u001b[0;36m<module>\u001b[1;34m\u001b[0m\n\u001b[1;32m----> 1\u001b[1;33m \u001b[0mdangjin_fcst_priv\u001b[0m \u001b[1;33m=\u001b[0m \u001b[0mpd\u001b[0m\u001b[1;33m.\u001b[0m\u001b[0mread_csv\u001b[0m\u001b[1;33m(\u001b[0m\u001b[1;34mf'private_test/ulsan_fcst_{fcst_date}.csv'\u001b[0m\u001b[1;33m)\u001b[0m\u001b[1;33m\u001b[0m\u001b[1;33m\u001b[0m\u001b[0m\n\u001b[0m\u001b[0;32m      2\u001b[0m \u001b[0mulsan_fcst_priv\u001b[0m \u001b[1;33m=\u001b[0m \u001b[0mpd\u001b[0m\u001b[1;33m.\u001b[0m\u001b[0mread_csv\u001b[0m\u001b[1;33m(\u001b[0m\u001b[1;34mf'private_test/ulsan_fcst_{fcst_date}.csv'\u001b[0m\u001b[1;33m)\u001b[0m\u001b[1;33m\u001b[0m\u001b[1;33m\u001b[0m\u001b[0m\n",
      "\u001b[1;32mD:\\Anaconda\\envs\\data_engeneering\\lib\\site-packages\\pandas\\io\\parsers.py\u001b[0m in \u001b[0;36mread_csv\u001b[1;34m(filepath_or_buffer, sep, delimiter, header, names, index_col, usecols, squeeze, prefix, mangle_dupe_cols, dtype, engine, converters, true_values, false_values, skipinitialspace, skiprows, skipfooter, nrows, na_values, keep_default_na, na_filter, verbose, skip_blank_lines, parse_dates, infer_datetime_format, keep_date_col, date_parser, dayfirst, cache_dates, iterator, chunksize, compression, thousands, decimal, lineterminator, quotechar, quoting, doublequote, escapechar, comment, encoding, dialect, error_bad_lines, warn_bad_lines, delim_whitespace, low_memory, memory_map, float_precision, storage_options)\u001b[0m\n\u001b[0;32m    608\u001b[0m     \u001b[0mkwds\u001b[0m\u001b[1;33m.\u001b[0m\u001b[0mupdate\u001b[0m\u001b[1;33m(\u001b[0m\u001b[0mkwds_defaults\u001b[0m\u001b[1;33m)\u001b[0m\u001b[1;33m\u001b[0m\u001b[1;33m\u001b[0m\u001b[0m\n\u001b[0;32m    609\u001b[0m \u001b[1;33m\u001b[0m\u001b[0m\n\u001b[1;32m--> 610\u001b[1;33m     \u001b[1;32mreturn\u001b[0m \u001b[0m_read\u001b[0m\u001b[1;33m(\u001b[0m\u001b[0mfilepath_or_buffer\u001b[0m\u001b[1;33m,\u001b[0m \u001b[0mkwds\u001b[0m\u001b[1;33m)\u001b[0m\u001b[1;33m\u001b[0m\u001b[1;33m\u001b[0m\u001b[0m\n\u001b[0m\u001b[0;32m    611\u001b[0m \u001b[1;33m\u001b[0m\u001b[0m\n\u001b[0;32m    612\u001b[0m \u001b[1;33m\u001b[0m\u001b[0m\n",
      "\u001b[1;32mD:\\Anaconda\\envs\\data_engeneering\\lib\\site-packages\\pandas\\io\\parsers.py\u001b[0m in \u001b[0;36m_read\u001b[1;34m(filepath_or_buffer, kwds)\u001b[0m\n\u001b[0;32m    460\u001b[0m \u001b[1;33m\u001b[0m\u001b[0m\n\u001b[0;32m    461\u001b[0m     \u001b[1;31m# Create the parser.\u001b[0m\u001b[1;33m\u001b[0m\u001b[1;33m\u001b[0m\u001b[1;33m\u001b[0m\u001b[0m\n\u001b[1;32m--> 462\u001b[1;33m     \u001b[0mparser\u001b[0m \u001b[1;33m=\u001b[0m \u001b[0mTextFileReader\u001b[0m\u001b[1;33m(\u001b[0m\u001b[0mfilepath_or_buffer\u001b[0m\u001b[1;33m,\u001b[0m \u001b[1;33m**\u001b[0m\u001b[0mkwds\u001b[0m\u001b[1;33m)\u001b[0m\u001b[1;33m\u001b[0m\u001b[1;33m\u001b[0m\u001b[0m\n\u001b[0m\u001b[0;32m    463\u001b[0m \u001b[1;33m\u001b[0m\u001b[0m\n\u001b[0;32m    464\u001b[0m     \u001b[1;32mif\u001b[0m \u001b[0mchunksize\u001b[0m \u001b[1;32mor\u001b[0m \u001b[0miterator\u001b[0m\u001b[1;33m:\u001b[0m\u001b[1;33m\u001b[0m\u001b[1;33m\u001b[0m\u001b[0m\n",
      "\u001b[1;32mD:\\Anaconda\\envs\\data_engeneering\\lib\\site-packages\\pandas\\io\\parsers.py\u001b[0m in \u001b[0;36m__init__\u001b[1;34m(self, f, engine, **kwds)\u001b[0m\n\u001b[0;32m    817\u001b[0m             \u001b[0mself\u001b[0m\u001b[1;33m.\u001b[0m\u001b[0moptions\u001b[0m\u001b[1;33m[\u001b[0m\u001b[1;34m\"has_index_names\"\u001b[0m\u001b[1;33m]\u001b[0m \u001b[1;33m=\u001b[0m \u001b[0mkwds\u001b[0m\u001b[1;33m[\u001b[0m\u001b[1;34m\"has_index_names\"\u001b[0m\u001b[1;33m]\u001b[0m\u001b[1;33m\u001b[0m\u001b[1;33m\u001b[0m\u001b[0m\n\u001b[0;32m    818\u001b[0m \u001b[1;33m\u001b[0m\u001b[0m\n\u001b[1;32m--> 819\u001b[1;33m         \u001b[0mself\u001b[0m\u001b[1;33m.\u001b[0m\u001b[0m_engine\u001b[0m \u001b[1;33m=\u001b[0m \u001b[0mself\u001b[0m\u001b[1;33m.\u001b[0m\u001b[0m_make_engine\u001b[0m\u001b[1;33m(\u001b[0m\u001b[0mself\u001b[0m\u001b[1;33m.\u001b[0m\u001b[0mengine\u001b[0m\u001b[1;33m)\u001b[0m\u001b[1;33m\u001b[0m\u001b[1;33m\u001b[0m\u001b[0m\n\u001b[0m\u001b[0;32m    820\u001b[0m \u001b[1;33m\u001b[0m\u001b[0m\n\u001b[0;32m    821\u001b[0m     \u001b[1;32mdef\u001b[0m \u001b[0mclose\u001b[0m\u001b[1;33m(\u001b[0m\u001b[0mself\u001b[0m\u001b[1;33m)\u001b[0m\u001b[1;33m:\u001b[0m\u001b[1;33m\u001b[0m\u001b[1;33m\u001b[0m\u001b[0m\n",
      "\u001b[1;32mD:\\Anaconda\\envs\\data_engeneering\\lib\\site-packages\\pandas\\io\\parsers.py\u001b[0m in \u001b[0;36m_make_engine\u001b[1;34m(self, engine)\u001b[0m\n\u001b[0;32m   1048\u001b[0m             )\n\u001b[0;32m   1049\u001b[0m         \u001b[1;31m# error: Too many arguments for \"ParserBase\"\u001b[0m\u001b[1;33m\u001b[0m\u001b[1;33m\u001b[0m\u001b[1;33m\u001b[0m\u001b[0m\n\u001b[1;32m-> 1050\u001b[1;33m         \u001b[1;32mreturn\u001b[0m \u001b[0mmapping\u001b[0m\u001b[1;33m[\u001b[0m\u001b[0mengine\u001b[0m\u001b[1;33m]\u001b[0m\u001b[1;33m(\u001b[0m\u001b[0mself\u001b[0m\u001b[1;33m.\u001b[0m\u001b[0mf\u001b[0m\u001b[1;33m,\u001b[0m \u001b[1;33m**\u001b[0m\u001b[0mself\u001b[0m\u001b[1;33m.\u001b[0m\u001b[0moptions\u001b[0m\u001b[1;33m)\u001b[0m  \u001b[1;31m# type: ignore[call-arg]\u001b[0m\u001b[1;33m\u001b[0m\u001b[1;33m\u001b[0m\u001b[0m\n\u001b[0m\u001b[0;32m   1051\u001b[0m \u001b[1;33m\u001b[0m\u001b[0m\n\u001b[0;32m   1052\u001b[0m     \u001b[1;32mdef\u001b[0m \u001b[0m_failover_to_python\u001b[0m\u001b[1;33m(\u001b[0m\u001b[0mself\u001b[0m\u001b[1;33m)\u001b[0m\u001b[1;33m:\u001b[0m\u001b[1;33m\u001b[0m\u001b[1;33m\u001b[0m\u001b[0m\n",
      "\u001b[1;32mD:\\Anaconda\\envs\\data_engeneering\\lib\\site-packages\\pandas\\io\\parsers.py\u001b[0m in \u001b[0;36m__init__\u001b[1;34m(self, src, **kwds)\u001b[0m\n\u001b[0;32m   1865\u001b[0m \u001b[1;33m\u001b[0m\u001b[0m\n\u001b[0;32m   1866\u001b[0m         \u001b[1;31m# open handles\u001b[0m\u001b[1;33m\u001b[0m\u001b[1;33m\u001b[0m\u001b[1;33m\u001b[0m\u001b[0m\n\u001b[1;32m-> 1867\u001b[1;33m         \u001b[0mself\u001b[0m\u001b[1;33m.\u001b[0m\u001b[0m_open_handles\u001b[0m\u001b[1;33m(\u001b[0m\u001b[0msrc\u001b[0m\u001b[1;33m,\u001b[0m \u001b[0mkwds\u001b[0m\u001b[1;33m)\u001b[0m\u001b[1;33m\u001b[0m\u001b[1;33m\u001b[0m\u001b[0m\n\u001b[0m\u001b[0;32m   1868\u001b[0m         \u001b[1;32massert\u001b[0m \u001b[0mself\u001b[0m\u001b[1;33m.\u001b[0m\u001b[0mhandles\u001b[0m \u001b[1;32mis\u001b[0m \u001b[1;32mnot\u001b[0m \u001b[1;32mNone\u001b[0m\u001b[1;33m\u001b[0m\u001b[1;33m\u001b[0m\u001b[0m\n\u001b[0;32m   1869\u001b[0m         \u001b[1;32mfor\u001b[0m \u001b[0mkey\u001b[0m \u001b[1;32min\u001b[0m \u001b[1;33m(\u001b[0m\u001b[1;34m\"storage_options\"\u001b[0m\u001b[1;33m,\u001b[0m \u001b[1;34m\"encoding\"\u001b[0m\u001b[1;33m,\u001b[0m \u001b[1;34m\"memory_map\"\u001b[0m\u001b[1;33m,\u001b[0m \u001b[1;34m\"compression\"\u001b[0m\u001b[1;33m)\u001b[0m\u001b[1;33m:\u001b[0m\u001b[1;33m\u001b[0m\u001b[1;33m\u001b[0m\u001b[0m\n",
      "\u001b[1;32mD:\\Anaconda\\envs\\data_engeneering\\lib\\site-packages\\pandas\\io\\parsers.py\u001b[0m in \u001b[0;36m_open_handles\u001b[1;34m(self, src, kwds)\u001b[0m\n\u001b[0;32m   1366\u001b[0m             \u001b[0mcompression\u001b[0m\u001b[1;33m=\u001b[0m\u001b[0mkwds\u001b[0m\u001b[1;33m.\u001b[0m\u001b[0mget\u001b[0m\u001b[1;33m(\u001b[0m\u001b[1;34m\"compression\"\u001b[0m\u001b[1;33m,\u001b[0m \u001b[1;32mNone\u001b[0m\u001b[1;33m)\u001b[0m\u001b[1;33m,\u001b[0m\u001b[1;33m\u001b[0m\u001b[1;33m\u001b[0m\u001b[0m\n\u001b[0;32m   1367\u001b[0m             \u001b[0mmemory_map\u001b[0m\u001b[1;33m=\u001b[0m\u001b[0mkwds\u001b[0m\u001b[1;33m.\u001b[0m\u001b[0mget\u001b[0m\u001b[1;33m(\u001b[0m\u001b[1;34m\"memory_map\"\u001b[0m\u001b[1;33m,\u001b[0m \u001b[1;32mFalse\u001b[0m\u001b[1;33m)\u001b[0m\u001b[1;33m,\u001b[0m\u001b[1;33m\u001b[0m\u001b[1;33m\u001b[0m\u001b[0m\n\u001b[1;32m-> 1368\u001b[1;33m             \u001b[0mstorage_options\u001b[0m\u001b[1;33m=\u001b[0m\u001b[0mkwds\u001b[0m\u001b[1;33m.\u001b[0m\u001b[0mget\u001b[0m\u001b[1;33m(\u001b[0m\u001b[1;34m\"storage_options\"\u001b[0m\u001b[1;33m,\u001b[0m \u001b[1;32mNone\u001b[0m\u001b[1;33m)\u001b[0m\u001b[1;33m,\u001b[0m\u001b[1;33m\u001b[0m\u001b[1;33m\u001b[0m\u001b[0m\n\u001b[0m\u001b[0;32m   1369\u001b[0m         )\n\u001b[0;32m   1370\u001b[0m \u001b[1;33m\u001b[0m\u001b[0m\n",
      "\u001b[1;32mD:\\Anaconda\\envs\\data_engeneering\\lib\\site-packages\\pandas\\io\\common.py\u001b[0m in \u001b[0;36mget_handle\u001b[1;34m(path_or_buf, mode, encoding, compression, memory_map, is_text, errors, storage_options)\u001b[0m\n\u001b[0;32m    645\u001b[0m                 \u001b[0mencoding\u001b[0m\u001b[1;33m=\u001b[0m\u001b[0mioargs\u001b[0m\u001b[1;33m.\u001b[0m\u001b[0mencoding\u001b[0m\u001b[1;33m,\u001b[0m\u001b[1;33m\u001b[0m\u001b[1;33m\u001b[0m\u001b[0m\n\u001b[0;32m    646\u001b[0m                 \u001b[0merrors\u001b[0m\u001b[1;33m=\u001b[0m\u001b[0merrors\u001b[0m\u001b[1;33m,\u001b[0m\u001b[1;33m\u001b[0m\u001b[1;33m\u001b[0m\u001b[0m\n\u001b[1;32m--> 647\u001b[1;33m                 \u001b[0mnewline\u001b[0m\u001b[1;33m=\u001b[0m\u001b[1;34m\"\"\u001b[0m\u001b[1;33m,\u001b[0m\u001b[1;33m\u001b[0m\u001b[1;33m\u001b[0m\u001b[0m\n\u001b[0m\u001b[0;32m    648\u001b[0m             )\n\u001b[0;32m    649\u001b[0m         \u001b[1;32melse\u001b[0m\u001b[1;33m:\u001b[0m\u001b[1;33m\u001b[0m\u001b[1;33m\u001b[0m\u001b[0m\n",
      "\u001b[1;31mFileNotFoundError\u001b[0m: [Errno 2] No such file or directory: 'private_test/ulsan_fcst_2021-06-14.csv'"
     ]
    }
   ],
   "source": [
    "dangjin_fcst_priv = pd.read_csv(f'private_test/ulsan_fcst_{fcst_date}.csv')\n",
    "ulsan_fcst_priv = pd.read_csv(f'private_test/ulsan_fcst_{fcst_date}.csv')"
   ]
  },
  {
   "cell_type": "code",
   "execution_count": null,
   "metadata": {},
   "outputs": [],
   "source": [
    "dangjin_test_priv = test_datast_private(dangjin_fcst_priv, dangjin_latitude, dangjin_longitude, timezone)\n",
    "ulsan_test_priv = test_datast_private(ulsan_fcst_priv, ulsan_latitude, ulsan_longitude, timezone)"
   ]
  },
  {
   "cell_type": "code",
   "execution_count": null,
   "metadata": {
    "scrolled": true
   },
   "outputs": [],
   "source": [
    "# 당진수상태양광 예측 모델 학습\n",
    "capacity = 1000\n",
    "dangjin_floating_pred_priv = kfold_lgbm(params_floating, 20, energy, dangjin_fcst, dangjin_test_priv, target='dangjin_floating')"
   ]
  },
  {
   "cell_type": "code",
   "execution_count": null,
   "metadata": {
    "scrolled": true
   },
   "outputs": [],
   "source": [
    "# 당진자재창고태양광 예측 모델 학습\n",
    "capacity = 700\n",
    "dangjin_warehouse_pred_priv = kfold_lgbm(params_warehouse, 20, energy, dangjin_fcst, dangjin_test_priv, target='dangjin_warehouse')"
   ]
  },
  {
   "cell_type": "code",
   "execution_count": null,
   "metadata": {
    "scrolled": true
   },
   "outputs": [],
   "source": [
    "# 당진태양광 예측 모델 학습\n",
    "capacity = 1000\n",
    "dangjin_pred_priv = kfold_lgbm(params_dangjin, 20, energy, dangjin_fcst, dangjin_test_priv, target='dangjin')"
   ]
  },
  {
   "cell_type": "code",
   "execution_count": null,
   "metadata": {
    "scrolled": true
   },
   "outputs": [],
   "source": [
    "# 울산태양광 예측 모델 학습\n",
    "capacity = 500\n",
    "ulsan_pred_priv = kfold_lgbm(params_ulsan, 20, energy, ulsan_fcst, ulsan_test_priv, target='ulsan')"
   ]
  },
  {
   "cell_type": "markdown",
   "metadata": {},
   "source": [
    "## 각 발전소 발전량 추론"
   ]
  },
  {
   "cell_type": "code",
   "execution_count": null,
   "metadata": {},
   "outputs": [],
   "source": [
    "# plt.figure(figsize=(20,5))\n",
    "# plt.plot(dangjin_floating_pred, label = 'dangjin_floating_pred')\n",
    "# plt.plot(dangjin_warehouse_pred, label = 'dangjin_warehouse_pred')\n",
    "# plt.plot(dangjin_pred, label = 'dangjin_pred')\n",
    "# plt.plot(ulsan_pred, label = 'ulsan_pred')\n",
    "# plt.legend()\n",
    "# plt.show()"
   ]
  },
  {
   "cell_type": "code",
   "execution_count": null,
   "metadata": {},
   "outputs": [],
   "source": [
    "plt.figure(figsize=(12,5))\n",
    "plt.plot(dangjin_floating_pred_priv, label = 'dangjin_floating_pred')\n",
    "plt.plot(dangjin_warehouse_pred_priv, label = 'dangjin_warehouse_pred')\n",
    "plt.plot(dangjin_pred_priv, label = 'dangjin_pred')\n",
    "plt.plot(ulsan_pred_priv, label = 'ulsan_pred')\n",
    "plt.legend()\n",
    "plt.show()"
   ]
  },
  {
   "cell_type": "markdown",
   "metadata": {},
   "source": [
    "## 제출"
   ]
  },
  {
   "cell_type": "code",
   "execution_count": null,
   "metadata": {},
   "outputs": [],
   "source": [
    "# submission = pd.read_csv('data/sample_submission.csv')"
   ]
  },
  {
   "cell_type": "code",
   "execution_count": null,
   "metadata": {},
   "outputs": [],
   "source": [
    "# submission.iloc[:24*28, 1] = dangjin_floating_pred\n",
    "# submission.iloc[:24*28, 2] = dangjin_warehouse_pred\n",
    "# submission.iloc[:24*28, 3] = dangjin_pred\n",
    "# submission.iloc[:24*28, 4] = ulsan_pred"
   ]
  },
  {
   "cell_type": "code",
   "execution_count": null,
   "metadata": {},
   "outputs": [],
   "source": [
    "# submission"
   ]
  },
  {
   "cell_type": "code",
   "execution_count": null,
   "metadata": {},
   "outputs": [],
   "source": [
    "# submission.to_csv('final_submission.csv', index=False)"
   ]
  },
  {
   "cell_type": "code",
   "execution_count": null,
   "metadata": {},
   "outputs": [],
   "source": [
    "submission_priv = pd.read_csv('final_submission.csv')"
   ]
  },
  {
   "cell_type": "code",
   "execution_count": null,
   "metadata": {},
   "outputs": [],
   "source": [
    "submission_priv.iloc[24*(28+day_after):24*(28+day_after+1), 1] = dangjin_floating_pred_priv\n",
    "submission_priv.iloc[24*(28+day_after):24*(28+day_after+1), 2] = dangjin_warehouse_pred_priv\n",
    "submission_priv.iloc[24*(28+day_after):24*(28+day_after+1), 3] = dangjin_pred_priv\n",
    "submission_priv.iloc[24*(28+day_after):24*(28+day_after+1), 4] = ulsan_pred_priv"
   ]
  },
  {
   "cell_type": "code",
   "execution_count": null,
   "metadata": {},
   "outputs": [],
   "source": [
    "submission_priv[24*(28+day_after):24*(28+day_after+1)]"
   ]
  },
  {
   "cell_type": "code",
   "execution_count": null,
   "metadata": {},
   "outputs": [],
   "source": [
    "submission_priv.to_csv('final_submission.csv', index=False)"
   ]
  },
  {
   "cell_type": "code",
   "execution_count": null,
   "metadata": {},
   "outputs": [],
   "source": [
    "plt.figure(figsize=(20,5))\n",
    "plt.plot(dangjin_fcst['Insolation'] * 1000, label='Insolation')\n",
    "plt.plot(energy['dangjin_floating'], label='dangjin_floating')\n",
    "#plt.plot([declination(i/10) for i in range(3650)], label='true')\n",
    "plt.legend()\n",
    "plt.show()"
   ]
  },
  {
   "cell_type": "code",
   "execution_count": null,
   "metadata": {},
   "outputs": [],
   "source": [
    "# 일기 예보 있는 날짜만 선택\n",
    "energy_ = energy.loc[24:]\n",
    "energy_.index = range(energy_.shape[0])\n",
    "\n",
    "# 발전량 데이터가 있는 날짜만 선택\n",
    "dangjin_fcst_ = dangjin_fcst.loc[:25608-1]\n",
    "dangjin_fcst_.index = range(dangjin_fcst_.shape[0])\n",
    "\n",
    "# 예보 시간 및 날짜 정보 feature로 추가\n",
    "dangjin_fcst_['date'] = dangjin_fcst_['Forecast_time'].str.split(' ').str[0]\n",
    "dangjin_fcst_['hour'] = dangjin_fcst_['Forecast_time'].str.split(' ').str[1].str.split(':').str[0].astype(int)\n",
    "\n",
    "dangjin_fcst_['year'] = dangjin_fcst_['date'].str.split('-').str[0].astype(int)\n",
    "dangjin_fcst_['month'] = dangjin_fcst_['date'].str.split('-').str[1].astype(int)\n",
    "dangjin_fcst_['day'] = dangjin_fcst_['date'].str.split('-').str[2].astype(int)\n",
    "\n",
    "# 발전량과 일기예보 연결\n",
    "heat_df = pd.concat([energy_, dangjin_fcst_], axis=1)\n",
    "heat_df = heat_df[[ #'month', 'hour', 'day', 'hour',\n",
    "                    #'Year sin', 'Year cos', 'Day sin', 'Day cos',\n",
    "                    'Temperature', 'Humidity', \n",
    "#                     'WindSpeed', 'WindDirection',\n",
    "                    'Wind_X', 'Wind_Y',\n",
    "                    'Insolation',\n",
    "                    'Cloud',\n",
    "                    'dangjin']]"
   ]
  },
  {
   "cell_type": "code",
   "execution_count": null,
   "metadata": {},
   "outputs": [],
   "source": [
    "heat_corr = heat_df.corr()"
   ]
  },
  {
   "cell_type": "code",
   "execution_count": null,
   "metadata": {},
   "outputs": [],
   "source": [
    "plt.figure(figsize=(16,10))\n",
    "sns.heatmap(data = heat_corr, annot=True, fmt = '.2f')"
   ]
  },
  {
   "cell_type": "code",
   "execution_count": null,
   "metadata": {},
   "outputs": [],
   "source": []
  }
 ],
 "metadata": {
  "interpreter": {
   "hash": "62518700cf93673c8cb4cb3100bcc8a6d85e8aa1c62b2bcb4b999fd239a54dad"
  },
  "kernelspec": {
   "display_name": "data_engeneering",
   "language": "python",
   "name": "data_engeneering"
  },
  "language_info": {
   "codemirror_mode": {
    "name": "ipython",
    "version": 3
   },
   "file_extension": ".py",
   "mimetype": "text/x-python",
   "name": "python",
   "nbconvert_exporter": "python",
   "pygments_lexer": "ipython3",
   "version": "3.7.10"
  },
  "metadata": {
   "interpreter": {
    "hash": "62518700cf93673c8cb4cb3100bcc8a6d85e8aa1c62b2bcb4b999fd239a54dad"
   }
  }
 },
 "nbformat": 4,
 "nbformat_minor": 4
}
