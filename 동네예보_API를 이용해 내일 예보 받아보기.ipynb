{
 "cells": [
  {
   "cell_type": "markdown",
   "metadata": {},
   "source": [
    "# 공공데이터 포털 동네예보 API를 활용해 내일 기상 예보 받아보기\n",
    "\n",
    "공공데이터 포털 동네예보 API 바로가기 => https://data.go.kr/data/15057682/openapi.do\n",
    "\n",
    "API는 신청하여 인증키를 발급 받은 후 사용 가능합니다.\n",
    "\n",
    "자세한 사용법은 해당 페이지 '기상청18_동네예보 조회서비스_오픈API활용가이드.zip'를 통해 확인 가능합니다."
   ]
  },
  {
   "cell_type": "code",
   "execution_count": 1,
   "metadata": {},
   "outputs": [],
   "source": [
    "import pandas as pd\n",
    "import urllib\n",
    "import urllib.request\n",
    "import json"
   ]
  },
  {
   "cell_type": "markdown",
   "metadata": {},
   "source": [
    "API 사용 신청후 발급받은 일반 인증키(Decoding)를 ServiceKey.txt에 저장하여 불러왔습니다.\n",
    "\n",
    "인증키 확인 페이지 바로가기(신청 후 사용 가능) => https://data.go.kr/iim/api/selectAPIAcountView.do"
   ]
  },
  {
   "cell_type": "code",
   "execution_count": 2,
   "metadata": {},
   "outputs": [],
   "source": [
    "ServiceKey = open('API_key/ServiceKey.txt', 'r').read()"
   ]
  },
  {
   "cell_type": "code",
   "execution_count": 3,
   "metadata": {},
   "outputs": [
    {
     "output_type": "execute_result",
     "data": {
      "text/plain": [
       "'BBRcDz5+Ggw2/8yIMzcvvHJqWT4tDjkklzSz0GtgEkfby5SrFrCC9hkyo2y0bpEWjEKySRbU5WEA7Oo4meg07Q=='"
      ]
     },
     "metadata": {},
     "execution_count": 3
    }
   ],
   "source": [
    "ServiceKey"
   ]
  },
  {
   "cell_type": "code",
   "execution_count": 4,
   "metadata": {},
   "outputs": [],
   "source": [
    "base_date = '20210613'\n",
    "fcst_date = '2021-06-14'"
   ]
  },
  {
   "cell_type": "code",
   "execution_count": 5,
   "metadata": {},
   "outputs": [],
   "source": [
    "url = 'http://apis.data.go.kr/1360000/VilageFcstInfoService/getVilageFcst'\n",
    "\n",
    "queryParams = '?' + urllib.parse.urlencode(\n",
    "    {\n",
    "        urllib.parse.quote_plus('ServiceKey') : ServiceKey, # key를 바로 입력해도 됩니다.\n",
    "        urllib.parse.quote_plus('numOfRows') : '113', # 총 14개의 항목을 3시간 단위로 순차적으로 불러옵니다. 다음날 24시간예보에 필요한 만큼만 가져왔습니다.\n",
    "        urllib.parse.quote_plus('dataType') : 'JSON', # JSON, XML 두가지 포멧을 제공합니다.\n",
    "        urllib.parse.quote_plus('base_date') : base_date, # 예보 받을 날짜를 입력합니다. 최근 1일간의 자료만 제공합니다.\n",
    "        urllib.parse.quote_plus('base_time') : '1700', # 예보 시간을 입력. 2시부터 3시간 단위\n",
    "        urllib.parse.quote_plus('nx') : '102', # 울산 태양광 발전소 x 좌표\n",
    "        urllib.parse.quote_plus('ny') : '83' # 울산 태양광 발전소 y 좌표\n",
    "    }\n",
    ")\n",
    "# 35 114 석문면\n",
    "response = urllib.request.urlopen(url + queryParams).read()\n",
    "response = json.loads(response)"
   ]
  },
  {
   "cell_type": "code",
   "execution_count": 6,
   "metadata": {},
   "outputs": [
    {
     "output_type": "stream",
     "name": "stdout",
     "text": [
      "category:Humidity, REH baseTime: 1700 , fcstTime: 0000 , fcstValue: 85\ncategory:Cloud, SKY baseTime: 1700 , fcstTime: 0000 , fcstValue: 4\ncategory:Temperature, T3H baseTime: 1700 , fcstTime: 0000 , fcstValue: 22\ncategory:WindDirection, VEC baseTime: 1700 , fcstTime: 0000 , fcstValue: 180\ncategory:WindSpeed, WSD baseTime: 1700 , fcstTime: 0000 , fcstValue: 0.5 \n\ncategory:Humidity, REH baseTime: 1700 , fcstTime: 0300 , fcstValue: 90\ncategory:Cloud, SKY baseTime: 1700 , fcstTime: 0300 , fcstValue: 4\ncategory:Temperature, T3H baseTime: 1700 , fcstTime: 0300 , fcstValue: 22\ncategory:WindDirection, VEC baseTime: 1700 , fcstTime: 0300 , fcstValue: 34\ncategory:WindSpeed, WSD baseTime: 1700 , fcstTime: 0300 , fcstValue: 0.7 \n\ncategory:Humidity, REH baseTime: 1700 , fcstTime: 0600 , fcstValue: 90\ncategory:Cloud, SKY baseTime: 1700 , fcstTime: 0600 , fcstValue: 4\ncategory:Temperature, T3H baseTime: 1700 , fcstTime: 0600 , fcstValue: 22\ncategory:WindDirection, VEC baseTime: 1700 , fcstTime: 0600 , fcstValue: 40\ncategory:WindSpeed, WSD baseTime: 1700 , fcstTime: 0600 , fcstValue: 1.6 \n\ncategory:Humidity, REH baseTime: 1700 , fcstTime: 0900 , fcstValue: 80\ncategory:Cloud, SKY baseTime: 1700 , fcstTime: 0900 , fcstValue: 4\ncategory:Temperature, T3H baseTime: 1700 , fcstTime: 0900 , fcstValue: 23\ncategory:WindDirection, VEC baseTime: 1700 , fcstTime: 0900 , fcstValue: 39\ncategory:WindSpeed, WSD baseTime: 1700 , fcstTime: 0900 , fcstValue: 2.1 \n\ncategory:Humidity, REH baseTime: 1700 , fcstTime: 1200 , fcstValue: 70\ncategory:Cloud, SKY baseTime: 1700 , fcstTime: 1200 , fcstValue: 4\ncategory:Temperature, T3H baseTime: 1700 , fcstTime: 1200 , fcstValue: 25\ncategory:WindDirection, VEC baseTime: 1700 , fcstTime: 1200 , fcstValue: 43\ncategory:WindSpeed, WSD baseTime: 1700 , fcstTime: 1200 , fcstValue: 2.2 \n\ncategory:Humidity, REH baseTime: 1700 , fcstTime: 1500 , fcstValue: 75\ncategory:Cloud, SKY baseTime: 1700 , fcstTime: 1500 , fcstValue: 4\ncategory:Temperature, T3H baseTime: 1700 , fcstTime: 1500 , fcstValue: 24\ncategory:WindDirection, VEC baseTime: 1700 , fcstTime: 1500 , fcstValue: 52\ncategory:WindSpeed, WSD baseTime: 1700 , fcstTime: 1500 , fcstValue: 3.4 \n\ncategory:Humidity, REH baseTime: 1700 , fcstTime: 1800 , fcstValue: 80\ncategory:Cloud, SKY baseTime: 1700 , fcstTime: 1800 , fcstValue: 4\ncategory:Temperature, T3H baseTime: 1700 , fcstTime: 1800 , fcstValue: 23\ncategory:WindDirection, VEC baseTime: 1700 , fcstTime: 1800 , fcstValue: 44\ncategory:WindSpeed, WSD baseTime: 1700 , fcstTime: 1800 , fcstValue: 3.2 \n\ncategory:Humidity, REH baseTime: 1700 , fcstTime: 2100 , fcstValue: 85\ncategory:Cloud, SKY baseTime: 1700 , fcstTime: 2100 , fcstValue: 4\ncategory:Temperature, T3H baseTime: 1700 , fcstTime: 2100 , fcstValue: 22\ncategory:WindDirection, VEC baseTime: 1700 , fcstTime: 2100 , fcstValue: 45\ncategory:WindSpeed, WSD baseTime: 1700 , fcstTime: 2100 , fcstValue: 2.1 \n\ncategory:Humidity, REH baseTime: 1700 , fcstTime: 0000 , fcstValue: 90\ncategory:Cloud, SKY baseTime: 1700 , fcstTime: 0000 , fcstValue: 4\ncategory:Temperature, T3H baseTime: 1700 , fcstTime: 0000 , fcstValue: 22\ncategory:WindDirection, VEC baseTime: 1700 , fcstTime: 0000 , fcstValue: 56\ncategory:WindSpeed, WSD baseTime: 1700 , fcstTime: 0000 , fcstValue: 1.8 \n\ncategory:Humidity, REH baseTime: 1700 , fcstTime: 0300 , fcstValue: 90\ncategory:Cloud, SKY baseTime: 1700 , fcstTime: 0300 , fcstValue: 4\ncategory:Temperature, T3H baseTime: 1700 , fcstTime: 0300 , fcstValue: 21\ncategory:WindDirection, VEC baseTime: 1700 , fcstTime: 0300 , fcstValue: 53\ncategory:WindSpeed, WSD baseTime: 1700 , fcstTime: 0300 , fcstValue: 1.5 \n\n"
     ]
    }
   ],
   "source": [
    "fcst_df = pd.DataFrame()\n",
    "date = fcst_date\n",
    "fcst_df['Forecast_time'] = [f'{date} {hour}:00' for hour in range(24)]\n",
    "row_idx = 0\n",
    "\n",
    "for i, data in enumerate(response['response']['body']['items']['item']):\n",
    "    if i > 10:\n",
    "        if data['category']=='REH':\n",
    "            fcst_df.loc[row_idx, 'Humidity'] = float(data['fcstValue'])\n",
    "            print('category:Humidity,',data['category'], 'baseTime:',data['baseTime'], ', fcstTime:', data['fcstTime'], ', fcstValue:', data['fcstValue'])\n",
    "        elif data['category']=='T3H':\n",
    "            fcst_df.loc[row_idx, 'Temperature'] = float(data['fcstValue'])\n",
    "            print('category:Temperature,',data['category'], 'baseTime:',data['baseTime'], ', fcstTime:', data['fcstTime'], ', fcstValue:', data['fcstValue'])\n",
    "        elif data['category']=='SKY':\n",
    "            fcst_df.loc[row_idx, 'Cloud'] = float(data['fcstValue'])\n",
    "            print('category:Cloud,',data['category'], 'baseTime:',data['baseTime'], ', fcstTime:', data['fcstTime'], ', fcstValue:', data['fcstValue'])\n",
    "        elif data['category']=='VEC':\n",
    "            fcst_df.loc[row_idx, 'WindDirection'] = float(data['fcstValue'])\n",
    "            print('category:WindDirection,',data['category'], 'baseTime:',data['baseTime'], ', fcstTime:', data['fcstTime'], ', fcstValue:', data['fcstValue'])\n",
    "        elif data['category']=='WSD':\n",
    "            fcst_df.loc[row_idx, 'WindSpeed'] = float(data['fcstValue'])\n",
    "            print('category:WindSpeed,',data['category'], 'baseTime:',data['baseTime'], ', fcstTime:', data['fcstTime'], ', fcstValue:', data['fcstValue'], '\\n')\n",
    "            row_idx+=3"
   ]
  },
  {
   "cell_type": "markdown",
   "metadata": {},
   "source": [
    "예보를 한시간 단위로 선형보간합니다."
   ]
  },
  {
   "cell_type": "code",
   "execution_count": 7,
   "metadata": {},
   "outputs": [
    {
     "output_type": "execute_result",
     "data": {
      "text/plain": [
       "       Forecast_time   Humidity  Cloud  Temperature  WindDirection  WindSpeed\n",
       "0    2021-06-14 0:00  85.000000    4.0    22.000000     180.000000   0.500000\n",
       "1    2021-06-14 1:00  86.666667    4.0    22.000000     131.333333   0.566667\n",
       "2    2021-06-14 2:00  88.333333    4.0    22.000000      82.666667   0.633333\n",
       "3    2021-06-14 3:00  90.000000    4.0    22.000000      34.000000   0.700000\n",
       "4    2021-06-14 4:00  90.000000    4.0    22.000000      36.000000   1.000000\n",
       "5    2021-06-14 5:00  90.000000    4.0    22.000000      38.000000   1.300000\n",
       "6    2021-06-14 6:00  90.000000    4.0    22.000000      40.000000   1.600000\n",
       "7    2021-06-14 7:00  86.666667    4.0    22.333333      39.666667   1.766667\n",
       "8    2021-06-14 8:00  83.333333    4.0    22.666667      39.333333   1.933333\n",
       "9    2021-06-14 9:00  80.000000    4.0    23.000000      39.000000   2.100000\n",
       "10  2021-06-14 10:00  76.666667    4.0    23.666667      40.333333   2.133333\n",
       "11  2021-06-14 11:00  73.333333    4.0    24.333333      41.666667   2.166667\n",
       "12  2021-06-14 12:00  70.000000    4.0    25.000000      43.000000   2.200000\n",
       "13  2021-06-14 13:00  71.666667    4.0    24.666667      46.000000   2.600000\n",
       "14  2021-06-14 14:00  73.333333    4.0    24.333333      49.000000   3.000000\n",
       "15  2021-06-14 15:00  75.000000    4.0    24.000000      52.000000   3.400000\n",
       "16  2021-06-14 16:00  76.666667    4.0    23.666667      49.333333   3.333333\n",
       "17  2021-06-14 17:00  78.333333    4.0    23.333333      46.666667   3.266667\n",
       "18  2021-06-14 18:00  80.000000    4.0    23.000000      44.000000   3.200000\n",
       "19  2021-06-14 19:00  81.666667    4.0    22.666667      44.333333   2.833333\n",
       "20  2021-06-14 20:00  83.333333    4.0    22.333333      44.666667   2.466667\n",
       "21  2021-06-14 21:00  85.000000    4.0    22.000000      45.000000   2.100000\n",
       "22  2021-06-14 22:00  86.666667    4.0    22.000000      48.666667   2.000000\n",
       "23  2021-06-14 23:00  88.333333    4.0    22.000000      52.333333   1.900000"
      ],
      "text/html": "<div>\n<style scoped>\n    .dataframe tbody tr th:only-of-type {\n        vertical-align: middle;\n    }\n\n    .dataframe tbody tr th {\n        vertical-align: top;\n    }\n\n    .dataframe thead th {\n        text-align: right;\n    }\n</style>\n<table border=\"1\" class=\"dataframe\">\n  <thead>\n    <tr style=\"text-align: right;\">\n      <th></th>\n      <th>Forecast_time</th>\n      <th>Humidity</th>\n      <th>Cloud</th>\n      <th>Temperature</th>\n      <th>WindDirection</th>\n      <th>WindSpeed</th>\n    </tr>\n  </thead>\n  <tbody>\n    <tr>\n      <th>0</th>\n      <td>2021-06-14 0:00</td>\n      <td>85.000000</td>\n      <td>4.0</td>\n      <td>22.000000</td>\n      <td>180.000000</td>\n      <td>0.500000</td>\n    </tr>\n    <tr>\n      <th>1</th>\n      <td>2021-06-14 1:00</td>\n      <td>86.666667</td>\n      <td>4.0</td>\n      <td>22.000000</td>\n      <td>131.333333</td>\n      <td>0.566667</td>\n    </tr>\n    <tr>\n      <th>2</th>\n      <td>2021-06-14 2:00</td>\n      <td>88.333333</td>\n      <td>4.0</td>\n      <td>22.000000</td>\n      <td>82.666667</td>\n      <td>0.633333</td>\n    </tr>\n    <tr>\n      <th>3</th>\n      <td>2021-06-14 3:00</td>\n      <td>90.000000</td>\n      <td>4.0</td>\n      <td>22.000000</td>\n      <td>34.000000</td>\n      <td>0.700000</td>\n    </tr>\n    <tr>\n      <th>4</th>\n      <td>2021-06-14 4:00</td>\n      <td>90.000000</td>\n      <td>4.0</td>\n      <td>22.000000</td>\n      <td>36.000000</td>\n      <td>1.000000</td>\n    </tr>\n    <tr>\n      <th>5</th>\n      <td>2021-06-14 5:00</td>\n      <td>90.000000</td>\n      <td>4.0</td>\n      <td>22.000000</td>\n      <td>38.000000</td>\n      <td>1.300000</td>\n    </tr>\n    <tr>\n      <th>6</th>\n      <td>2021-06-14 6:00</td>\n      <td>90.000000</td>\n      <td>4.0</td>\n      <td>22.000000</td>\n      <td>40.000000</td>\n      <td>1.600000</td>\n    </tr>\n    <tr>\n      <th>7</th>\n      <td>2021-06-14 7:00</td>\n      <td>86.666667</td>\n      <td>4.0</td>\n      <td>22.333333</td>\n      <td>39.666667</td>\n      <td>1.766667</td>\n    </tr>\n    <tr>\n      <th>8</th>\n      <td>2021-06-14 8:00</td>\n      <td>83.333333</td>\n      <td>4.0</td>\n      <td>22.666667</td>\n      <td>39.333333</td>\n      <td>1.933333</td>\n    </tr>\n    <tr>\n      <th>9</th>\n      <td>2021-06-14 9:00</td>\n      <td>80.000000</td>\n      <td>4.0</td>\n      <td>23.000000</td>\n      <td>39.000000</td>\n      <td>2.100000</td>\n    </tr>\n    <tr>\n      <th>10</th>\n      <td>2021-06-14 10:00</td>\n      <td>76.666667</td>\n      <td>4.0</td>\n      <td>23.666667</td>\n      <td>40.333333</td>\n      <td>2.133333</td>\n    </tr>\n    <tr>\n      <th>11</th>\n      <td>2021-06-14 11:00</td>\n      <td>73.333333</td>\n      <td>4.0</td>\n      <td>24.333333</td>\n      <td>41.666667</td>\n      <td>2.166667</td>\n    </tr>\n    <tr>\n      <th>12</th>\n      <td>2021-06-14 12:00</td>\n      <td>70.000000</td>\n      <td>4.0</td>\n      <td>25.000000</td>\n      <td>43.000000</td>\n      <td>2.200000</td>\n    </tr>\n    <tr>\n      <th>13</th>\n      <td>2021-06-14 13:00</td>\n      <td>71.666667</td>\n      <td>4.0</td>\n      <td>24.666667</td>\n      <td>46.000000</td>\n      <td>2.600000</td>\n    </tr>\n    <tr>\n      <th>14</th>\n      <td>2021-06-14 14:00</td>\n      <td>73.333333</td>\n      <td>4.0</td>\n      <td>24.333333</td>\n      <td>49.000000</td>\n      <td>3.000000</td>\n    </tr>\n    <tr>\n      <th>15</th>\n      <td>2021-06-14 15:00</td>\n      <td>75.000000</td>\n      <td>4.0</td>\n      <td>24.000000</td>\n      <td>52.000000</td>\n      <td>3.400000</td>\n    </tr>\n    <tr>\n      <th>16</th>\n      <td>2021-06-14 16:00</td>\n      <td>76.666667</td>\n      <td>4.0</td>\n      <td>23.666667</td>\n      <td>49.333333</td>\n      <td>3.333333</td>\n    </tr>\n    <tr>\n      <th>17</th>\n      <td>2021-06-14 17:00</td>\n      <td>78.333333</td>\n      <td>4.0</td>\n      <td>23.333333</td>\n      <td>46.666667</td>\n      <td>3.266667</td>\n    </tr>\n    <tr>\n      <th>18</th>\n      <td>2021-06-14 18:00</td>\n      <td>80.000000</td>\n      <td>4.0</td>\n      <td>23.000000</td>\n      <td>44.000000</td>\n      <td>3.200000</td>\n    </tr>\n    <tr>\n      <th>19</th>\n      <td>2021-06-14 19:00</td>\n      <td>81.666667</td>\n      <td>4.0</td>\n      <td>22.666667</td>\n      <td>44.333333</td>\n      <td>2.833333</td>\n    </tr>\n    <tr>\n      <th>20</th>\n      <td>2021-06-14 20:00</td>\n      <td>83.333333</td>\n      <td>4.0</td>\n      <td>22.333333</td>\n      <td>44.666667</td>\n      <td>2.466667</td>\n    </tr>\n    <tr>\n      <th>21</th>\n      <td>2021-06-14 21:00</td>\n      <td>85.000000</td>\n      <td>4.0</td>\n      <td>22.000000</td>\n      <td>45.000000</td>\n      <td>2.100000</td>\n    </tr>\n    <tr>\n      <th>22</th>\n      <td>2021-06-14 22:00</td>\n      <td>86.666667</td>\n      <td>4.0</td>\n      <td>22.000000</td>\n      <td>48.666667</td>\n      <td>2.000000</td>\n    </tr>\n    <tr>\n      <th>23</th>\n      <td>2021-06-14 23:00</td>\n      <td>88.333333</td>\n      <td>4.0</td>\n      <td>22.000000</td>\n      <td>52.333333</td>\n      <td>1.900000</td>\n    </tr>\n  </tbody>\n</table>\n</div>"
     },
     "metadata": {},
     "execution_count": 7
    }
   ],
   "source": [
    "fcst_df = fcst_df.interpolate()\n",
    "fcst_df = fcst_df.iloc[:24]\n",
    "fcst_df"
   ]
  },
  {
   "cell_type": "code",
   "execution_count": 8,
   "metadata": {},
   "outputs": [],
   "source": [
    "fcst_df.to_csv(f\"private_test/ulsan_fcst_{fcst_date}.csv\", index=False)"
   ]
  },
  {
   "cell_type": "code",
   "execution_count": 10,
   "metadata": {},
   "outputs": [],
   "source": [
    "queryParams = '?' + urllib.parse.urlencode(\n",
    "    {\n",
    "        urllib.parse.quote_plus('ServiceKey') : ServiceKey, # key를 바로 입력해도 됩니다.\n",
    "        urllib.parse.quote_plus('numOfRows') : '113', # 총 14개의 항목을 3시간 단위로 순차적으로 불러옵니다. 다음날 24시간예보에 필요한 만큼만 가져왔습니다.\n",
    "        urllib.parse.quote_plus('dataType') : 'JSON', # JSON, XML 두가지 포멧을 제공합니다.\n",
    "        urllib.parse.quote_plus('base_date') : base_date, # 예보 받을 날짜를 입력합니다. 최근 1일간의 자료만 제공합니다.\n",
    "        urllib.parse.quote_plus('base_time') : '1700', # 예보 시간을 입력. 2시부터 3시간 단위\n",
    "        urllib.parse.quote_plus('nx') : '35', # 당진 태양광 발전소 x 좌표\n",
    "        urllib.parse.quote_plus('ny') : '114' # 당진 태양광 발전소 y 좌표\n",
    "    }\n",
    ")\n",
    "response = urllib.request.urlopen(url + queryParams).read()\n",
    "response = json.loads(response)"
   ]
  },
  {
   "cell_type": "code",
   "execution_count": 11,
   "metadata": {},
   "outputs": [
    {
     "output_type": "stream",
     "name": "stdout",
     "text": [
      "category:Humidity, REH baseTime: 1700 , fcstTime: 0000 , fcstValue: 85\ncategory:Cloud, SKY baseTime: 1700 , fcstTime: 0000 , fcstValue: 1\ncategory:Temperature, T3H baseTime: 1700 , fcstTime: 0000 , fcstValue: 19\ncategory:WindDirection, VEC baseTime: 1700 , fcstTime: 0000 , fcstValue: 276\ncategory:WindSpeed, WSD baseTime: 1700 , fcstTime: 0000 , fcstValue: 1.8 \n\ncategory:Humidity, REH baseTime: 1700 , fcstTime: 0300 , fcstValue: 90\ncategory:Cloud, SKY baseTime: 1700 , fcstTime: 0300 , fcstValue: 1\ncategory:Temperature, T3H baseTime: 1700 , fcstTime: 0300 , fcstValue: 18\ncategory:WindDirection, VEC baseTime: 1700 , fcstTime: 0300 , fcstValue: 315\ncategory:WindSpeed, WSD baseTime: 1700 , fcstTime: 0300 , fcstValue: 2.1 \n\ncategory:Humidity, REH baseTime: 1700 , fcstTime: 0600 , fcstValue: 85\ncategory:Cloud, SKY baseTime: 1700 , fcstTime: 0600 , fcstValue: 1\ncategory:Temperature, T3H baseTime: 1700 , fcstTime: 0600 , fcstValue: 18\ncategory:WindDirection, VEC baseTime: 1700 , fcstTime: 0600 , fcstValue: 31\ncategory:WindSpeed, WSD baseTime: 1700 , fcstTime: 0600 , fcstValue: 0.6 \n\ncategory:Humidity, REH baseTime: 1700 , fcstTime: 0900 , fcstValue: 85\ncategory:Cloud, SKY baseTime: 1700 , fcstTime: 0900 , fcstValue: 3\ncategory:Temperature, T3H baseTime: 1700 , fcstTime: 0900 , fcstValue: 18\ncategory:WindDirection, VEC baseTime: 1700 , fcstTime: 0900 , fcstValue: 172\ncategory:WindSpeed, WSD baseTime: 1700 , fcstTime: 0900 , fcstValue: 2.2 \n\ncategory:Humidity, REH baseTime: 1700 , fcstTime: 1200 , fcstValue: 85\ncategory:Cloud, SKY baseTime: 1700 , fcstTime: 1200 , fcstValue: 3\ncategory:Temperature, T3H baseTime: 1700 , fcstTime: 1200 , fcstValue: 19\ncategory:WindDirection, VEC baseTime: 1700 , fcstTime: 1200 , fcstValue: 139\ncategory:WindSpeed, WSD baseTime: 1700 , fcstTime: 1200 , fcstValue: 2.3 \n\ncategory:Humidity, REH baseTime: 1700 , fcstTime: 1500 , fcstValue: 85\ncategory:Cloud, SKY baseTime: 1700 , fcstTime: 1500 , fcstValue: 1\ncategory:Temperature, T3H baseTime: 1700 , fcstTime: 1500 , fcstValue: 20\ncategory:WindDirection, VEC baseTime: 1700 , fcstTime: 1500 , fcstValue: 223\ncategory:WindSpeed, WSD baseTime: 1700 , fcstTime: 1500 , fcstValue: 1.9 \n\ncategory:Humidity, REH baseTime: 1700 , fcstTime: 1800 , fcstValue: 85\ncategory:Cloud, SKY baseTime: 1700 , fcstTime: 1800 , fcstValue: 1\ncategory:Temperature, T3H baseTime: 1700 , fcstTime: 1800 , fcstValue: 21\ncategory:WindDirection, VEC baseTime: 1700 , fcstTime: 1800 , fcstValue: 63\ncategory:WindSpeed, WSD baseTime: 1700 , fcstTime: 1800 , fcstValue: 0.7 \n\ncategory:Humidity, REH baseTime: 1700 , fcstTime: 2100 , fcstValue: 85\ncategory:Cloud, SKY baseTime: 1700 , fcstTime: 2100 , fcstValue: 3\ncategory:Temperature, T3H baseTime: 1700 , fcstTime: 2100 , fcstValue: 21\ncategory:WindDirection, VEC baseTime: 1700 , fcstTime: 2100 , fcstValue: 190\ncategory:WindSpeed, WSD baseTime: 1700 , fcstTime: 2100 , fcstValue: 2.2 \n\ncategory:Humidity, REH baseTime: 1700 , fcstTime: 0000 , fcstValue: 90\ncategory:Cloud, SKY baseTime: 1700 , fcstTime: 0000 , fcstValue: 3\ncategory:Temperature, T3H baseTime: 1700 , fcstTime: 0000 , fcstValue: 19\ncategory:WindDirection, VEC baseTime: 1700 , fcstTime: 0000 , fcstValue: 187\ncategory:WindSpeed, WSD baseTime: 1700 , fcstTime: 0000 , fcstValue: 3.4 \n\n"
     ]
    }
   ],
   "source": [
    "fcst_df = pd.DataFrame()\n",
    "date = fcst_date\n",
    "fcst_df['Forecast_time'] = [f'{date} {hour}:00' for hour in range(24)]\n",
    "row_idx = 0\n",
    "\n",
    "for i, data in enumerate(response['response']['body']['items']['item']):\n",
    "    if i > 10:\n",
    "        if data['category']=='REH':\n",
    "            fcst_df.loc[row_idx, 'Humidity'] = float(data['fcstValue'])\n",
    "            print('category:Humidity,',data['category'], 'baseTime:',data['baseTime'], ', fcstTime:', data['fcstTime'], ', fcstValue:', data['fcstValue'])\n",
    "        elif data['category']=='T3H':\n",
    "            fcst_df.loc[row_idx, 'Temperature'] = float(data['fcstValue'])\n",
    "            print('category:Temperature,',data['category'], 'baseTime:',data['baseTime'], ', fcstTime:', data['fcstTime'], ', fcstValue:', data['fcstValue'])\n",
    "        elif data['category']=='SKY':\n",
    "            fcst_df.loc[row_idx, 'Cloud'] = float(data['fcstValue'])\n",
    "            print('category:Cloud,',data['category'], 'baseTime:',data['baseTime'], ', fcstTime:', data['fcstTime'], ', fcstValue:', data['fcstValue'])\n",
    "        elif data['category']=='VEC':\n",
    "            fcst_df.loc[row_idx, 'WindDirection'] = float(data['fcstValue'])\n",
    "            print('category:WindDirection,',data['category'], 'baseTime:',data['baseTime'], ', fcstTime:', data['fcstTime'], ', fcstValue:', data['fcstValue'])\n",
    "        elif data['category']=='WSD':\n",
    "            fcst_df.loc[row_idx, 'WindSpeed'] = float(data['fcstValue'])\n",
    "            print('category:WindSpeed,',data['category'], 'baseTime:',data['baseTime'], ', fcstTime:', data['fcstTime'], ', fcstValue:', data['fcstValue'], '\\n')\n",
    "            row_idx+=3"
   ]
  },
  {
   "cell_type": "code",
   "execution_count": 12,
   "metadata": {},
   "outputs": [
    {
     "output_type": "execute_result",
     "data": {
      "text/plain": [
       "       Forecast_time   Humidity     Cloud  Temperature  WindDirection  \\\n",
       "0    2021-06-14 0:00  85.000000  1.000000    19.000000     276.000000   \n",
       "1    2021-06-14 1:00  86.666667  1.000000    18.666667     289.000000   \n",
       "2    2021-06-14 2:00  88.333333  1.000000    18.333333     302.000000   \n",
       "3    2021-06-14 3:00  90.000000  1.000000    18.000000     315.000000   \n",
       "4    2021-06-14 4:00  88.333333  1.000000    18.000000     220.333333   \n",
       "5    2021-06-14 5:00  86.666667  1.000000    18.000000     125.666667   \n",
       "6    2021-06-14 6:00  85.000000  1.000000    18.000000      31.000000   \n",
       "7    2021-06-14 7:00  85.000000  1.666667    18.000000      78.000000   \n",
       "8    2021-06-14 8:00  85.000000  2.333333    18.000000     125.000000   \n",
       "9    2021-06-14 9:00  85.000000  3.000000    18.000000     172.000000   \n",
       "10  2021-06-14 10:00  85.000000  3.000000    18.333333     161.000000   \n",
       "11  2021-06-14 11:00  85.000000  3.000000    18.666667     150.000000   \n",
       "12  2021-06-14 12:00  85.000000  3.000000    19.000000     139.000000   \n",
       "13  2021-06-14 13:00  85.000000  2.333333    19.333333     167.000000   \n",
       "14  2021-06-14 14:00  85.000000  1.666667    19.666667     195.000000   \n",
       "15  2021-06-14 15:00  85.000000  1.000000    20.000000     223.000000   \n",
       "16  2021-06-14 16:00  85.000000  1.000000    20.333333     169.666667   \n",
       "17  2021-06-14 17:00  85.000000  1.000000    20.666667     116.333333   \n",
       "18  2021-06-14 18:00  85.000000  1.000000    21.000000      63.000000   \n",
       "19  2021-06-14 19:00  85.000000  1.666667    21.000000     105.333333   \n",
       "20  2021-06-14 20:00  85.000000  2.333333    21.000000     147.666667   \n",
       "21  2021-06-14 21:00  85.000000  3.000000    21.000000     190.000000   \n",
       "22  2021-06-14 22:00  86.666667  3.000000    20.333333     189.000000   \n",
       "23  2021-06-14 23:00  88.333333  3.000000    19.666667     188.000000   \n",
       "\n",
       "    WindSpeed  \n",
       "0    1.800000  \n",
       "1    1.900000  \n",
       "2    2.000000  \n",
       "3    2.100000  \n",
       "4    1.600000  \n",
       "5    1.100000  \n",
       "6    0.600000  \n",
       "7    1.133333  \n",
       "8    1.666667  \n",
       "9    2.200000  \n",
       "10   2.233333  \n",
       "11   2.266667  \n",
       "12   2.300000  \n",
       "13   2.166667  \n",
       "14   2.033333  \n",
       "15   1.900000  \n",
       "16   1.500000  \n",
       "17   1.100000  \n",
       "18   0.700000  \n",
       "19   1.200000  \n",
       "20   1.700000  \n",
       "21   2.200000  \n",
       "22   2.600000  \n",
       "23   3.000000  "
      ],
      "text/html": "<div>\n<style scoped>\n    .dataframe tbody tr th:only-of-type {\n        vertical-align: middle;\n    }\n\n    .dataframe tbody tr th {\n        vertical-align: top;\n    }\n\n    .dataframe thead th {\n        text-align: right;\n    }\n</style>\n<table border=\"1\" class=\"dataframe\">\n  <thead>\n    <tr style=\"text-align: right;\">\n      <th></th>\n      <th>Forecast_time</th>\n      <th>Humidity</th>\n      <th>Cloud</th>\n      <th>Temperature</th>\n      <th>WindDirection</th>\n      <th>WindSpeed</th>\n    </tr>\n  </thead>\n  <tbody>\n    <tr>\n      <th>0</th>\n      <td>2021-06-14 0:00</td>\n      <td>85.000000</td>\n      <td>1.000000</td>\n      <td>19.000000</td>\n      <td>276.000000</td>\n      <td>1.800000</td>\n    </tr>\n    <tr>\n      <th>1</th>\n      <td>2021-06-14 1:00</td>\n      <td>86.666667</td>\n      <td>1.000000</td>\n      <td>18.666667</td>\n      <td>289.000000</td>\n      <td>1.900000</td>\n    </tr>\n    <tr>\n      <th>2</th>\n      <td>2021-06-14 2:00</td>\n      <td>88.333333</td>\n      <td>1.000000</td>\n      <td>18.333333</td>\n      <td>302.000000</td>\n      <td>2.000000</td>\n    </tr>\n    <tr>\n      <th>3</th>\n      <td>2021-06-14 3:00</td>\n      <td>90.000000</td>\n      <td>1.000000</td>\n      <td>18.000000</td>\n      <td>315.000000</td>\n      <td>2.100000</td>\n    </tr>\n    <tr>\n      <th>4</th>\n      <td>2021-06-14 4:00</td>\n      <td>88.333333</td>\n      <td>1.000000</td>\n      <td>18.000000</td>\n      <td>220.333333</td>\n      <td>1.600000</td>\n    </tr>\n    <tr>\n      <th>5</th>\n      <td>2021-06-14 5:00</td>\n      <td>86.666667</td>\n      <td>1.000000</td>\n      <td>18.000000</td>\n      <td>125.666667</td>\n      <td>1.100000</td>\n    </tr>\n    <tr>\n      <th>6</th>\n      <td>2021-06-14 6:00</td>\n      <td>85.000000</td>\n      <td>1.000000</td>\n      <td>18.000000</td>\n      <td>31.000000</td>\n      <td>0.600000</td>\n    </tr>\n    <tr>\n      <th>7</th>\n      <td>2021-06-14 7:00</td>\n      <td>85.000000</td>\n      <td>1.666667</td>\n      <td>18.000000</td>\n      <td>78.000000</td>\n      <td>1.133333</td>\n    </tr>\n    <tr>\n      <th>8</th>\n      <td>2021-06-14 8:00</td>\n      <td>85.000000</td>\n      <td>2.333333</td>\n      <td>18.000000</td>\n      <td>125.000000</td>\n      <td>1.666667</td>\n    </tr>\n    <tr>\n      <th>9</th>\n      <td>2021-06-14 9:00</td>\n      <td>85.000000</td>\n      <td>3.000000</td>\n      <td>18.000000</td>\n      <td>172.000000</td>\n      <td>2.200000</td>\n    </tr>\n    <tr>\n      <th>10</th>\n      <td>2021-06-14 10:00</td>\n      <td>85.000000</td>\n      <td>3.000000</td>\n      <td>18.333333</td>\n      <td>161.000000</td>\n      <td>2.233333</td>\n    </tr>\n    <tr>\n      <th>11</th>\n      <td>2021-06-14 11:00</td>\n      <td>85.000000</td>\n      <td>3.000000</td>\n      <td>18.666667</td>\n      <td>150.000000</td>\n      <td>2.266667</td>\n    </tr>\n    <tr>\n      <th>12</th>\n      <td>2021-06-14 12:00</td>\n      <td>85.000000</td>\n      <td>3.000000</td>\n      <td>19.000000</td>\n      <td>139.000000</td>\n      <td>2.300000</td>\n    </tr>\n    <tr>\n      <th>13</th>\n      <td>2021-06-14 13:00</td>\n      <td>85.000000</td>\n      <td>2.333333</td>\n      <td>19.333333</td>\n      <td>167.000000</td>\n      <td>2.166667</td>\n    </tr>\n    <tr>\n      <th>14</th>\n      <td>2021-06-14 14:00</td>\n      <td>85.000000</td>\n      <td>1.666667</td>\n      <td>19.666667</td>\n      <td>195.000000</td>\n      <td>2.033333</td>\n    </tr>\n    <tr>\n      <th>15</th>\n      <td>2021-06-14 15:00</td>\n      <td>85.000000</td>\n      <td>1.000000</td>\n      <td>20.000000</td>\n      <td>223.000000</td>\n      <td>1.900000</td>\n    </tr>\n    <tr>\n      <th>16</th>\n      <td>2021-06-14 16:00</td>\n      <td>85.000000</td>\n      <td>1.000000</td>\n      <td>20.333333</td>\n      <td>169.666667</td>\n      <td>1.500000</td>\n    </tr>\n    <tr>\n      <th>17</th>\n      <td>2021-06-14 17:00</td>\n      <td>85.000000</td>\n      <td>1.000000</td>\n      <td>20.666667</td>\n      <td>116.333333</td>\n      <td>1.100000</td>\n    </tr>\n    <tr>\n      <th>18</th>\n      <td>2021-06-14 18:00</td>\n      <td>85.000000</td>\n      <td>1.000000</td>\n      <td>21.000000</td>\n      <td>63.000000</td>\n      <td>0.700000</td>\n    </tr>\n    <tr>\n      <th>19</th>\n      <td>2021-06-14 19:00</td>\n      <td>85.000000</td>\n      <td>1.666667</td>\n      <td>21.000000</td>\n      <td>105.333333</td>\n      <td>1.200000</td>\n    </tr>\n    <tr>\n      <th>20</th>\n      <td>2021-06-14 20:00</td>\n      <td>85.000000</td>\n      <td>2.333333</td>\n      <td>21.000000</td>\n      <td>147.666667</td>\n      <td>1.700000</td>\n    </tr>\n    <tr>\n      <th>21</th>\n      <td>2021-06-14 21:00</td>\n      <td>85.000000</td>\n      <td>3.000000</td>\n      <td>21.000000</td>\n      <td>190.000000</td>\n      <td>2.200000</td>\n    </tr>\n    <tr>\n      <th>22</th>\n      <td>2021-06-14 22:00</td>\n      <td>86.666667</td>\n      <td>3.000000</td>\n      <td>20.333333</td>\n      <td>189.000000</td>\n      <td>2.600000</td>\n    </tr>\n    <tr>\n      <th>23</th>\n      <td>2021-06-14 23:00</td>\n      <td>88.333333</td>\n      <td>3.000000</td>\n      <td>19.666667</td>\n      <td>188.000000</td>\n      <td>3.000000</td>\n    </tr>\n  </tbody>\n</table>\n</div>"
     },
     "metadata": {},
     "execution_count": 12
    }
   ],
   "source": [
    "fcst_df = fcst_df.interpolate()\n",
    "fcst_df = fcst_df.iloc[:24]\n",
    "fcst_df"
   ]
  },
  {
   "cell_type": "code",
   "execution_count": 13,
   "metadata": {},
   "outputs": [],
   "source": [
    "fcst_df.to_csv(f\"private_test/dangjin_fcst_{fcst_date}.csv\", index=False)"
   ]
  },
  {
   "cell_type": "code",
   "execution_count": null,
   "metadata": {},
   "outputs": [],
   "source": []
  }
 ],
 "metadata": {
  "kernelspec": {
   "name": "python3",
   "display_name": "Python 3.7.9 64-bit"
  },
  "language_info": {
   "codemirror_mode": {
    "name": "ipython",
    "version": 3
   },
   "file_extension": ".py",
   "mimetype": "text/x-python",
   "name": "python",
   "nbconvert_exporter": "python",
   "pygments_lexer": "ipython3",
   "version": "3.7.9"
  },
  "metadata": {
   "interpreter": {
    "hash": "62518700cf93673c8cb4cb3100bcc8a6d85e8aa1c62b2bcb4b999fd239a54dad"
   }
  },
  "interpreter": {
   "hash": "62518700cf93673c8cb4cb3100bcc8a6d85e8aa1c62b2bcb4b999fd239a54dad"
  }
 },
 "nbformat": 4,
 "nbformat_minor": 4
}