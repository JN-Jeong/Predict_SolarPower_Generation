{
 "cells": [
  {
   "cell_type": "markdown",
   "metadata": {},
   "source": [
    "## 사용할 패키지"
   ]
  },
  {
   "cell_type": "code",
   "execution_count": 1,
   "metadata": {},
   "outputs": [
    {
     "name": "stderr",
     "output_type": "stream",
     "text": [
      "In D:\\Anaconda\\envs\\data_engeneering\\lib\\site-packages\\matplotlib\\mpl-data\\stylelib\\_classic_test.mplstyle: \n",
      "The text.latex.preview rcparam was deprecated in Matplotlib 3.3 and will be removed two minor releases later.\n",
      "In D:\\Anaconda\\envs\\data_engeneering\\lib\\site-packages\\matplotlib\\mpl-data\\stylelib\\_classic_test.mplstyle: \n",
      "The mathtext.fallback_to_cm rcparam was deprecated in Matplotlib 3.3 and will be removed two minor releases later.\n",
      "In D:\\Anaconda\\envs\\data_engeneering\\lib\\site-packages\\matplotlib\\mpl-data\\stylelib\\_classic_test.mplstyle: Support for setting the 'mathtext.fallback_to_cm' rcParam is deprecated since 3.3 and will be removed two minor releases later; use 'mathtext.fallback : 'cm' instead.\n",
      "In D:\\Anaconda\\envs\\data_engeneering\\lib\\site-packages\\matplotlib\\mpl-data\\stylelib\\_classic_test.mplstyle: \n",
      "The validate_bool_maybe_none function was deprecated in Matplotlib 3.3 and will be removed two minor releases later.\n",
      "In D:\\Anaconda\\envs\\data_engeneering\\lib\\site-packages\\matplotlib\\mpl-data\\stylelib\\_classic_test.mplstyle: \n",
      "The savefig.jpeg_quality rcparam was deprecated in Matplotlib 3.3 and will be removed two minor releases later.\n",
      "In D:\\Anaconda\\envs\\data_engeneering\\lib\\site-packages\\matplotlib\\mpl-data\\stylelib\\_classic_test.mplstyle: \n",
      "The keymap.all_axes rcparam was deprecated in Matplotlib 3.3 and will be removed two minor releases later.\n",
      "In D:\\Anaconda\\envs\\data_engeneering\\lib\\site-packages\\matplotlib\\mpl-data\\stylelib\\_classic_test.mplstyle: \n",
      "The animation.avconv_path rcparam was deprecated in Matplotlib 3.3 and will be removed two minor releases later.\n",
      "In D:\\Anaconda\\envs\\data_engeneering\\lib\\site-packages\\matplotlib\\mpl-data\\stylelib\\_classic_test.mplstyle: \n",
      "The animation.avconv_args rcparam was deprecated in Matplotlib 3.3 and will be removed two minor releases later.\n"
     ]
    }
   ],
   "source": [
    "import pandas as pd\n",
    "import numpy as np\n",
    "import matplotlib.pyplot as plt\n",
    "import lightgbm as lgb"
   ]
  },
  {
   "cell_type": "markdown",
   "metadata": {},
   "source": [
    "## 데이터 불러오기"
   ]
  },
  {
   "cell_type": "code",
   "execution_count": 2,
   "metadata": {},
   "outputs": [],
   "source": [
    "energy = pd.read_csv('data/energy.csv')\n",
    "dangjin_fcst = pd.read_csv('./data/dangjin_fcst_data.csv')\n",
    "ulsan_fcst = pd.read_csv('./data/ulsan_fcst_data.csv')"
   ]
  },
  {
   "cell_type": "code",
   "execution_count": 3,
   "metadata": {},
   "outputs": [
    {
     "data": {
      "text/html": [
       "<div>\n",
       "<style scoped>\n",
       "    .dataframe tbody tr th:only-of-type {\n",
       "        vertical-align: middle;\n",
       "    }\n",
       "\n",
       "    .dataframe tbody tr th {\n",
       "        vertical-align: top;\n",
       "    }\n",
       "\n",
       "    .dataframe thead th {\n",
       "        text-align: right;\n",
       "    }\n",
       "</style>\n",
       "<table border=\"1\" class=\"dataframe\">\n",
       "  <thead>\n",
       "    <tr style=\"text-align: right;\">\n",
       "      <th></th>\n",
       "      <th>time</th>\n",
       "      <th>dangjin_floating</th>\n",
       "      <th>dangjin_warehouse</th>\n",
       "      <th>dangjin</th>\n",
       "      <th>ulsan</th>\n",
       "    </tr>\n",
       "  </thead>\n",
       "  <tbody>\n",
       "    <tr>\n",
       "      <th>0</th>\n",
       "      <td>2018-03-01 1:00:00</td>\n",
       "      <td>0.0</td>\n",
       "      <td>0.0</td>\n",
       "      <td>0</td>\n",
       "      <td>0</td>\n",
       "    </tr>\n",
       "    <tr>\n",
       "      <th>1</th>\n",
       "      <td>2018-03-01 2:00:00</td>\n",
       "      <td>0.0</td>\n",
       "      <td>0.0</td>\n",
       "      <td>0</td>\n",
       "      <td>0</td>\n",
       "    </tr>\n",
       "    <tr>\n",
       "      <th>2</th>\n",
       "      <td>2018-03-01 3:00:00</td>\n",
       "      <td>0.0</td>\n",
       "      <td>0.0</td>\n",
       "      <td>0</td>\n",
       "      <td>0</td>\n",
       "    </tr>\n",
       "    <tr>\n",
       "      <th>3</th>\n",
       "      <td>2018-03-01 4:00:00</td>\n",
       "      <td>0.0</td>\n",
       "      <td>0.0</td>\n",
       "      <td>0</td>\n",
       "      <td>0</td>\n",
       "    </tr>\n",
       "    <tr>\n",
       "      <th>4</th>\n",
       "      <td>2018-03-01 5:00:00</td>\n",
       "      <td>0.0</td>\n",
       "      <td>0.0</td>\n",
       "      <td>0</td>\n",
       "      <td>0</td>\n",
       "    </tr>\n",
       "  </tbody>\n",
       "</table>\n",
       "</div>"
      ],
      "text/plain": [
       "                 time  dangjin_floating  dangjin_warehouse  dangjin  ulsan\n",
       "0  2018-03-01 1:00:00               0.0                0.0        0      0\n",
       "1  2018-03-01 2:00:00               0.0                0.0        0      0\n",
       "2  2018-03-01 3:00:00               0.0                0.0        0      0\n",
       "3  2018-03-01 4:00:00               0.0                0.0        0      0\n",
       "4  2018-03-01 5:00:00               0.0                0.0        0      0"
      ]
     },
     "execution_count": 3,
     "metadata": {},
     "output_type": "execute_result"
    }
   ],
   "source": [
    "energy.head()"
   ]
  },
  {
   "cell_type": "code",
   "execution_count": 4,
   "metadata": {},
   "outputs": [
    {
     "data": {
      "text/html": [
       "<div>\n",
       "<style scoped>\n",
       "    .dataframe tbody tr th:only-of-type {\n",
       "        vertical-align: middle;\n",
       "    }\n",
       "\n",
       "    .dataframe tbody tr th {\n",
       "        vertical-align: top;\n",
       "    }\n",
       "\n",
       "    .dataframe thead th {\n",
       "        text-align: right;\n",
       "    }\n",
       "</style>\n",
       "<table border=\"1\" class=\"dataframe\">\n",
       "  <thead>\n",
       "    <tr style=\"text-align: right;\">\n",
       "      <th></th>\n",
       "      <th>Forecast time</th>\n",
       "      <th>forecast</th>\n",
       "      <th>Temperature</th>\n",
       "      <th>Humidity</th>\n",
       "      <th>WindSpeed</th>\n",
       "      <th>WindDirection</th>\n",
       "      <th>Cloud</th>\n",
       "    </tr>\n",
       "  </thead>\n",
       "  <tbody>\n",
       "    <tr>\n",
       "      <th>0</th>\n",
       "      <td>2018-03-01 11:00:00</td>\n",
       "      <td>4.0</td>\n",
       "      <td>0.0</td>\n",
       "      <td>60.0</td>\n",
       "      <td>7.3</td>\n",
       "      <td>309.0</td>\n",
       "      <td>2.0</td>\n",
       "    </tr>\n",
       "    <tr>\n",
       "      <th>1</th>\n",
       "      <td>2018-03-01 11:00:00</td>\n",
       "      <td>7.0</td>\n",
       "      <td>-2.0</td>\n",
       "      <td>60.0</td>\n",
       "      <td>7.1</td>\n",
       "      <td>314.0</td>\n",
       "      <td>1.0</td>\n",
       "    </tr>\n",
       "    <tr>\n",
       "      <th>2</th>\n",
       "      <td>2018-03-01 11:00:00</td>\n",
       "      <td>10.0</td>\n",
       "      <td>-2.0</td>\n",
       "      <td>60.0</td>\n",
       "      <td>6.7</td>\n",
       "      <td>323.0</td>\n",
       "      <td>1.0</td>\n",
       "    </tr>\n",
       "    <tr>\n",
       "      <th>3</th>\n",
       "      <td>2018-03-01 11:00:00</td>\n",
       "      <td>13.0</td>\n",
       "      <td>-2.0</td>\n",
       "      <td>55.0</td>\n",
       "      <td>6.7</td>\n",
       "      <td>336.0</td>\n",
       "      <td>1.0</td>\n",
       "    </tr>\n",
       "    <tr>\n",
       "      <th>4</th>\n",
       "      <td>2018-03-01 11:00:00</td>\n",
       "      <td>16.0</td>\n",
       "      <td>-4.0</td>\n",
       "      <td>55.0</td>\n",
       "      <td>5.5</td>\n",
       "      <td>339.0</td>\n",
       "      <td>1.0</td>\n",
       "    </tr>\n",
       "  </tbody>\n",
       "</table>\n",
       "</div>"
      ],
      "text/plain": [
       "         Forecast time  forecast  Temperature  Humidity  WindSpeed  \\\n",
       "0  2018-03-01 11:00:00       4.0          0.0      60.0        7.3   \n",
       "1  2018-03-01 11:00:00       7.0         -2.0      60.0        7.1   \n",
       "2  2018-03-01 11:00:00      10.0         -2.0      60.0        6.7   \n",
       "3  2018-03-01 11:00:00      13.0         -2.0      55.0        6.7   \n",
       "4  2018-03-01 11:00:00      16.0         -4.0      55.0        5.5   \n",
       "\n",
       "   WindDirection  Cloud  \n",
       "0          309.0    2.0  \n",
       "1          314.0    1.0  \n",
       "2          323.0    1.0  \n",
       "3          336.0    1.0  \n",
       "4          339.0    1.0  "
      ]
     },
     "execution_count": 4,
     "metadata": {},
     "output_type": "execute_result"
    }
   ],
   "source": [
    "dangjin_fcst.head()"
   ]
  },
  {
   "cell_type": "code",
   "execution_count": 5,
   "metadata": {},
   "outputs": [
    {
     "data": {
      "text/html": [
       "<div>\n",
       "<style scoped>\n",
       "    .dataframe tbody tr th:only-of-type {\n",
       "        vertical-align: middle;\n",
       "    }\n",
       "\n",
       "    .dataframe tbody tr th {\n",
       "        vertical-align: top;\n",
       "    }\n",
       "\n",
       "    .dataframe thead th {\n",
       "        text-align: right;\n",
       "    }\n",
       "</style>\n",
       "<table border=\"1\" class=\"dataframe\">\n",
       "  <thead>\n",
       "    <tr style=\"text-align: right;\">\n",
       "      <th></th>\n",
       "      <th>Forecast time</th>\n",
       "      <th>forecast</th>\n",
       "      <th>Temperature</th>\n",
       "      <th>Humidity</th>\n",
       "      <th>WindSpeed</th>\n",
       "      <th>WindDirection</th>\n",
       "      <th>Cloud</th>\n",
       "    </tr>\n",
       "  </thead>\n",
       "  <tbody>\n",
       "    <tr>\n",
       "      <th>0</th>\n",
       "      <td>2018-03-01 11:00:00</td>\n",
       "      <td>4.0</td>\n",
       "      <td>8.0</td>\n",
       "      <td>20.0</td>\n",
       "      <td>14.0</td>\n",
       "      <td>298.0</td>\n",
       "      <td>2.0</td>\n",
       "    </tr>\n",
       "    <tr>\n",
       "      <th>1</th>\n",
       "      <td>2018-03-01 11:00:00</td>\n",
       "      <td>7.0</td>\n",
       "      <td>4.0</td>\n",
       "      <td>20.0</td>\n",
       "      <td>4.3</td>\n",
       "      <td>298.0</td>\n",
       "      <td>2.0</td>\n",
       "    </tr>\n",
       "    <tr>\n",
       "      <th>2</th>\n",
       "      <td>2018-03-01 11:00:00</td>\n",
       "      <td>10.0</td>\n",
       "      <td>3.0</td>\n",
       "      <td>30.0</td>\n",
       "      <td>1.9</td>\n",
       "      <td>309.0</td>\n",
       "      <td>2.0</td>\n",
       "    </tr>\n",
       "    <tr>\n",
       "      <th>3</th>\n",
       "      <td>2018-03-01 11:00:00</td>\n",
       "      <td>13.0</td>\n",
       "      <td>0.0</td>\n",
       "      <td>40.0</td>\n",
       "      <td>1.5</td>\n",
       "      <td>318.0</td>\n",
       "      <td>2.0</td>\n",
       "    </tr>\n",
       "    <tr>\n",
       "      <th>4</th>\n",
       "      <td>2018-03-01 11:00:00</td>\n",
       "      <td>16.0</td>\n",
       "      <td>-1.0</td>\n",
       "      <td>45.0</td>\n",
       "      <td>1.8</td>\n",
       "      <td>308.0</td>\n",
       "      <td>2.0</td>\n",
       "    </tr>\n",
       "  </tbody>\n",
       "</table>\n",
       "</div>"
      ],
      "text/plain": [
       "         Forecast time  forecast  Temperature  Humidity  WindSpeed  \\\n",
       "0  2018-03-01 11:00:00       4.0          8.0      20.0       14.0   \n",
       "1  2018-03-01 11:00:00       7.0          4.0      20.0        4.3   \n",
       "2  2018-03-01 11:00:00      10.0          3.0      30.0        1.9   \n",
       "3  2018-03-01 11:00:00      13.0          0.0      40.0        1.5   \n",
       "4  2018-03-01 11:00:00      16.0         -1.0      45.0        1.8   \n",
       "\n",
       "   WindDirection  Cloud  \n",
       "0          298.0    2.0  \n",
       "1          298.0    2.0  \n",
       "2          309.0    2.0  \n",
       "3          318.0    2.0  \n",
       "4          308.0    2.0  "
      ]
     },
     "execution_count": 5,
     "metadata": {},
     "output_type": "execute_result"
    }
   ],
   "source": [
    "ulsan_fcst.head()"
   ]
  },
  {
   "cell_type": "markdown",
   "metadata": {},
   "source": [
    "기상 예보는 전날 14시(오후 2시) 예보를 선형보간하여 사용하였습니다.\n",
    "\n",
    "※ 기상 예보 전치리 과정 : https://dacon.io/competitions/official/235720/codeshare/2499?page=1&dtype=recent"
   ]
  },
  {
   "cell_type": "code",
   "execution_count": 6,
   "metadata": {},
   "outputs": [],
   "source": [
    "dangjin_fcst['Forecast_time'] = pd.to_datetime(dangjin_fcst['Forecast time'])\n",
    "ulsan_fcst['Forecast_time'] = pd.to_datetime(ulsan_fcst['Forecast time'])"
   ]
  },
  {
   "cell_type": "code",
   "execution_count": 7,
   "metadata": {},
   "outputs": [],
   "source": [
    "dangjin_fcst_14 = dangjin_fcst[dangjin_fcst['Forecast_time'].dt.hour==14]\n",
    "ulsan_fcst_14 = ulsan_fcst[ulsan_fcst['Forecast_time'].dt.hour==14]"
   ]
  },
  {
   "cell_type": "code",
   "execution_count": 8,
   "metadata": {},
   "outputs": [],
   "source": [
    "dangjin_fcst_14 = dangjin_fcst_14[(dangjin_fcst_14['forecast']>=10)&(dangjin_fcst_14['forecast']<=33)]\n",
    "ulsan_fcst_14 = ulsan_fcst_14[(ulsan_fcst_14['forecast']>=10)&(ulsan_fcst_14['forecast']<=33)]"
   ]
  },
  {
   "cell_type": "code",
   "execution_count": 9,
   "metadata": {},
   "outputs": [
    {
     "name": "stderr",
     "output_type": "stream",
     "text": [
      "D:\\Anaconda\\envs\\data_engeneering\\lib\\site-packages\\pandas\\core\\arrays\\datetimelike.py:1111: PerformanceWarning: Adding/subtracting object-dtype array to DatetimeArray not vectorized\n",
      "  PerformanceWarning,\n"
     ]
    }
   ],
   "source": [
    "def to_date(x):\n",
    "    return pd.DateOffset(hours=x)\n",
    "\n",
    "dangjin_fcst_14['Forecast_time'] = dangjin_fcst_14['Forecast_time'] + dangjin_fcst_14['forecast'].map(to_date)\n",
    "ulsan_fcst_14['Forecast_time'] = ulsan_fcst_14['Forecast_time'] + ulsan_fcst_14['forecast'].map(to_date)"
   ]
  },
  {
   "cell_type": "code",
   "execution_count": 10,
   "metadata": {},
   "outputs": [],
   "source": [
    "dangjin_fcst_14 = dangjin_fcst_14[['Forecast_time', 'Temperature', 'Humidity', 'WindSpeed', 'WindDirection', 'Cloud']]\n",
    "ulsan_fcst_14 = ulsan_fcst_14[['Forecast_time', 'Temperature', 'Humidity', 'WindSpeed', 'WindDirection', 'Cloud']]"
   ]
  },
  {
   "cell_type": "code",
   "execution_count": 11,
   "metadata": {},
   "outputs": [],
   "source": [
    "dangjin_fcst_14_ = pd.DataFrame()\n",
    "dangjin_fcst_14_['Forecast_time'] = pd.date_range(start='2018-03-02 00:00:00', end='2021-03-01 23:00:00', freq='H')\n",
    "\n",
    "ulsan_fcst_14_ = pd.DataFrame()\n",
    "ulsan_fcst_14_['Forecast_time'] = pd.date_range(start='2018-03-02 00:00:00', end='2021-03-01 23:00:00', freq='H')"
   ]
  },
  {
   "cell_type": "code",
   "execution_count": 12,
   "metadata": {},
   "outputs": [],
   "source": [
    "dangjin_fcst_14_ = pd.merge(dangjin_fcst_14_, dangjin_fcst_14, on='Forecast_time', how='outer')\n",
    "ulsan_fcst_14_ = pd.merge(ulsan_fcst_14_, ulsan_fcst_14, on='Forecast_time', how='outer')"
   ]
  },
  {
   "cell_type": "code",
   "execution_count": 13,
   "metadata": {},
   "outputs": [],
   "source": [
    "dangjin_fcst = dangjin_fcst_14_.interpolate()\n",
    "ulsan_fcst = ulsan_fcst_14_.interpolate()"
   ]
  },
  {
   "cell_type": "code",
   "execution_count": 14,
   "metadata": {},
   "outputs": [],
   "source": [
    "dangjin_fcst['Forecast_time'] = dangjin_fcst['Forecast_time'].astype(str)\n",
    "ulsan_fcst['Forecast_time'] = ulsan_fcst['Forecast_time'].astype(str)"
   ]
  },
  {
   "cell_type": "code",
   "execution_count": 15,
   "metadata": {},
   "outputs": [
    {
     "data": {
      "text/html": [
       "<div>\n",
       "<style scoped>\n",
       "    .dataframe tbody tr th:only-of-type {\n",
       "        vertical-align: middle;\n",
       "    }\n",
       "\n",
       "    .dataframe tbody tr th {\n",
       "        vertical-align: top;\n",
       "    }\n",
       "\n",
       "    .dataframe thead th {\n",
       "        text-align: right;\n",
       "    }\n",
       "</style>\n",
       "<table border=\"1\" class=\"dataframe\">\n",
       "  <thead>\n",
       "    <tr style=\"text-align: right;\">\n",
       "      <th></th>\n",
       "      <th>Forecast_time</th>\n",
       "      <th>Temperature</th>\n",
       "      <th>Humidity</th>\n",
       "      <th>WindSpeed</th>\n",
       "      <th>WindDirection</th>\n",
       "      <th>Cloud</th>\n",
       "    </tr>\n",
       "  </thead>\n",
       "  <tbody>\n",
       "    <tr>\n",
       "      <th>26299</th>\n",
       "      <td>2021-03-01 19:00:00</td>\n",
       "      <td>6.333333</td>\n",
       "      <td>85.0</td>\n",
       "      <td>6.3</td>\n",
       "      <td>31.666667</td>\n",
       "      <td>4.0</td>\n",
       "    </tr>\n",
       "    <tr>\n",
       "      <th>26300</th>\n",
       "      <td>2021-03-01 20:00:00</td>\n",
       "      <td>5.666667</td>\n",
       "      <td>85.0</td>\n",
       "      <td>6.1</td>\n",
       "      <td>29.333333</td>\n",
       "      <td>4.0</td>\n",
       "    </tr>\n",
       "    <tr>\n",
       "      <th>26301</th>\n",
       "      <td>2021-03-01 21:00:00</td>\n",
       "      <td>5.000000</td>\n",
       "      <td>85.0</td>\n",
       "      <td>5.9</td>\n",
       "      <td>27.000000</td>\n",
       "      <td>4.0</td>\n",
       "    </tr>\n",
       "    <tr>\n",
       "      <th>26302</th>\n",
       "      <td>2021-03-01 22:00:00</td>\n",
       "      <td>5.000000</td>\n",
       "      <td>85.0</td>\n",
       "      <td>5.9</td>\n",
       "      <td>27.000000</td>\n",
       "      <td>4.0</td>\n",
       "    </tr>\n",
       "    <tr>\n",
       "      <th>26303</th>\n",
       "      <td>2021-03-01 23:00:00</td>\n",
       "      <td>5.000000</td>\n",
       "      <td>85.0</td>\n",
       "      <td>5.9</td>\n",
       "      <td>27.000000</td>\n",
       "      <td>4.0</td>\n",
       "    </tr>\n",
       "  </tbody>\n",
       "</table>\n",
       "</div>"
      ],
      "text/plain": [
       "             Forecast_time  Temperature  Humidity  WindSpeed  WindDirection  \\\n",
       "26299  2021-03-01 19:00:00     6.333333      85.0        6.3      31.666667   \n",
       "26300  2021-03-01 20:00:00     5.666667      85.0        6.1      29.333333   \n",
       "26301  2021-03-01 21:00:00     5.000000      85.0        5.9      27.000000   \n",
       "26302  2021-03-01 22:00:00     5.000000      85.0        5.9      27.000000   \n",
       "26303  2021-03-01 23:00:00     5.000000      85.0        5.9      27.000000   \n",
       "\n",
       "       Cloud  \n",
       "26299    4.0  \n",
       "26300    4.0  \n",
       "26301    4.0  \n",
       "26302    4.0  \n",
       "26303    4.0  "
      ]
     },
     "execution_count": 15,
     "metadata": {},
     "output_type": "execute_result"
    }
   ],
   "source": [
    "dangjin_fcst.tail()"
   ]
  },
  {
   "cell_type": "code",
   "execution_count": 16,
   "metadata": {},
   "outputs": [
    {
     "data": {
      "text/html": [
       "<div>\n",
       "<style scoped>\n",
       "    .dataframe tbody tr th:only-of-type {\n",
       "        vertical-align: middle;\n",
       "    }\n",
       "\n",
       "    .dataframe tbody tr th {\n",
       "        vertical-align: top;\n",
       "    }\n",
       "\n",
       "    .dataframe thead th {\n",
       "        text-align: right;\n",
       "    }\n",
       "</style>\n",
       "<table border=\"1\" class=\"dataframe\">\n",
       "  <thead>\n",
       "    <tr style=\"text-align: right;\">\n",
       "      <th></th>\n",
       "      <th>Forecast_time</th>\n",
       "      <th>Temperature</th>\n",
       "      <th>Humidity</th>\n",
       "      <th>WindSpeed</th>\n",
       "      <th>WindDirection</th>\n",
       "      <th>Cloud</th>\n",
       "    </tr>\n",
       "  </thead>\n",
       "  <tbody>\n",
       "    <tr>\n",
       "      <th>0</th>\n",
       "      <td>2018-03-02 00:00:00</td>\n",
       "      <td>0.000000</td>\n",
       "      <td>40.000000</td>\n",
       "      <td>1.500000</td>\n",
       "      <td>318.000000</td>\n",
       "      <td>2.000000</td>\n",
       "    </tr>\n",
       "    <tr>\n",
       "      <th>1</th>\n",
       "      <td>2018-03-02 01:00:00</td>\n",
       "      <td>-0.333333</td>\n",
       "      <td>41.666667</td>\n",
       "      <td>1.600000</td>\n",
       "      <td>314.666667</td>\n",
       "      <td>2.000000</td>\n",
       "    </tr>\n",
       "    <tr>\n",
       "      <th>2</th>\n",
       "      <td>2018-03-02 02:00:00</td>\n",
       "      <td>-0.666667</td>\n",
       "      <td>43.333333</td>\n",
       "      <td>1.700000</td>\n",
       "      <td>311.333333</td>\n",
       "      <td>2.000000</td>\n",
       "    </tr>\n",
       "    <tr>\n",
       "      <th>3</th>\n",
       "      <td>2018-03-02 03:00:00</td>\n",
       "      <td>-1.000000</td>\n",
       "      <td>45.000000</td>\n",
       "      <td>1.800000</td>\n",
       "      <td>308.000000</td>\n",
       "      <td>2.000000</td>\n",
       "    </tr>\n",
       "    <tr>\n",
       "      <th>4</th>\n",
       "      <td>2018-03-02 04:00:00</td>\n",
       "      <td>-1.333333</td>\n",
       "      <td>45.000000</td>\n",
       "      <td>1.766667</td>\n",
       "      <td>303.333333</td>\n",
       "      <td>1.666667</td>\n",
       "    </tr>\n",
       "  </tbody>\n",
       "</table>\n",
       "</div>"
      ],
      "text/plain": [
       "         Forecast_time  Temperature   Humidity  WindSpeed  WindDirection  \\\n",
       "0  2018-03-02 00:00:00     0.000000  40.000000   1.500000     318.000000   \n",
       "1  2018-03-02 01:00:00    -0.333333  41.666667   1.600000     314.666667   \n",
       "2  2018-03-02 02:00:00    -0.666667  43.333333   1.700000     311.333333   \n",
       "3  2018-03-02 03:00:00    -1.000000  45.000000   1.800000     308.000000   \n",
       "4  2018-03-02 04:00:00    -1.333333  45.000000   1.766667     303.333333   \n",
       "\n",
       "      Cloud  \n",
       "0  2.000000  \n",
       "1  2.000000  \n",
       "2  2.000000  \n",
       "3  2.000000  \n",
       "4  1.666667  "
      ]
     },
     "execution_count": 16,
     "metadata": {},
     "output_type": "execute_result"
    }
   ],
   "source": [
    "ulsan_fcst.head()"
   ]
  },
  {
   "cell_type": "code",
   "execution_count": 17,
   "metadata": {},
   "outputs": [],
   "source": [
    "dangjin_fcst.to_csv('data/preprocessed_dangjin_fcst.csv')\n",
    "ulsan_fcst.to_csv('data/preprocessed_ulsan_fcst.csv')"
   ]
  },
  {
   "cell_type": "markdown",
   "metadata": {},
   "source": [
    "## 학습 데이터 전처리"
   ]
  },
  {
   "cell_type": "code",
   "execution_count": 18,
   "metadata": {},
   "outputs": [],
   "source": [
    "def train_datast(energy_df, fcst_df, target):\n",
    "    # 일기 예보 있는 날짜만 선택\n",
    "    energy = energy_df.loc[24:]\n",
    "    energy.index = range(energy.shape[0])\n",
    "    \n",
    "    # 발전량 데이터가 있는 날짜만 선택\n",
    "    fcst = fcst_df.loc[:25608-1]\n",
    "    print(fcst)\n",
    "    fcst.index = range(fcst.shape[0])\n",
    "    \n",
    "    # 발전량과 일기예보 연결\n",
    "    concat_df = pd.concat([energy, fcst], axis=1)\n",
    "    \n",
    "    # 예보 시간 및 날짜 정보 feature로 추가\n",
    "    concat_df['date'] = concat_df['Forecast_time'].str.split(' ').str[0]\n",
    "    concat_df['hour'] = concat_df['Forecast_time'].str.split(' ').str[1].str.split(':').str[0].astype(int)\n",
    "    \n",
    "    concat_df['year'] = concat_df['date'].str.split('-').str[0].astype(int)\n",
    "    concat_df['month'] = concat_df['date'].str.split('-').str[1].astype(int)\n",
    "    concat_df['day'] = concat_df['date'].str.split('-').str[2].astype(int)\n",
    "    \n",
    "    # 예보 시간, 날짜, 기상 예보 및 발전량 선택\n",
    "    feature_df = concat_df[['year', 'month', 'day', 'hour', 'Temperature', 'Humidity', 'WindSpeed', 'WindDirection', 'Cloud', target]]\n",
    "    \n",
    "    # 마지막 30일을 검증데이터셋으로 나머지를 학습 데이터셋으로 선택\n",
    "    train_df = feature_df.iloc[:-24*30]\n",
    "    val_df = feature_df.iloc[-24*30:]\n",
    "    \n",
    "    # 발전량이 0인 데이터를 제외\n",
    "    train_df = train_df[train_df[target]!=0]\n",
    "    \n",
    "    train_x = train_df.loc[:, 'year':'Cloud'].to_numpy()\n",
    "    train_y = train_df[target].to_numpy()\n",
    "    \n",
    "    val_x = val_df.loc[:, 'year':'Cloud'].to_numpy()\n",
    "    val_y = val_df[target].to_numpy()\n",
    "    \n",
    "    return train_x, train_y, val_x, val_y"
   ]
  },
  {
   "cell_type": "markdown",
   "metadata": {},
   "source": [
    "## LightGBM Custom Metric"
   ]
  },
  {
   "cell_type": "code",
   "execution_count": 19,
   "metadata": {},
   "outputs": [],
   "source": [
    "def nmae_10(y_pred, dataset):\n",
    "    y_true = dataset.get_label()\n",
    "    \n",
    "    absolute_error = abs(y_true - y_pred)\n",
    "    absolute_error /= capacity\n",
    "    \n",
    "    target_idx = np.where(y_true>=capacity*0.1)\n",
    "    \n",
    "    nmae = 100 * absolute_error[target_idx].mean()\n",
    "    \n",
    "    return 'score', nmae, False"
   ]
  },
  {
   "cell_type": "markdown",
   "metadata": {},
   "source": [
    "## Validation Metric"
   ]
  },
  {
   "cell_type": "code",
   "execution_count": 20,
   "metadata": {},
   "outputs": [],
   "source": [
    "def sola_nmae(answer, pred):\n",
    "    absolute_error = np.abs(answer - pred)\n",
    "    \n",
    "    absolute_error /= capacity\n",
    "    \n",
    "    target_idx = np.where(answer>=capacity*0.1)\n",
    "    \n",
    "    nmae = 100 * absolute_error[target_idx].mean()\n",
    "    \n",
    "    return nmae"
   ]
  },
  {
   "cell_type": "markdown",
   "metadata": {},
   "source": [
    "## LightGBM Hyperparameter"
   ]
  },
  {
   "cell_type": "code",
   "execution_count": 21,
   "metadata": {},
   "outputs": [],
   "source": [
    "params = {\n",
    "    'learning_rate': 0.01,\n",
    "    'objective': 'regression',\n",
    "    'metric':'mae',\n",
    "    'seed':42\n",
    "}"
   ]
  },
  {
   "cell_type": "markdown",
   "metadata": {},
   "source": [
    "### 당진수상태양광 예측 모델 학습"
   ]
  },
  {
   "cell_type": "code",
   "execution_count": 22,
   "metadata": {},
   "outputs": [
    {
     "name": "stdout",
     "output_type": "stream",
     "text": [
      "             Forecast_time  Temperature   Humidity  WindSpeed  WindDirection  \\\n",
      "0      2018-03-02 00:00:00    -2.000000  55.000000   6.700000     336.000000   \n",
      "1      2018-03-02 01:00:00    -2.666667  55.000000   6.300000     337.000000   \n",
      "2      2018-03-02 02:00:00    -3.333333  55.000000   5.900000     338.000000   \n",
      "3      2018-03-02 03:00:00    -4.000000  55.000000   5.500000     339.000000   \n",
      "4      2018-03-02 04:00:00    -4.333333  56.666667   5.100000     340.666667   \n",
      "...                    ...          ...        ...        ...            ...   \n",
      "25603  2021-01-31 19:00:00     5.666667  76.666667   3.266667     170.666667   \n",
      "25604  2021-01-31 20:00:00     5.333333  78.333333   3.433333     167.333333   \n",
      "25605  2021-01-31 21:00:00     5.000000  80.000000   3.600000     164.000000   \n",
      "25606  2021-01-31 22:00:00     5.333333  80.000000   4.266667     168.333333   \n",
      "25607  2021-01-31 23:00:00     5.666667  80.000000   4.933333     172.666667   \n",
      "\n",
      "       Cloud  \n",
      "0        1.0  \n",
      "1        1.0  \n",
      "2        1.0  \n",
      "3        1.0  \n",
      "4        1.0  \n",
      "...      ...  \n",
      "25603    4.0  \n",
      "25604    4.0  \n",
      "25605    4.0  \n",
      "25606    4.0  \n",
      "25607    4.0  \n",
      "\n",
      "[25608 rows x 6 columns]\n"
     ]
    }
   ],
   "source": [
    "train_x, train_y, val_x, val_y = train_datast(energy, dangjin_fcst, target='dangjin_floating')\n",
    "train_dataset = lgb.Dataset(train_x, train_y)\n",
    "val_dataset = lgb.Dataset(val_x, val_y)\n",
    "capacity = 1000\n",
    "# dangjin_floating_model = lgb.train(params, train_dataset, 10000, val_dataset, feval=nmae_10, verbose_eval=500, early_stopping_rounds=100)"
   ]
  },
  {
   "cell_type": "code",
   "execution_count": 23,
   "metadata": {},
   "outputs": [
    {
     "ename": "NameError",
     "evalue": "name 'dangjin_floating_model' is not defined",
     "output_type": "error",
     "traceback": [
      "\u001b[1;31m---------------------------------------------------------------------------\u001b[0m",
      "\u001b[1;31mNameError\u001b[0m                                 Traceback (most recent call last)",
      "\u001b[1;32m<ipython-input-23-d2de44d61dc7>\u001b[0m in \u001b[0;36m<module>\u001b[1;34m\u001b[0m\n\u001b[1;32m----> 1\u001b[1;33m \u001b[0mpred\u001b[0m \u001b[1;33m=\u001b[0m \u001b[0mdangjin_floating_model\u001b[0m\u001b[1;33m.\u001b[0m\u001b[0mpredict\u001b[0m\u001b[1;33m(\u001b[0m\u001b[0mval_x\u001b[0m\u001b[1;33m)\u001b[0m\u001b[1;33m\u001b[0m\u001b[1;33m\u001b[0m\u001b[0m\n\u001b[0m\u001b[0;32m      2\u001b[0m \u001b[1;33m\u001b[0m\u001b[0m\n\u001b[0;32m      3\u001b[0m \u001b[0mplt\u001b[0m\u001b[1;33m.\u001b[0m\u001b[0mfigure\u001b[0m\u001b[1;33m(\u001b[0m\u001b[0mfigsize\u001b[0m\u001b[1;33m=\u001b[0m\u001b[1;33m(\u001b[0m\u001b[1;36m20\u001b[0m\u001b[1;33m,\u001b[0m\u001b[1;36m5\u001b[0m\u001b[1;33m)\u001b[0m\u001b[1;33m)\u001b[0m\u001b[1;33m\u001b[0m\u001b[1;33m\u001b[0m\u001b[0m\n\u001b[0;32m      4\u001b[0m \u001b[0mplt\u001b[0m\u001b[1;33m.\u001b[0m\u001b[0mplot\u001b[0m\u001b[1;33m(\u001b[0m\u001b[0mval_y\u001b[0m\u001b[1;33m,\u001b[0m \u001b[0mlabel\u001b[0m\u001b[1;33m=\u001b[0m\u001b[1;34m'true'\u001b[0m\u001b[1;33m)\u001b[0m\u001b[1;33m\u001b[0m\u001b[1;33m\u001b[0m\u001b[0m\n\u001b[0;32m      5\u001b[0m \u001b[0mplt\u001b[0m\u001b[1;33m.\u001b[0m\u001b[0mplot\u001b[0m\u001b[1;33m(\u001b[0m\u001b[0mpred\u001b[0m\u001b[1;33m,\u001b[0m \u001b[0mlabel\u001b[0m\u001b[1;33m=\u001b[0m\u001b[1;34m'pred'\u001b[0m\u001b[1;33m)\u001b[0m\u001b[1;33m\u001b[0m\u001b[1;33m\u001b[0m\u001b[0m\n",
      "\u001b[1;31mNameError\u001b[0m: name 'dangjin_floating_model' is not defined"
     ]
    }
   ],
   "source": [
    "pred = dangjin_floating_model.predict(val_x)\n",
    "\n",
    "plt.figure(figsize=(20,5))\n",
    "plt.plot(val_y, label='true')\n",
    "plt.plot(pred, label='pred')\n",
    "plt.legend()\n",
    "plt.show()\n",
    "print('CV Score : ', sola_nmae(val_y, pred))"
   ]
  },
  {
   "cell_type": "markdown",
   "metadata": {},
   "source": [
    "### 당진자재창고태양광 예측 모델 학습"
   ]
  },
  {
   "cell_type": "code",
   "execution_count": null,
   "metadata": {},
   "outputs": [],
   "source": [
    "train_x, train_y, val_x, val_y = train_datast(energy, dangjin_fcst, target='dangjin_warehouse')\n",
    "train_dataset = lgb.Dataset(train_x, train_y)\n",
    "val_dataset = lgb.Dataset(val_x, val_y)\n",
    "capacity = 700\n",
    "dangjin_warehouse_model = lgb.train(params, train_dataset, 10000, val_dataset, feval=nmae_10, verbose_eval=500, early_stopping_rounds=100)"
   ]
  },
  {
   "cell_type": "code",
   "execution_count": null,
   "metadata": {},
   "outputs": [],
   "source": [
    "train_x"
   ]
  },
  {
   "cell_type": "code",
   "execution_count": null,
   "metadata": {},
   "outputs": [],
   "source": [
    "pred = dangjin_warehouse_model.predict(val_x)\n",
    "\n",
    "plt.figure(figsize=(20,5))\n",
    "plt.plot(val_y, label='true')\n",
    "plt.plot(pred, label='pred')\n",
    "plt.legend()\n",
    "plt.show()\n",
    "print('CV Score : ', sola_nmae(val_y, pred))"
   ]
  },
  {
   "cell_type": "markdown",
   "metadata": {},
   "source": [
    "### 당진태양광 예측 모델 학습"
   ]
  },
  {
   "cell_type": "code",
   "execution_count": null,
   "metadata": {},
   "outputs": [],
   "source": [
    "train_x, train_y, val_x, val_y = train_datast(energy, dangjin_fcst, target='dangjin')\n",
    "train_dataset = lgb.Dataset(train_x, train_y)\n",
    "val_dataset = lgb.Dataset(val_x, val_y)\n",
    "capacity = 1000\n",
    "dangjin_model = lgb.train(params, train_dataset, 10000, val_dataset, feval=nmae_10, verbose_eval=500, early_stopping_rounds=100)"
   ]
  },
  {
   "cell_type": "code",
   "execution_count": null,
   "metadata": {},
   "outputs": [],
   "source": [
    "pred = dangjin_model.predict(val_x)\n",
    "\n",
    "plt.figure(figsize=(20,5))\n",
    "plt.plot(val_y, label='true')\n",
    "plt.plot(pred, label='pred')\n",
    "plt.legend()\n",
    "plt.show()\n",
    "print('CV Score : ', sola_nmae(val_y, pred))"
   ]
  },
  {
   "cell_type": "markdown",
   "metadata": {},
   "source": [
    "### 울산태양광 예측 모델 학습"
   ]
  },
  {
   "cell_type": "code",
   "execution_count": null,
   "metadata": {},
   "outputs": [],
   "source": [
    "train_x, train_y, val_x, val_y = train_datast(energy, ulsan_fcst, target='ulsan')\n",
    "train_dataset = lgb.Dataset(train_x, train_y)\n",
    "val_dataset = lgb.Dataset(val_x, val_y)\n",
    "capacity = 500\n",
    "ulsan_model = lgb.train(params, train_dataset, 10000, val_dataset, feval=nmae_10, verbose_eval=500, early_stopping_rounds=100)"
   ]
  },
  {
   "cell_type": "code",
   "execution_count": null,
   "metadata": {},
   "outputs": [],
   "source": [
    "pred = ulsan_model.predict(val_x)\n",
    "\n",
    "plt.figure(figsize=(20,5))\n",
    "plt.plot(val_y, label='true')\n",
    "plt.plot(pred, label='pred')\n",
    "plt.legend()\n",
    "plt.show()\n",
    "print('CV Score : ', sola_nmae(val_y, pred))"
   ]
  },
  {
   "cell_type": "markdown",
   "metadata": {},
   "source": [
    "## 테스트 데이터 전처리"
   ]
  },
  {
   "cell_type": "code",
   "execution_count": null,
   "metadata": {},
   "outputs": [],
   "source": [
    "def test_datast(fcst_df):\n",
    "    start = '2021-02-01 00:00:00'\n",
    "    end = '2021-02-28 23:00:00'\n",
    "    \n",
    "    start_idx = fcst_df[fcst_df['Forecast_time']==start].index[0]\n",
    "    end_idx = fcst_df[fcst_df['Forecast_time']==end].index[0]\n",
    "    \n",
    "    test_df = fcst_df.loc[start_idx:end_idx, :].copy()\n",
    "    \n",
    "    test_df['date'] = test_df['Forecast_time'].str.split(' ').str[0]\n",
    "    test_df['hour'] = test_df['Forecast_time'].str.split(' ').str[1].str.split(':').str[0].astype(int)\n",
    "    \n",
    "    test_df['year'] = test_df['date'].str.split('-').str[0].astype(int)\n",
    "    test_df['month'] = test_df['date'].str.split('-').str[1].astype(int)\n",
    "    test_df['day'] = test_df['date'].str.split('-').str[2].astype(int)\n",
    "    \n",
    "    test_df = test_df[['year', 'month', 'day', 'hour', 'Temperature', 'Humidity', 'WindSpeed', 'WindDirection', 'Cloud']]\n",
    "    \n",
    "    test_x = test_df.to_numpy()\n",
    "    \n",
    "    return test_x"
   ]
  },
  {
   "cell_type": "code",
   "execution_count": null,
   "metadata": {},
   "outputs": [],
   "source": [
    "dangjin_test = test_datast(dangjin_fcst)\n",
    "ulsan_test = test_datast(ulsan_fcst)"
   ]
  },
  {
   "cell_type": "markdown",
   "metadata": {},
   "source": [
    "## 각 발전소 발전량 추론"
   ]
  },
  {
   "cell_type": "code",
   "execution_count": null,
   "metadata": {},
   "outputs": [],
   "source": [
    "dangjin_floating_pred = dangjin_floating_model.predict(dangjin_test)\n",
    "dangjin_warehouse_pred = dangjin_warehouse_model.predict(dangjin_test)\n",
    "dangjin_pred = dangjin_model.predict(dangjin_test)\n",
    "ulsan_pred = ulsan_model.predict(ulsan_test)"
   ]
  },
  {
   "cell_type": "code",
   "execution_count": null,
   "metadata": {},
   "outputs": [],
   "source": [
    "plt.figure(figsize=(20,5))\n",
    "plt.plot(dangjin_floating_pred, label = 'dangjin_floating_pred')\n",
    "plt.plot(dangjin_warehouse_pred, label = 'dangjin_warehouse_pred')\n",
    "plt.plot(dangjin_pred, label = 'dangjin_pred')\n",
    "plt.plot(ulsan_pred, label = 'ulsan_pred')\n",
    "plt.legend()\n",
    "plt.show()"
   ]
  },
  {
   "cell_type": "markdown",
   "metadata": {},
   "source": [
    "## 제출"
   ]
  },
  {
   "cell_type": "code",
   "execution_count": null,
   "metadata": {},
   "outputs": [],
   "source": [
    "submission = pd.read_csv('./data/sample_submission.csv')"
   ]
  },
  {
   "cell_type": "code",
   "execution_count": null,
   "metadata": {},
   "outputs": [],
   "source": [
    "submission.iloc[:24*28, 1] = dangjin_floating_pred\n",
    "submission.iloc[:24*28, 2] = dangjin_warehouse_pred\n",
    "submission.iloc[:24*28, 3] = dangjin_pred\n",
    "submission.iloc[:24*28, 4] = ulsan_pred"
   ]
  },
  {
   "cell_type": "code",
   "execution_count": null,
   "metadata": {},
   "outputs": [],
   "source": [
    "submission"
   ]
  },
  {
   "cell_type": "code",
   "execution_count": null,
   "metadata": {},
   "outputs": [],
   "source": [
    "submission.to_csv('dacon_baseline.csv', index=False)"
   ]
  }
 ],
 "metadata": {
  "kernelspec": {
   "display_name": "data_engeneering",
   "language": "python",
   "name": "data_engeneering"
  },
  "language_info": {
   "codemirror_mode": {
    "name": "ipython",
    "version": 3
   },
   "file_extension": ".py",
   "mimetype": "text/x-python",
   "name": "python",
   "nbconvert_exporter": "python",
   "pygments_lexer": "ipython3",
   "version": "3.7.10"
  }
 },
 "nbformat": 4,
 "nbformat_minor": 4
}
